{
  "nbformat": 4,
  "nbformat_minor": 0,
  "metadata": {
    "colab": {
      "name": "EPA Compliance - Thinkful Capstone 3",
      "provenance": [],
      "collapsed_sections": [
        "kO38YzT6Fuyv"
      ],
      "toc_visible": true,
      "authorship_tag": "ABX9TyM2WYZ1dWXm4WKW3cWTQdvb",
      "include_colab_link": true
    },
    "kernelspec": {
      "name": "python3",
      "display_name": "Python 3"
    },
    "language_info": {
      "name": "python"
    }
  },
  "cells": [
    {
      "cell_type": "markdown",
      "metadata": {
        "id": "view-in-github",
        "colab_type": "text"
      },
      "source": [
        "<a href=\"https://colab.research.google.com/github/lmhrva/Thinkful/blob/main/EPA_Compliance_Thinkful_Capstone_3.ipynb\" target=\"_parent\"><img src=\"https://colab.research.google.com/assets/colab-badge.svg\" alt=\"Open In Colab\"/></a>"
      ]
    },
    {
      "cell_type": "markdown",
      "metadata": {
        "id": "mGDBpSqG-sJd"
      },
      "source": [
        "# EPA Compliance for the State of Virginia\n",
        "\n",
        "The US Environmental Protection Agency tracks regulates facilities for compliance to environmental sustainability and health standards. They make lots of data available through the site's API. I chose to look at facilities in my home state of Virginia to see how many compliance issues, called Activities in the data, had come up over time in various regions of the state. \n",
        "\n",
        "### Purpose\n",
        "This data can be used by government workers and those interested in environmental regulation to better allocate regulation resources and narrow down any future trends analysis of compliance issues over time and location in Virginia.\n",
        "\n",
        "### Data\n",
        "I pulled data from EPA's [ICIS database](https://www.epa.gov/enviro/icis-model).\n",
        "\n",
        "The Activity Report comes from the [Activity model](https://www.epa.gov/enviro/icis-activity-subject-area-model).\n",
        "\n",
        "The rest come from the [Facility Interest model](https://www.epa.gov/enviro/icis-facility-interest-subject-area-model).\n",
        "\n",
        "The following are the datasets I used as my initial dataframes:\n",
        "1. ICIS_ACTIVITY_RPT_state_code_VA\n",
        "2. ICIS_FACILITY_INTEREST_state_code_VA\n",
        "\n",
        "This is the link to the shared Google Drive folder with my datasets:\n",
        "https://drive.google.com/drive/folders/1Xd1mMksV1EPpoF6j5vkGT_937_T95P4K?usp=sharing\n",
        "\n"
      ]
    },
    {
      "cell_type": "markdown",
      "metadata": {
        "id": "kO38YzT6Fuyv"
      },
      "source": [
        "# Run First"
      ]
    },
    {
      "cell_type": "code",
      "metadata": {
        "colab": {
          "base_uri": "https://localhost:8080/",
          "height": 17
        },
        "id": "ThudUp6ezXir",
        "outputId": "5ca9c96e-cbbb-4222-c1a7-bd91a58d3793"
      },
      "source": [
        "import requests\n",
        "import pandas as pd\n",
        "import numpy as np\n",
        "from sqlalchemy import create_engine\n",
        "import pandas as pd\n",
        "import seaborn as sns \n",
        "import matplotlib as plt\n",
        "sns.set()\n",
        "from scipy import stats\n",
        "\n",
        "# Suppress warnings (warnings do not prevent the code from executing)\n",
        "import warnings\n",
        "warnings.filterwarnings(\"ignore\")"
      ],
      "execution_count": 98,
      "outputs": [
        {
          "output_type": "display_data",
          "data": {
            "text/html": [
              "\n",
              "  <style>\n",
              "    pre {\n",
              "        white-space: pre-wrap;\n",
              "    }\n",
              "  </style>\n",
              "  "
            ],
            "text/plain": [
              "<IPython.core.display.HTML object>"
            ]
          },
          "metadata": {}
        }
      ]
    },
    {
      "cell_type": "code",
      "metadata": {
        "id": "tC1HSAiMFtV3",
        "colab": {
          "base_uri": "https://localhost:8080/",
          "height": 17
        },
        "outputId": "81e00cf3-568e-4b6f-8487-adf0dfc8c189"
      },
      "source": [
        "# with text wrapping\n",
        "from IPython.display import HTML, display\n",
        "\n",
        "def set_css():\n",
        "  display(HTML('''\n",
        "  <style>\n",
        "    pre {\n",
        "        white-space: pre-wrap;\n",
        "    }\n",
        "  </style>\n",
        "  '''))\n",
        "get_ipython().events.register('pre_run_cell', set_css)"
      ],
      "execution_count": 99,
      "outputs": [
        {
          "output_type": "display_data",
          "data": {
            "text/html": [
              "\n",
              "  <style>\n",
              "    pre {\n",
              "        white-space: pre-wrap;\n",
              "    }\n",
              "  </style>\n",
              "  "
            ],
            "text/plain": [
              "<IPython.core.display.HTML object>"
            ]
          },
          "metadata": {}
        }
      ]
    },
    {
      "cell_type": "markdown",
      "metadata": {
        "id": "k6oCrNPAGfas"
      },
      "source": [
        "# Importing Data\n",
        "After pulling the data I needed as csv files, I loaded those into my Google Drive to upload here in Colab.\n",
        "\n",
        "Here again is the link to the shared folder of data:\n",
        "https://drive.google.com/drive/folders/1Xd1mMksV1EPpoF6j5vkGT_937_T95P4K?usp=sharing"
      ]
    },
    {
      "cell_type": "code",
      "metadata": {
        "colab": {
          "base_uri": "https://localhost:8080/",
          "height": 52
        },
        "id": "WLW3vAXHBh-r",
        "outputId": "99c6b7da-bf3e-44f1-fa2a-744686d6f768"
      },
      "source": [
        "# get data from the Colab Datasets folder\n",
        "\n",
        "from google.colab import drive\n",
        "drive.mount('/content/gdrive')"
      ],
      "execution_count": 100,
      "outputs": [
        {
          "output_type": "display_data",
          "data": {
            "text/html": [
              "\n",
              "  <style>\n",
              "    pre {\n",
              "        white-space: pre-wrap;\n",
              "    }\n",
              "  </style>\n",
              "  "
            ],
            "text/plain": [
              "<IPython.core.display.HTML object>"
            ]
          },
          "metadata": {}
        },
        {
          "output_type": "display_data",
          "data": {
            "text/html": [
              "\n",
              "  <style>\n",
              "    pre {\n",
              "        white-space: pre-wrap;\n",
              "    }\n",
              "  </style>\n",
              "  "
            ],
            "text/plain": [
              "<IPython.core.display.HTML object>"
            ]
          },
          "metadata": {}
        },
        {
          "output_type": "stream",
          "text": [
            "Drive already mounted at /content/gdrive; to attempt to forcibly remount, call drive.mount(\"/content/gdrive\", force_remount=True).\n"
          ],
          "name": "stdout"
        }
      ]
    },
    {
      "cell_type": "markdown",
      "metadata": {
        "id": "vzEMX2Emt2ie"
      },
      "source": [
        "## df1: ICIS_ACTIVITY_RPT_state_code_VA\n",
        "\n",
        "This shows all activities associated with facilities in Virginia. I've taken out all FY nulls so the only rows available are ones with FY recorded."
      ]
    },
    {
      "cell_type": "code",
      "metadata": {
        "colab": {
          "base_uri": "https://localhost:8080/",
          "height": 608
        },
        "id": "Fcycv7-78nMv",
        "outputId": "31801287-e3d2-49bf-80f1-840989461878"
      },
      "source": [
        "# import CSV with corrected column names\n",
        "\n",
        "csv1 = '/content/gdrive/My Drive/Colab Datasets - Thinkful Capstone 3/ICIS_ACTIVITY_RPT_state_code_VA_cols.csv'\n",
        "df1 = pd.read_csv(csv1) \n",
        "df1.head(10)"
      ],
      "execution_count": 113,
      "outputs": [
        {
          "output_type": "display_data",
          "data": {
            "text/html": [
              "\n",
              "  <style>\n",
              "    pre {\n",
              "        white-space: pre-wrap;\n",
              "    }\n",
              "  </style>\n",
              "  "
            ],
            "text/plain": [
              "<IPython.core.display.HTML object>"
            ]
          },
          "metadata": {}
        },
        {
          "output_type": "display_data",
          "data": {
            "text/html": [
              "\n",
              "  <style>\n",
              "    pre {\n",
              "        white-space: pre-wrap;\n",
              "    }\n",
              "  </style>\n",
              "  "
            ],
            "text/plain": [
              "<IPython.core.display.HTML object>"
            ]
          },
          "metadata": {}
        },
        {
          "output_type": "execute_result",
          "data": {
            "text/html": [
              "<div>\n",
              "<style scoped>\n",
              "    .dataframe tbody tr th:only-of-type {\n",
              "        vertical-align: middle;\n",
              "    }\n",
              "\n",
              "    .dataframe tbody tr th {\n",
              "        vertical-align: top;\n",
              "    }\n",
              "\n",
              "    .dataframe thead th {\n",
              "        text-align: right;\n",
              "    }\n",
              "</style>\n",
              "<table border=\"1\" class=\"dataframe\">\n",
              "  <thead>\n",
              "    <tr style=\"text-align: right;\">\n",
              "      <th></th>\n",
              "      <th>ICIS_FACILITY_INTEREST_ID</th>\n",
              "      <th>ACTIVITY_ID</th>\n",
              "      <th>ACTIVITY_NAME</th>\n",
              "      <th>ACTIVITY_TYPE_CODE</th>\n",
              "      <th>STATE_CODE</th>\n",
              "      <th>COMP_INCENTIVE_DESC</th>\n",
              "      <th>ACTIVITY_TYPE_DESC</th>\n",
              "      <th>STATE_DESC</th>\n",
              "      <th>FISCAL_YEAR</th>\n",
              "      <th>REGION_DESC</th>\n",
              "      <th>ACTUAL_BEGIN_DATE</th>\n",
              "      <th>ACTIVITY_STATUS_DATE</th>\n",
              "      <th>PLANNED_BEGIN_DATE</th>\n",
              "      <th>ACTUAL_END_DATE</th>\n",
              "      <th>PLANNED_END_DATE</th>\n",
              "      <th>CANCELLATION_DATE</th>\n",
              "      <th>ACTIVITY_STATUS_DESC</th>\n",
              "      <th>DURATION</th>\n",
              "      <th>TOTAL_HOURS</th>\n",
              "      <th>MULTIMEDIA_FLAG</th>\n",
              "      <th>CANCELLATION_REASON_DESC</th>\n",
              "      <th>SENSITIVE_DATA_FLAG</th>\n",
              "      <th>INTERNAL_REVIEW_FLAG</th>\n",
              "      <th>COORDINATED_FLAG</th>\n",
              "      <th>CONSOLIDATED_FLAG</th>\n",
              "      <th>EPA_ASSIST_FLAG</th>\n",
              "      <th>PLANNED_BEGIN_DATE_FY</th>\n",
              "      <th>PLANNED_BEGIN_DATE_FYQ</th>\n",
              "      <th>ACTUAL_BEGIN_DATE_FY</th>\n",
              "      <th>ACTUAL_BEGIN_DATE_FYQ</th>\n",
              "      <th>PLANNED_END_DATE_FY</th>\n",
              "      <th>PLANNED_END_DATE_FYQ</th>\n",
              "      <th>ACTUAL_END_DATE_FY</th>\n",
              "      <th>ACTUAL_END_DATE_FYQ</th>\n",
              "      <th>STATE_EPA_FLAG</th>\n",
              "      <th>MOST_RECENT_ADOPT_DATE</th>\n",
              "    </tr>\n",
              "  </thead>\n",
              "  <tbody>\n",
              "    <tr>\n",
              "      <th>0</th>\n",
              "      <td>29520</td>\n",
              "      <td>74296</td>\n",
              "      <td>PRESTON&amp;apos;S SERVICE CORP                   ...</td>\n",
              "      <td>CMD</td>\n",
              "      <td>VA</td>\n",
              "      <td>NaN</td>\n",
              "      <td>Compliance Determination</td>\n",
              "      <td>Virginia</td>\n",
              "      <td>2000.0</td>\n",
              "      <td>Washington Headquarters</td>\n",
              "      <td>NaN</td>\n",
              "      <td>NaN</td>\n",
              "      <td>NaN</td>\n",
              "      <td>NaN</td>\n",
              "      <td>NaN</td>\n",
              "      <td>NaN</td>\n",
              "      <td>Active</td>\n",
              "      <td>NaN</td>\n",
              "      <td>NaN</td>\n",
              "      <td>N</td>\n",
              "      <td>NaN</td>\n",
              "      <td>N</td>\n",
              "      <td>N</td>\n",
              "      <td>NaN</td>\n",
              "      <td>NaN</td>\n",
              "      <td>NaN</td>\n",
              "      <td>NaN</td>\n",
              "      <td>NaN</td>\n",
              "      <td>NaN</td>\n",
              "      <td>NaN</td>\n",
              "      <td>NaN</td>\n",
              "      <td>NaN</td>\n",
              "      <td>NaN</td>\n",
              "      <td>NaN</td>\n",
              "      <td>E</td>\n",
              "      <td>NaN</td>\n",
              "    </tr>\n",
              "    <tr>\n",
              "      <th>1</th>\n",
              "      <td>10389</td>\n",
              "      <td>74299</td>\n",
              "      <td>ENVIRONMENTAL SOLUTIONS, INC                  ...</td>\n",
              "      <td>CMD</td>\n",
              "      <td>VA</td>\n",
              "      <td>NaN</td>\n",
              "      <td>Compliance Determination</td>\n",
              "      <td>Virginia</td>\n",
              "      <td>2000.0</td>\n",
              "      <td>Washington Headquarters</td>\n",
              "      <td>NaN</td>\n",
              "      <td>NaN</td>\n",
              "      <td>NaN</td>\n",
              "      <td>NaN</td>\n",
              "      <td>NaN</td>\n",
              "      <td>NaN</td>\n",
              "      <td>Active</td>\n",
              "      <td>NaN</td>\n",
              "      <td>NaN</td>\n",
              "      <td>N</td>\n",
              "      <td>NaN</td>\n",
              "      <td>N</td>\n",
              "      <td>N</td>\n",
              "      <td>NaN</td>\n",
              "      <td>NaN</td>\n",
              "      <td>NaN</td>\n",
              "      <td>NaN</td>\n",
              "      <td>NaN</td>\n",
              "      <td>NaN</td>\n",
              "      <td>NaN</td>\n",
              "      <td>NaN</td>\n",
              "      <td>NaN</td>\n",
              "      <td>NaN</td>\n",
              "      <td>NaN</td>\n",
              "      <td>E</td>\n",
              "      <td>NaN</td>\n",
              "    </tr>\n",
              "    <tr>\n",
              "      <th>2</th>\n",
              "      <td>8117</td>\n",
              "      <td>74221</td>\n",
              "      <td>SIERRA MANUFACTURING COMPANY OF VIRGINIA      ...</td>\n",
              "      <td>CMD</td>\n",
              "      <td>VA</td>\n",
              "      <td>NaN</td>\n",
              "      <td>Compliance Determination</td>\n",
              "      <td>Virginia</td>\n",
              "      <td>1992.0</td>\n",
              "      <td>Washington Headquarters</td>\n",
              "      <td>NaN</td>\n",
              "      <td>NaN</td>\n",
              "      <td>NaN</td>\n",
              "      <td>NaN</td>\n",
              "      <td>NaN</td>\n",
              "      <td>NaN</td>\n",
              "      <td>Active</td>\n",
              "      <td>NaN</td>\n",
              "      <td>NaN</td>\n",
              "      <td>N</td>\n",
              "      <td>NaN</td>\n",
              "      <td>N</td>\n",
              "      <td>N</td>\n",
              "      <td>NaN</td>\n",
              "      <td>NaN</td>\n",
              "      <td>NaN</td>\n",
              "      <td>NaN</td>\n",
              "      <td>NaN</td>\n",
              "      <td>NaN</td>\n",
              "      <td>NaN</td>\n",
              "      <td>NaN</td>\n",
              "      <td>NaN</td>\n",
              "      <td>NaN</td>\n",
              "      <td>NaN</td>\n",
              "      <td>E</td>\n",
              "      <td>NaN</td>\n",
              "    </tr>\n",
              "    <tr>\n",
              "      <th>3</th>\n",
              "      <td>18424</td>\n",
              "      <td>74348</td>\n",
              "      <td>MOBIL OIL                                     ...</td>\n",
              "      <td>CMD</td>\n",
              "      <td>VA</td>\n",
              "      <td>NaN</td>\n",
              "      <td>Compliance Determination</td>\n",
              "      <td>Virginia</td>\n",
              "      <td>2000.0</td>\n",
              "      <td>Washington Headquarters</td>\n",
              "      <td>NaN</td>\n",
              "      <td>NaN</td>\n",
              "      <td>NaN</td>\n",
              "      <td>NaN</td>\n",
              "      <td>NaN</td>\n",
              "      <td>NaN</td>\n",
              "      <td>Active</td>\n",
              "      <td>NaN</td>\n",
              "      <td>NaN</td>\n",
              "      <td>N</td>\n",
              "      <td>NaN</td>\n",
              "      <td>N</td>\n",
              "      <td>N</td>\n",
              "      <td>NaN</td>\n",
              "      <td>NaN</td>\n",
              "      <td>NaN</td>\n",
              "      <td>NaN</td>\n",
              "      <td>NaN</td>\n",
              "      <td>NaN</td>\n",
              "      <td>NaN</td>\n",
              "      <td>NaN</td>\n",
              "      <td>NaN</td>\n",
              "      <td>NaN</td>\n",
              "      <td>NaN</td>\n",
              "      <td>E</td>\n",
              "      <td>NaN</td>\n",
              "    </tr>\n",
              "    <tr>\n",
              "      <th>4</th>\n",
              "      <td>22401</td>\n",
              "      <td>74348</td>\n",
              "      <td>MOBIL OIL                                     ...</td>\n",
              "      <td>CMD</td>\n",
              "      <td>VA</td>\n",
              "      <td>NaN</td>\n",
              "      <td>Compliance Determination</td>\n",
              "      <td>Virginia</td>\n",
              "      <td>2000.0</td>\n",
              "      <td>Washington Headquarters</td>\n",
              "      <td>NaN</td>\n",
              "      <td>NaN</td>\n",
              "      <td>NaN</td>\n",
              "      <td>NaN</td>\n",
              "      <td>NaN</td>\n",
              "      <td>NaN</td>\n",
              "      <td>Active</td>\n",
              "      <td>NaN</td>\n",
              "      <td>NaN</td>\n",
              "      <td>N</td>\n",
              "      <td>NaN</td>\n",
              "      <td>N</td>\n",
              "      <td>N</td>\n",
              "      <td>NaN</td>\n",
              "      <td>NaN</td>\n",
              "      <td>NaN</td>\n",
              "      <td>NaN</td>\n",
              "      <td>NaN</td>\n",
              "      <td>NaN</td>\n",
              "      <td>NaN</td>\n",
              "      <td>NaN</td>\n",
              "      <td>NaN</td>\n",
              "      <td>NaN</td>\n",
              "      <td>NaN</td>\n",
              "      <td>E</td>\n",
              "      <td>NaN</td>\n",
              "    </tr>\n",
              "    <tr>\n",
              "      <th>5</th>\n",
              "      <td>1185</td>\n",
              "      <td>74348</td>\n",
              "      <td>MOBIL OIL                                     ...</td>\n",
              "      <td>CMD</td>\n",
              "      <td>VA</td>\n",
              "      <td>NaN</td>\n",
              "      <td>Compliance Determination</td>\n",
              "      <td>Virginia</td>\n",
              "      <td>2000.0</td>\n",
              "      <td>Washington Headquarters</td>\n",
              "      <td>NaN</td>\n",
              "      <td>NaN</td>\n",
              "      <td>NaN</td>\n",
              "      <td>NaN</td>\n",
              "      <td>NaN</td>\n",
              "      <td>NaN</td>\n",
              "      <td>Active</td>\n",
              "      <td>NaN</td>\n",
              "      <td>NaN</td>\n",
              "      <td>N</td>\n",
              "      <td>NaN</td>\n",
              "      <td>N</td>\n",
              "      <td>N</td>\n",
              "      <td>NaN</td>\n",
              "      <td>NaN</td>\n",
              "      <td>NaN</td>\n",
              "      <td>NaN</td>\n",
              "      <td>NaN</td>\n",
              "      <td>NaN</td>\n",
              "      <td>NaN</td>\n",
              "      <td>NaN</td>\n",
              "      <td>NaN</td>\n",
              "      <td>NaN</td>\n",
              "      <td>NaN</td>\n",
              "      <td>E</td>\n",
              "      <td>NaN</td>\n",
              "    </tr>\n",
              "    <tr>\n",
              "      <th>6</th>\n",
              "      <td>35599</td>\n",
              "      <td>74348</td>\n",
              "      <td>MOBIL OIL                                     ...</td>\n",
              "      <td>CMD</td>\n",
              "      <td>VA</td>\n",
              "      <td>NaN</td>\n",
              "      <td>Compliance Determination</td>\n",
              "      <td>Virginia</td>\n",
              "      <td>2000.0</td>\n",
              "      <td>Washington Headquarters</td>\n",
              "      <td>NaN</td>\n",
              "      <td>NaN</td>\n",
              "      <td>NaN</td>\n",
              "      <td>NaN</td>\n",
              "      <td>NaN</td>\n",
              "      <td>NaN</td>\n",
              "      <td>Active</td>\n",
              "      <td>NaN</td>\n",
              "      <td>NaN</td>\n",
              "      <td>N</td>\n",
              "      <td>NaN</td>\n",
              "      <td>N</td>\n",
              "      <td>N</td>\n",
              "      <td>NaN</td>\n",
              "      <td>NaN</td>\n",
              "      <td>NaN</td>\n",
              "      <td>NaN</td>\n",
              "      <td>NaN</td>\n",
              "      <td>NaN</td>\n",
              "      <td>NaN</td>\n",
              "      <td>NaN</td>\n",
              "      <td>NaN</td>\n",
              "      <td>NaN</td>\n",
              "      <td>NaN</td>\n",
              "      <td>E</td>\n",
              "      <td>NaN</td>\n",
              "    </tr>\n",
              "    <tr>\n",
              "      <th>7</th>\n",
              "      <td>8792</td>\n",
              "      <td>74348</td>\n",
              "      <td>MOBIL OIL                                     ...</td>\n",
              "      <td>CMD</td>\n",
              "      <td>VA</td>\n",
              "      <td>NaN</td>\n",
              "      <td>Compliance Determination</td>\n",
              "      <td>Virginia</td>\n",
              "      <td>2000.0</td>\n",
              "      <td>Washington Headquarters</td>\n",
              "      <td>NaN</td>\n",
              "      <td>NaN</td>\n",
              "      <td>NaN</td>\n",
              "      <td>NaN</td>\n",
              "      <td>NaN</td>\n",
              "      <td>NaN</td>\n",
              "      <td>Active</td>\n",
              "      <td>NaN</td>\n",
              "      <td>NaN</td>\n",
              "      <td>N</td>\n",
              "      <td>NaN</td>\n",
              "      <td>N</td>\n",
              "      <td>N</td>\n",
              "      <td>NaN</td>\n",
              "      <td>NaN</td>\n",
              "      <td>NaN</td>\n",
              "      <td>NaN</td>\n",
              "      <td>NaN</td>\n",
              "      <td>NaN</td>\n",
              "      <td>NaN</td>\n",
              "      <td>NaN</td>\n",
              "      <td>NaN</td>\n",
              "      <td>NaN</td>\n",
              "      <td>NaN</td>\n",
              "      <td>E</td>\n",
              "      <td>NaN</td>\n",
              "    </tr>\n",
              "    <tr>\n",
              "      <th>8</th>\n",
              "      <td>16916</td>\n",
              "      <td>74348</td>\n",
              "      <td>MOBIL OIL                                     ...</td>\n",
              "      <td>CMD</td>\n",
              "      <td>VA</td>\n",
              "      <td>NaN</td>\n",
              "      <td>Compliance Determination</td>\n",
              "      <td>Virginia</td>\n",
              "      <td>2000.0</td>\n",
              "      <td>Washington Headquarters</td>\n",
              "      <td>NaN</td>\n",
              "      <td>NaN</td>\n",
              "      <td>NaN</td>\n",
              "      <td>NaN</td>\n",
              "      <td>NaN</td>\n",
              "      <td>NaN</td>\n",
              "      <td>Active</td>\n",
              "      <td>NaN</td>\n",
              "      <td>NaN</td>\n",
              "      <td>N</td>\n",
              "      <td>NaN</td>\n",
              "      <td>N</td>\n",
              "      <td>N</td>\n",
              "      <td>NaN</td>\n",
              "      <td>NaN</td>\n",
              "      <td>NaN</td>\n",
              "      <td>NaN</td>\n",
              "      <td>NaN</td>\n",
              "      <td>NaN</td>\n",
              "      <td>NaN</td>\n",
              "      <td>NaN</td>\n",
              "      <td>NaN</td>\n",
              "      <td>NaN</td>\n",
              "      <td>NaN</td>\n",
              "      <td>E</td>\n",
              "      <td>NaN</td>\n",
              "    </tr>\n",
              "    <tr>\n",
              "      <th>9</th>\n",
              "      <td>7038</td>\n",
              "      <td>74419</td>\n",
              "      <td>NEXTLINK COMMUNICATIONS, INC., ET. AL.        ...</td>\n",
              "      <td>CMD</td>\n",
              "      <td>VA</td>\n",
              "      <td>Telecommunications Incentive Program</td>\n",
              "      <td>Compliance Determination</td>\n",
              "      <td>Virginia</td>\n",
              "      <td>2000.0</td>\n",
              "      <td>Washington Headquarters</td>\n",
              "      <td>NaN</td>\n",
              "      <td>NaN</td>\n",
              "      <td>NaN</td>\n",
              "      <td>NaN</td>\n",
              "      <td>NaN</td>\n",
              "      <td>NaN</td>\n",
              "      <td>Active</td>\n",
              "      <td>NaN</td>\n",
              "      <td>NaN</td>\n",
              "      <td>Y</td>\n",
              "      <td>NaN</td>\n",
              "      <td>N</td>\n",
              "      <td>N</td>\n",
              "      <td>NaN</td>\n",
              "      <td>NaN</td>\n",
              "      <td>NaN</td>\n",
              "      <td>NaN</td>\n",
              "      <td>NaN</td>\n",
              "      <td>NaN</td>\n",
              "      <td>NaN</td>\n",
              "      <td>NaN</td>\n",
              "      <td>NaN</td>\n",
              "      <td>NaN</td>\n",
              "      <td>NaN</td>\n",
              "      <td>E</td>\n",
              "      <td>NaN</td>\n",
              "    </tr>\n",
              "  </tbody>\n",
              "</table>\n",
              "</div>"
            ],
            "text/plain": [
              "   ICIS_FACILITY_INTEREST_ID  ACTIVITY_ID  ... STATE_EPA_FLAG MOST_RECENT_ADOPT_DATE\n",
              "0                      29520        74296  ...              E                    NaN\n",
              "1                      10389        74299  ...              E                    NaN\n",
              "2                       8117        74221  ...              E                    NaN\n",
              "3                      18424        74348  ...              E                    NaN\n",
              "4                      22401        74348  ...              E                    NaN\n",
              "5                       1185        74348  ...              E                    NaN\n",
              "6                      35599        74348  ...              E                    NaN\n",
              "7                       8792        74348  ...              E                    NaN\n",
              "8                      16916        74348  ...              E                    NaN\n",
              "9                       7038        74419  ...              E                    NaN\n",
              "\n",
              "[10 rows x 36 columns]"
            ]
          },
          "metadata": {},
          "execution_count": 113
        }
      ]
    },
    {
      "cell_type": "code",
      "metadata": {
        "colab": {
          "base_uri": "https://localhost:8080/",
          "height": 763
        },
        "id": "EaGwZu5OtkpM",
        "outputId": "0a8e8ea5-1151-4bcf-de7a-1dbdc62a27b6"
      },
      "source": [
        "df1.info()"
      ],
      "execution_count": 114,
      "outputs": [
        {
          "output_type": "display_data",
          "data": {
            "text/html": [
              "\n",
              "  <style>\n",
              "    pre {\n",
              "        white-space: pre-wrap;\n",
              "    }\n",
              "  </style>\n",
              "  "
            ],
            "text/plain": [
              "<IPython.core.display.HTML object>"
            ]
          },
          "metadata": {}
        },
        {
          "output_type": "display_data",
          "data": {
            "text/html": [
              "\n",
              "  <style>\n",
              "    pre {\n",
              "        white-space: pre-wrap;\n",
              "    }\n",
              "  </style>\n",
              "  "
            ],
            "text/plain": [
              "<IPython.core.display.HTML object>"
            ]
          },
          "metadata": {}
        },
        {
          "output_type": "stream",
          "text": [
            "<class 'pandas.core.frame.DataFrame'>\n",
            "RangeIndex: 100001 entries, 0 to 100000\n",
            "Data columns (total 36 columns):\n",
            " #   Column                     Non-Null Count   Dtype  \n",
            "---  ------                     --------------   -----  \n",
            " 0   ICIS_FACILITY_INTEREST_ID  100001 non-null  int64  \n",
            " 1   ACTIVITY_ID                100001 non-null  int64  \n",
            " 2   ACTIVITY_NAME              99513 non-null   object \n",
            " 3   ACTIVITY_TYPE_CODE         100001 non-null  object \n",
            " 4   STATE_CODE                 100001 non-null  object \n",
            " 5   COMP_INCENTIVE_DESC        1 non-null       object \n",
            " 6   ACTIVITY_TYPE_DESC         100001 non-null  object \n",
            " 7   STATE_DESC                 100001 non-null  object \n",
            " 8   FISCAL_YEAR                21786 non-null   float64\n",
            " 9   REGION_DESC                100001 non-null  object \n",
            " 10  ACTUAL_BEGIN_DATE          1884 non-null    object \n",
            " 11  ACTIVITY_STATUS_DATE       23566 non-null   object \n",
            " 12  PLANNED_BEGIN_DATE         0 non-null       float64\n",
            " 13  ACTUAL_END_DATE            96945 non-null   object \n",
            " 14  PLANNED_END_DATE           2061 non-null    object \n",
            " 15  CANCELLATION_DATE          0 non-null       float64\n",
            " 16  ACTIVITY_STATUS_DESC       7791 non-null    object \n",
            " 17  DURATION                   0 non-null       float64\n",
            " 18  TOTAL_HOURS                0 non-null       float64\n",
            " 19  MULTIMEDIA_FLAG            19837 non-null   object \n",
            " 20  CANCELLATION_REASON_DESC   0 non-null       float64\n",
            " 21  SENSITIVE_DATA_FLAG        100001 non-null  object \n",
            " 22  INTERNAL_REVIEW_FLAG       1820 non-null    object \n",
            " 23  COORDINATED_FLAG           0 non-null       float64\n",
            " 24  CONSOLIDATED_FLAG          0 non-null       float64\n",
            " 25  EPA_ASSIST_FLAG            16718 non-null   object \n",
            " 26  PLANNED_BEGIN_DATE_FY      0 non-null       float64\n",
            " 27  PLANNED_BEGIN_DATE_FYQ     0 non-null       float64\n",
            " 28  ACTUAL_BEGIN_DATE_FY       1884 non-null    float64\n",
            " 29  ACTUAL_BEGIN_DATE_FYQ      1884 non-null    float64\n",
            " 30  PLANNED_END_DATE_FY        2061 non-null    float64\n",
            " 31  PLANNED_END_DATE_FYQ       2061 non-null    float64\n",
            " 32  ACTUAL_END_DATE_FY         96945 non-null   float64\n",
            " 33  ACTUAL_END_DATE_FYQ        96945 non-null   float64\n",
            " 34  STATE_EPA_FLAG             100001 non-null  object \n",
            " 35  MOST_RECENT_ADOPT_DATE     524 non-null     object \n",
            "dtypes: float64(16), int64(2), object(18)\n",
            "memory usage: 27.5+ MB\n"
          ],
          "name": "stdout"
        }
      ]
    },
    {
      "cell_type": "markdown",
      "metadata": {
        "id": "bOOAiWc4Yq2W"
      },
      "source": [
        "### take out nulls from FY"
      ]
    },
    {
      "cell_type": "code",
      "metadata": {
        "colab": {
          "base_uri": "https://localhost:8080/",
          "height": 35
        },
        "id": "SzwahZv4XZix",
        "outputId": "88758c3d-1c40-476b-c556-ba7d0b9c1d10"
      },
      "source": [
        "# shows nulls in data\n",
        "df1[\"FISCAL_YEAR\"].notnull()\n",
        "\n",
        "# shows sum of all not nulls\n",
        "df1[\"FISCAL_YEAR\"].notnull().sum()"
      ],
      "execution_count": 115,
      "outputs": [
        {
          "output_type": "display_data",
          "data": {
            "text/html": [
              "\n",
              "  <style>\n",
              "    pre {\n",
              "        white-space: pre-wrap;\n",
              "    }\n",
              "  </style>\n",
              "  "
            ],
            "text/plain": [
              "<IPython.core.display.HTML object>"
            ]
          },
          "metadata": {}
        },
        {
          "output_type": "display_data",
          "data": {
            "text/html": [
              "\n",
              "  <style>\n",
              "    pre {\n",
              "        white-space: pre-wrap;\n",
              "    }\n",
              "  </style>\n",
              "  "
            ],
            "text/plain": [
              "<IPython.core.display.HTML object>"
            ]
          },
          "metadata": {}
        },
        {
          "output_type": "execute_result",
          "data": {
            "text/plain": [
              "21786"
            ]
          },
          "metadata": {},
          "execution_count": 115
        }
      ]
    },
    {
      "cell_type": "code",
      "metadata": {
        "colab": {
          "base_uri": "https://localhost:8080/",
          "height": 790
        },
        "id": "rYSTj4HMWFzm",
        "outputId": "c8ceef82-6e57-4c86-bb6d-d3cf03f90899"
      },
      "source": [
        "# shows db with dropped nulls from fiscal year\n",
        "df1[df1[\"FISCAL_YEAR\"].notnull()]"
      ],
      "execution_count": 116,
      "outputs": [
        {
          "output_type": "display_data",
          "data": {
            "text/html": [
              "\n",
              "  <style>\n",
              "    pre {\n",
              "        white-space: pre-wrap;\n",
              "    }\n",
              "  </style>\n",
              "  "
            ],
            "text/plain": [
              "<IPython.core.display.HTML object>"
            ]
          },
          "metadata": {}
        },
        {
          "output_type": "display_data",
          "data": {
            "text/html": [
              "\n",
              "  <style>\n",
              "    pre {\n",
              "        white-space: pre-wrap;\n",
              "    }\n",
              "  </style>\n",
              "  "
            ],
            "text/plain": [
              "<IPython.core.display.HTML object>"
            ]
          },
          "metadata": {}
        },
        {
          "output_type": "execute_result",
          "data": {
            "text/html": [
              "<div>\n",
              "<style scoped>\n",
              "    .dataframe tbody tr th:only-of-type {\n",
              "        vertical-align: middle;\n",
              "    }\n",
              "\n",
              "    .dataframe tbody tr th {\n",
              "        vertical-align: top;\n",
              "    }\n",
              "\n",
              "    .dataframe thead th {\n",
              "        text-align: right;\n",
              "    }\n",
              "</style>\n",
              "<table border=\"1\" class=\"dataframe\">\n",
              "  <thead>\n",
              "    <tr style=\"text-align: right;\">\n",
              "      <th></th>\n",
              "      <th>ICIS_FACILITY_INTEREST_ID</th>\n",
              "      <th>ACTIVITY_ID</th>\n",
              "      <th>ACTIVITY_NAME</th>\n",
              "      <th>ACTIVITY_TYPE_CODE</th>\n",
              "      <th>STATE_CODE</th>\n",
              "      <th>COMP_INCENTIVE_DESC</th>\n",
              "      <th>ACTIVITY_TYPE_DESC</th>\n",
              "      <th>STATE_DESC</th>\n",
              "      <th>FISCAL_YEAR</th>\n",
              "      <th>REGION_DESC</th>\n",
              "      <th>ACTUAL_BEGIN_DATE</th>\n",
              "      <th>ACTIVITY_STATUS_DATE</th>\n",
              "      <th>PLANNED_BEGIN_DATE</th>\n",
              "      <th>ACTUAL_END_DATE</th>\n",
              "      <th>PLANNED_END_DATE</th>\n",
              "      <th>CANCELLATION_DATE</th>\n",
              "      <th>ACTIVITY_STATUS_DESC</th>\n",
              "      <th>DURATION</th>\n",
              "      <th>TOTAL_HOURS</th>\n",
              "      <th>MULTIMEDIA_FLAG</th>\n",
              "      <th>CANCELLATION_REASON_DESC</th>\n",
              "      <th>SENSITIVE_DATA_FLAG</th>\n",
              "      <th>INTERNAL_REVIEW_FLAG</th>\n",
              "      <th>COORDINATED_FLAG</th>\n",
              "      <th>CONSOLIDATED_FLAG</th>\n",
              "      <th>EPA_ASSIST_FLAG</th>\n",
              "      <th>PLANNED_BEGIN_DATE_FY</th>\n",
              "      <th>PLANNED_BEGIN_DATE_FYQ</th>\n",
              "      <th>ACTUAL_BEGIN_DATE_FY</th>\n",
              "      <th>ACTUAL_BEGIN_DATE_FYQ</th>\n",
              "      <th>PLANNED_END_DATE_FY</th>\n",
              "      <th>PLANNED_END_DATE_FYQ</th>\n",
              "      <th>ACTUAL_END_DATE_FY</th>\n",
              "      <th>ACTUAL_END_DATE_FYQ</th>\n",
              "      <th>STATE_EPA_FLAG</th>\n",
              "      <th>MOST_RECENT_ADOPT_DATE</th>\n",
              "    </tr>\n",
              "  </thead>\n",
              "  <tbody>\n",
              "    <tr>\n",
              "      <th>0</th>\n",
              "      <td>29520</td>\n",
              "      <td>74296</td>\n",
              "      <td>PRESTON&amp;apos;S SERVICE CORP                   ...</td>\n",
              "      <td>CMD</td>\n",
              "      <td>VA</td>\n",
              "      <td>NaN</td>\n",
              "      <td>Compliance Determination</td>\n",
              "      <td>Virginia</td>\n",
              "      <td>2000.0</td>\n",
              "      <td>Washington Headquarters</td>\n",
              "      <td>NaN</td>\n",
              "      <td>NaN</td>\n",
              "      <td>NaN</td>\n",
              "      <td>NaN</td>\n",
              "      <td>NaN</td>\n",
              "      <td>NaN</td>\n",
              "      <td>Active</td>\n",
              "      <td>NaN</td>\n",
              "      <td>NaN</td>\n",
              "      <td>N</td>\n",
              "      <td>NaN</td>\n",
              "      <td>N</td>\n",
              "      <td>N</td>\n",
              "      <td>NaN</td>\n",
              "      <td>NaN</td>\n",
              "      <td>NaN</td>\n",
              "      <td>NaN</td>\n",
              "      <td>NaN</td>\n",
              "      <td>NaN</td>\n",
              "      <td>NaN</td>\n",
              "      <td>NaN</td>\n",
              "      <td>NaN</td>\n",
              "      <td>NaN</td>\n",
              "      <td>NaN</td>\n",
              "      <td>E</td>\n",
              "      <td>NaN</td>\n",
              "    </tr>\n",
              "    <tr>\n",
              "      <th>1</th>\n",
              "      <td>10389</td>\n",
              "      <td>74299</td>\n",
              "      <td>ENVIRONMENTAL SOLUTIONS, INC                  ...</td>\n",
              "      <td>CMD</td>\n",
              "      <td>VA</td>\n",
              "      <td>NaN</td>\n",
              "      <td>Compliance Determination</td>\n",
              "      <td>Virginia</td>\n",
              "      <td>2000.0</td>\n",
              "      <td>Washington Headquarters</td>\n",
              "      <td>NaN</td>\n",
              "      <td>NaN</td>\n",
              "      <td>NaN</td>\n",
              "      <td>NaN</td>\n",
              "      <td>NaN</td>\n",
              "      <td>NaN</td>\n",
              "      <td>Active</td>\n",
              "      <td>NaN</td>\n",
              "      <td>NaN</td>\n",
              "      <td>N</td>\n",
              "      <td>NaN</td>\n",
              "      <td>N</td>\n",
              "      <td>N</td>\n",
              "      <td>NaN</td>\n",
              "      <td>NaN</td>\n",
              "      <td>NaN</td>\n",
              "      <td>NaN</td>\n",
              "      <td>NaN</td>\n",
              "      <td>NaN</td>\n",
              "      <td>NaN</td>\n",
              "      <td>NaN</td>\n",
              "      <td>NaN</td>\n",
              "      <td>NaN</td>\n",
              "      <td>NaN</td>\n",
              "      <td>E</td>\n",
              "      <td>NaN</td>\n",
              "    </tr>\n",
              "    <tr>\n",
              "      <th>2</th>\n",
              "      <td>8117</td>\n",
              "      <td>74221</td>\n",
              "      <td>SIERRA MANUFACTURING COMPANY OF VIRGINIA      ...</td>\n",
              "      <td>CMD</td>\n",
              "      <td>VA</td>\n",
              "      <td>NaN</td>\n",
              "      <td>Compliance Determination</td>\n",
              "      <td>Virginia</td>\n",
              "      <td>1992.0</td>\n",
              "      <td>Washington Headquarters</td>\n",
              "      <td>NaN</td>\n",
              "      <td>NaN</td>\n",
              "      <td>NaN</td>\n",
              "      <td>NaN</td>\n",
              "      <td>NaN</td>\n",
              "      <td>NaN</td>\n",
              "      <td>Active</td>\n",
              "      <td>NaN</td>\n",
              "      <td>NaN</td>\n",
              "      <td>N</td>\n",
              "      <td>NaN</td>\n",
              "      <td>N</td>\n",
              "      <td>N</td>\n",
              "      <td>NaN</td>\n",
              "      <td>NaN</td>\n",
              "      <td>NaN</td>\n",
              "      <td>NaN</td>\n",
              "      <td>NaN</td>\n",
              "      <td>NaN</td>\n",
              "      <td>NaN</td>\n",
              "      <td>NaN</td>\n",
              "      <td>NaN</td>\n",
              "      <td>NaN</td>\n",
              "      <td>NaN</td>\n",
              "      <td>E</td>\n",
              "      <td>NaN</td>\n",
              "    </tr>\n",
              "    <tr>\n",
              "      <th>3</th>\n",
              "      <td>18424</td>\n",
              "      <td>74348</td>\n",
              "      <td>MOBIL OIL                                     ...</td>\n",
              "      <td>CMD</td>\n",
              "      <td>VA</td>\n",
              "      <td>NaN</td>\n",
              "      <td>Compliance Determination</td>\n",
              "      <td>Virginia</td>\n",
              "      <td>2000.0</td>\n",
              "      <td>Washington Headquarters</td>\n",
              "      <td>NaN</td>\n",
              "      <td>NaN</td>\n",
              "      <td>NaN</td>\n",
              "      <td>NaN</td>\n",
              "      <td>NaN</td>\n",
              "      <td>NaN</td>\n",
              "      <td>Active</td>\n",
              "      <td>NaN</td>\n",
              "      <td>NaN</td>\n",
              "      <td>N</td>\n",
              "      <td>NaN</td>\n",
              "      <td>N</td>\n",
              "      <td>N</td>\n",
              "      <td>NaN</td>\n",
              "      <td>NaN</td>\n",
              "      <td>NaN</td>\n",
              "      <td>NaN</td>\n",
              "      <td>NaN</td>\n",
              "      <td>NaN</td>\n",
              "      <td>NaN</td>\n",
              "      <td>NaN</td>\n",
              "      <td>NaN</td>\n",
              "      <td>NaN</td>\n",
              "      <td>NaN</td>\n",
              "      <td>E</td>\n",
              "      <td>NaN</td>\n",
              "    </tr>\n",
              "    <tr>\n",
              "      <th>4</th>\n",
              "      <td>22401</td>\n",
              "      <td>74348</td>\n",
              "      <td>MOBIL OIL                                     ...</td>\n",
              "      <td>CMD</td>\n",
              "      <td>VA</td>\n",
              "      <td>NaN</td>\n",
              "      <td>Compliance Determination</td>\n",
              "      <td>Virginia</td>\n",
              "      <td>2000.0</td>\n",
              "      <td>Washington Headquarters</td>\n",
              "      <td>NaN</td>\n",
              "      <td>NaN</td>\n",
              "      <td>NaN</td>\n",
              "      <td>NaN</td>\n",
              "      <td>NaN</td>\n",
              "      <td>NaN</td>\n",
              "      <td>Active</td>\n",
              "      <td>NaN</td>\n",
              "      <td>NaN</td>\n",
              "      <td>N</td>\n",
              "      <td>NaN</td>\n",
              "      <td>N</td>\n",
              "      <td>N</td>\n",
              "      <td>NaN</td>\n",
              "      <td>NaN</td>\n",
              "      <td>NaN</td>\n",
              "      <td>NaN</td>\n",
              "      <td>NaN</td>\n",
              "      <td>NaN</td>\n",
              "      <td>NaN</td>\n",
              "      <td>NaN</td>\n",
              "      <td>NaN</td>\n",
              "      <td>NaN</td>\n",
              "      <td>NaN</td>\n",
              "      <td>E</td>\n",
              "      <td>NaN</td>\n",
              "    </tr>\n",
              "    <tr>\n",
              "      <th>...</th>\n",
              "      <td>...</td>\n",
              "      <td>...</td>\n",
              "      <td>...</td>\n",
              "      <td>...</td>\n",
              "      <td>...</td>\n",
              "      <td>...</td>\n",
              "      <td>...</td>\n",
              "      <td>...</td>\n",
              "      <td>...</td>\n",
              "      <td>...</td>\n",
              "      <td>...</td>\n",
              "      <td>...</td>\n",
              "      <td>...</td>\n",
              "      <td>...</td>\n",
              "      <td>...</td>\n",
              "      <td>...</td>\n",
              "      <td>...</td>\n",
              "      <td>...</td>\n",
              "      <td>...</td>\n",
              "      <td>...</td>\n",
              "      <td>...</td>\n",
              "      <td>...</td>\n",
              "      <td>...</td>\n",
              "      <td>...</td>\n",
              "      <td>...</td>\n",
              "      <td>...</td>\n",
              "      <td>...</td>\n",
              "      <td>...</td>\n",
              "      <td>...</td>\n",
              "      <td>...</td>\n",
              "      <td>...</td>\n",
              "      <td>...</td>\n",
              "      <td>...</td>\n",
              "      <td>...</td>\n",
              "      <td>...</td>\n",
              "      <td>...</td>\n",
              "    </tr>\n",
              "    <tr>\n",
              "      <th>27315</th>\n",
              "      <td>3400311789</td>\n",
              "      <td>3400439984</td>\n",
              "      <td>UNIVAR 516900003600008</td>\n",
              "      <td>AIF</td>\n",
              "      <td>VA</td>\n",
              "      <td>NaN</td>\n",
              "      <td>Administrative - Informal</td>\n",
              "      <td>Virginia</td>\n",
              "      <td>1995.0</td>\n",
              "      <td>Region 3</td>\n",
              "      <td>NaN</td>\n",
              "      <td>24-Apr-95</td>\n",
              "      <td>NaN</td>\n",
              "      <td>24-Apr-95</td>\n",
              "      <td>24-Apr-95</td>\n",
              "      <td>NaN</td>\n",
              "      <td>Achieved</td>\n",
              "      <td>NaN</td>\n",
              "      <td>NaN</td>\n",
              "      <td>NaN</td>\n",
              "      <td>NaN</td>\n",
              "      <td>N</td>\n",
              "      <td>NaN</td>\n",
              "      <td>NaN</td>\n",
              "      <td>NaN</td>\n",
              "      <td>NaN</td>\n",
              "      <td>NaN</td>\n",
              "      <td>NaN</td>\n",
              "      <td>NaN</td>\n",
              "      <td>NaN</td>\n",
              "      <td>1995.0</td>\n",
              "      <td>3.0</td>\n",
              "      <td>1995.0</td>\n",
              "      <td>3.0</td>\n",
              "      <td>S</td>\n",
              "      <td>NaN</td>\n",
              "    </tr>\n",
              "    <tr>\n",
              "      <th>27316</th>\n",
              "      <td>3400190432</td>\n",
              "      <td>3400439996</td>\n",
              "      <td>BUFFALO AIR HANDLING DIV OF AIR &amp; LIQUID 51009...</td>\n",
              "      <td>AIF</td>\n",
              "      <td>VA</td>\n",
              "      <td>NaN</td>\n",
              "      <td>Administrative - Informal</td>\n",
              "      <td>Virginia</td>\n",
              "      <td>1994.0</td>\n",
              "      <td>Region 3</td>\n",
              "      <td>NaN</td>\n",
              "      <td>5-Oct-93</td>\n",
              "      <td>NaN</td>\n",
              "      <td>5-Oct-93</td>\n",
              "      <td>5-Oct-93</td>\n",
              "      <td>NaN</td>\n",
              "      <td>Achieved</td>\n",
              "      <td>NaN</td>\n",
              "      <td>NaN</td>\n",
              "      <td>NaN</td>\n",
              "      <td>NaN</td>\n",
              "      <td>N</td>\n",
              "      <td>NaN</td>\n",
              "      <td>NaN</td>\n",
              "      <td>NaN</td>\n",
              "      <td>NaN</td>\n",
              "      <td>NaN</td>\n",
              "      <td>NaN</td>\n",
              "      <td>NaN</td>\n",
              "      <td>NaN</td>\n",
              "      <td>1994.0</td>\n",
              "      <td>1.0</td>\n",
              "      <td>1994.0</td>\n",
              "      <td>1.0</td>\n",
              "      <td>S</td>\n",
              "      <td>NaN</td>\n",
              "    </tr>\n",
              "    <tr>\n",
              "      <th>27317</th>\n",
              "      <td>3400233793</td>\n",
              "      <td>3400378197</td>\n",
              "      <td>RUBBLE BEE RECYCLING 511794104800010</td>\n",
              "      <td>AFR</td>\n",
              "      <td>VA</td>\n",
              "      <td>NaN</td>\n",
              "      <td>Administrative - Formal</td>\n",
              "      <td>Virginia</td>\n",
              "      <td>2007.0</td>\n",
              "      <td>Region 3</td>\n",
              "      <td>NaN</td>\n",
              "      <td>18-Jan-07</td>\n",
              "      <td>NaN</td>\n",
              "      <td>18-Jan-07</td>\n",
              "      <td>NaN</td>\n",
              "      <td>NaN</td>\n",
              "      <td>Final Order Issued</td>\n",
              "      <td>NaN</td>\n",
              "      <td>NaN</td>\n",
              "      <td>NaN</td>\n",
              "      <td>NaN</td>\n",
              "      <td>N</td>\n",
              "      <td>NaN</td>\n",
              "      <td>NaN</td>\n",
              "      <td>NaN</td>\n",
              "      <td>NaN</td>\n",
              "      <td>NaN</td>\n",
              "      <td>NaN</td>\n",
              "      <td>NaN</td>\n",
              "      <td>NaN</td>\n",
              "      <td>NaN</td>\n",
              "      <td>NaN</td>\n",
              "      <td>2007.0</td>\n",
              "      <td>2.0</td>\n",
              "      <td>S</td>\n",
              "      <td>NaN</td>\n",
              "    </tr>\n",
              "    <tr>\n",
              "      <th>27318</th>\n",
              "      <td>3400312258</td>\n",
              "      <td>3400551223</td>\n",
              "      <td>SUN CHEMICAL CORPORATION SHAW LANE 51760003480...</td>\n",
              "      <td>AIF</td>\n",
              "      <td>VA</td>\n",
              "      <td>NaN</td>\n",
              "      <td>Administrative - Informal</td>\n",
              "      <td>Virginia</td>\n",
              "      <td>1991.0</td>\n",
              "      <td>Region 3</td>\n",
              "      <td>NaN</td>\n",
              "      <td>13-Feb-91</td>\n",
              "      <td>NaN</td>\n",
              "      <td>13-Feb-91</td>\n",
              "      <td>13-Feb-91</td>\n",
              "      <td>NaN</td>\n",
              "      <td>Achieved</td>\n",
              "      <td>NaN</td>\n",
              "      <td>NaN</td>\n",
              "      <td>NaN</td>\n",
              "      <td>NaN</td>\n",
              "      <td>N</td>\n",
              "      <td>NaN</td>\n",
              "      <td>NaN</td>\n",
              "      <td>NaN</td>\n",
              "      <td>NaN</td>\n",
              "      <td>NaN</td>\n",
              "      <td>NaN</td>\n",
              "      <td>NaN</td>\n",
              "      <td>NaN</td>\n",
              "      <td>1991.0</td>\n",
              "      <td>2.0</td>\n",
              "      <td>1991.0</td>\n",
              "      <td>2.0</td>\n",
              "      <td>S</td>\n",
              "      <td>NaN</td>\n",
              "    </tr>\n",
              "    <tr>\n",
              "      <th>27319</th>\n",
              "      <td>3400311240</td>\n",
              "      <td>3400554288</td>\n",
              "      <td>CHESAPEAKE CITY OF - PUBLIC WORKS 515500018900003</td>\n",
              "      <td>AIF</td>\n",
              "      <td>VA</td>\n",
              "      <td>NaN</td>\n",
              "      <td>Administrative - Informal</td>\n",
              "      <td>Virginia</td>\n",
              "      <td>1996.0</td>\n",
              "      <td>Region 3</td>\n",
              "      <td>NaN</td>\n",
              "      <td>23-Feb-96</td>\n",
              "      <td>NaN</td>\n",
              "      <td>23-Feb-96</td>\n",
              "      <td>NaN</td>\n",
              "      <td>NaN</td>\n",
              "      <td>Achieved</td>\n",
              "      <td>NaN</td>\n",
              "      <td>NaN</td>\n",
              "      <td>NaN</td>\n",
              "      <td>NaN</td>\n",
              "      <td>N</td>\n",
              "      <td>NaN</td>\n",
              "      <td>NaN</td>\n",
              "      <td>NaN</td>\n",
              "      <td>NaN</td>\n",
              "      <td>NaN</td>\n",
              "      <td>NaN</td>\n",
              "      <td>NaN</td>\n",
              "      <td>NaN</td>\n",
              "      <td>NaN</td>\n",
              "      <td>NaN</td>\n",
              "      <td>1996.0</td>\n",
              "      <td>2.0</td>\n",
              "      <td>S</td>\n",
              "      <td>NaN</td>\n",
              "    </tr>\n",
              "  </tbody>\n",
              "</table>\n",
              "<p>21786 rows × 36 columns</p>\n",
              "</div>"
            ],
            "text/plain": [
              "       ICIS_FACILITY_INTEREST_ID  ...  MOST_RECENT_ADOPT_DATE\n",
              "0                          29520  ...                     NaN\n",
              "1                          10389  ...                     NaN\n",
              "2                           8117  ...                     NaN\n",
              "3                          18424  ...                     NaN\n",
              "4                          22401  ...                     NaN\n",
              "...                          ...  ...                     ...\n",
              "27315                 3400311789  ...                     NaN\n",
              "27316                 3400190432  ...                     NaN\n",
              "27317                 3400233793  ...                     NaN\n",
              "27318                 3400312258  ...                     NaN\n",
              "27319                 3400311240  ...                     NaN\n",
              "\n",
              "[21786 rows x 36 columns]"
            ]
          },
          "metadata": {},
          "execution_count": 116
        }
      ]
    },
    {
      "cell_type": "code",
      "metadata": {
        "colab": {
          "base_uri": "https://localhost:8080/",
          "height": 1000
        },
        "id": "IsOXtc2KpdBk",
        "outputId": "21343daf-9495-4fd5-e3ae-ac8429d67eb4"
      },
      "source": [
        "# shows db with dropped nulls from MOST_RECENT_ADOPT_DATE\n",
        "df1[df1[\"MOST_RECENT_ADOPT_DATE\"].notnull()]"
      ],
      "execution_count": 117,
      "outputs": [
        {
          "output_type": "display_data",
          "data": {
            "text/html": [
              "\n",
              "  <style>\n",
              "    pre {\n",
              "        white-space: pre-wrap;\n",
              "    }\n",
              "  </style>\n",
              "  "
            ],
            "text/plain": [
              "<IPython.core.display.HTML object>"
            ]
          },
          "metadata": {}
        },
        {
          "output_type": "display_data",
          "data": {
            "text/html": [
              "\n",
              "  <style>\n",
              "    pre {\n",
              "        white-space: pre-wrap;\n",
              "    }\n",
              "  </style>\n",
              "  "
            ],
            "text/plain": [
              "<IPython.core.display.HTML object>"
            ]
          },
          "metadata": {}
        },
        {
          "output_type": "execute_result",
          "data": {
            "text/html": [
              "<div>\n",
              "<style scoped>\n",
              "    .dataframe tbody tr th:only-of-type {\n",
              "        vertical-align: middle;\n",
              "    }\n",
              "\n",
              "    .dataframe tbody tr th {\n",
              "        vertical-align: top;\n",
              "    }\n",
              "\n",
              "    .dataframe thead th {\n",
              "        text-align: right;\n",
              "    }\n",
              "</style>\n",
              "<table border=\"1\" class=\"dataframe\">\n",
              "  <thead>\n",
              "    <tr style=\"text-align: right;\">\n",
              "      <th></th>\n",
              "      <th>ICIS_FACILITY_INTEREST_ID</th>\n",
              "      <th>ACTIVITY_ID</th>\n",
              "      <th>ACTIVITY_NAME</th>\n",
              "      <th>ACTIVITY_TYPE_CODE</th>\n",
              "      <th>STATE_CODE</th>\n",
              "      <th>COMP_INCENTIVE_DESC</th>\n",
              "      <th>ACTIVITY_TYPE_DESC</th>\n",
              "      <th>STATE_DESC</th>\n",
              "      <th>FISCAL_YEAR</th>\n",
              "      <th>REGION_DESC</th>\n",
              "      <th>ACTUAL_BEGIN_DATE</th>\n",
              "      <th>ACTIVITY_STATUS_DATE</th>\n",
              "      <th>PLANNED_BEGIN_DATE</th>\n",
              "      <th>ACTUAL_END_DATE</th>\n",
              "      <th>PLANNED_END_DATE</th>\n",
              "      <th>CANCELLATION_DATE</th>\n",
              "      <th>ACTIVITY_STATUS_DESC</th>\n",
              "      <th>DURATION</th>\n",
              "      <th>TOTAL_HOURS</th>\n",
              "      <th>MULTIMEDIA_FLAG</th>\n",
              "      <th>CANCELLATION_REASON_DESC</th>\n",
              "      <th>SENSITIVE_DATA_FLAG</th>\n",
              "      <th>INTERNAL_REVIEW_FLAG</th>\n",
              "      <th>COORDINATED_FLAG</th>\n",
              "      <th>CONSOLIDATED_FLAG</th>\n",
              "      <th>EPA_ASSIST_FLAG</th>\n",
              "      <th>PLANNED_BEGIN_DATE_FY</th>\n",
              "      <th>PLANNED_BEGIN_DATE_FYQ</th>\n",
              "      <th>ACTUAL_BEGIN_DATE_FY</th>\n",
              "      <th>ACTUAL_BEGIN_DATE_FYQ</th>\n",
              "      <th>PLANNED_END_DATE_FY</th>\n",
              "      <th>PLANNED_END_DATE_FYQ</th>\n",
              "      <th>ACTUAL_END_DATE_FY</th>\n",
              "      <th>ACTUAL_END_DATE_FYQ</th>\n",
              "      <th>STATE_EPA_FLAG</th>\n",
              "      <th>MOST_RECENT_ADOPT_DATE</th>\n",
              "    </tr>\n",
              "  </thead>\n",
              "  <tbody>\n",
              "    <tr>\n",
              "      <th>2509</th>\n",
              "      <td>3329830</td>\n",
              "      <td>3200543306</td>\n",
              "      <td>TOWN OF BROADWAY REGIONAL WWTF (Permit VA00902...</td>\n",
              "      <td>INS</td>\n",
              "      <td>VA</td>\n",
              "      <td>NaN</td>\n",
              "      <td>Inspection/Evaluation</td>\n",
              "      <td>Virginia</td>\n",
              "      <td>2010.0</td>\n",
              "      <td>Region 3</td>\n",
              "      <td>NaN</td>\n",
              "      <td>16-Mar-10</td>\n",
              "      <td>NaN</td>\n",
              "      <td>16-Mar-10</td>\n",
              "      <td>NaN</td>\n",
              "      <td>NaN</td>\n",
              "      <td>NaN</td>\n",
              "      <td>NaN</td>\n",
              "      <td>NaN</td>\n",
              "      <td>N</td>\n",
              "      <td>NaN</td>\n",
              "      <td>N</td>\n",
              "      <td>NaN</td>\n",
              "      <td>NaN</td>\n",
              "      <td>NaN</td>\n",
              "      <td>N</td>\n",
              "      <td>NaN</td>\n",
              "      <td>NaN</td>\n",
              "      <td>NaN</td>\n",
              "      <td>NaN</td>\n",
              "      <td>NaN</td>\n",
              "      <td>NaN</td>\n",
              "      <td>2010.0</td>\n",
              "      <td>2.0</td>\n",
              "      <td>S</td>\n",
              "      <td>16-Mar-10</td>\n",
              "    </tr>\n",
              "    <tr>\n",
              "      <th>2524</th>\n",
              "      <td>3200007262</td>\n",
              "      <td>3200559191</td>\n",
              "      <td>SOUTH CENTRAL WASTEWATER AUTHO (Permit VA00254...</td>\n",
              "      <td>INS</td>\n",
              "      <td>VA</td>\n",
              "      <td>NaN</td>\n",
              "      <td>Inspection/Evaluation</td>\n",
              "      <td>Virginia</td>\n",
              "      <td>1997.0</td>\n",
              "      <td>Region 3</td>\n",
              "      <td>NaN</td>\n",
              "      <td>5-Mar-97</td>\n",
              "      <td>NaN</td>\n",
              "      <td>5-Mar-97</td>\n",
              "      <td>NaN</td>\n",
              "      <td>NaN</td>\n",
              "      <td>NaN</td>\n",
              "      <td>NaN</td>\n",
              "      <td>NaN</td>\n",
              "      <td>N</td>\n",
              "      <td>NaN</td>\n",
              "      <td>N</td>\n",
              "      <td>NaN</td>\n",
              "      <td>NaN</td>\n",
              "      <td>NaN</td>\n",
              "      <td>N</td>\n",
              "      <td>NaN</td>\n",
              "      <td>NaN</td>\n",
              "      <td>NaN</td>\n",
              "      <td>NaN</td>\n",
              "      <td>NaN</td>\n",
              "      <td>NaN</td>\n",
              "      <td>1997.0</td>\n",
              "      <td>2.0</td>\n",
              "      <td>S</td>\n",
              "      <td>5-Mar-97</td>\n",
              "    </tr>\n",
              "    <tr>\n",
              "      <th>2535</th>\n",
              "      <td>3200007262</td>\n",
              "      <td>3200559228</td>\n",
              "      <td>SOUTH CENTRAL WASTEWATER AUTHO (Permit VA00254...</td>\n",
              "      <td>INS</td>\n",
              "      <td>VA</td>\n",
              "      <td>NaN</td>\n",
              "      <td>Inspection/Evaluation</td>\n",
              "      <td>Virginia</td>\n",
              "      <td>2005.0</td>\n",
              "      <td>Region 3</td>\n",
              "      <td>NaN</td>\n",
              "      <td>17-May-05</td>\n",
              "      <td>NaN</td>\n",
              "      <td>17-May-05</td>\n",
              "      <td>NaN</td>\n",
              "      <td>NaN</td>\n",
              "      <td>NaN</td>\n",
              "      <td>NaN</td>\n",
              "      <td>NaN</td>\n",
              "      <td>N</td>\n",
              "      <td>NaN</td>\n",
              "      <td>N</td>\n",
              "      <td>NaN</td>\n",
              "      <td>NaN</td>\n",
              "      <td>NaN</td>\n",
              "      <td>N</td>\n",
              "      <td>NaN</td>\n",
              "      <td>NaN</td>\n",
              "      <td>NaN</td>\n",
              "      <td>NaN</td>\n",
              "      <td>NaN</td>\n",
              "      <td>NaN</td>\n",
              "      <td>2005.0</td>\n",
              "      <td>3.0</td>\n",
              "      <td>S</td>\n",
              "      <td>17-May-05</td>\n",
              "    </tr>\n",
              "    <tr>\n",
              "      <th>2607</th>\n",
              "      <td>3200033296</td>\n",
              "      <td>3200548638</td>\n",
              "      <td>NOMAN M COLE JR POLLUTION CONT (Permit VA00253...</td>\n",
              "      <td>INS</td>\n",
              "      <td>VA</td>\n",
              "      <td>NaN</td>\n",
              "      <td>Inspection/Evaluation</td>\n",
              "      <td>Virginia</td>\n",
              "      <td>1999.0</td>\n",
              "      <td>Region 3</td>\n",
              "      <td>NaN</td>\n",
              "      <td>23-Mar-99</td>\n",
              "      <td>NaN</td>\n",
              "      <td>23-Mar-99</td>\n",
              "      <td>NaN</td>\n",
              "      <td>NaN</td>\n",
              "      <td>NaN</td>\n",
              "      <td>NaN</td>\n",
              "      <td>NaN</td>\n",
              "      <td>N</td>\n",
              "      <td>NaN</td>\n",
              "      <td>N</td>\n",
              "      <td>NaN</td>\n",
              "      <td>NaN</td>\n",
              "      <td>NaN</td>\n",
              "      <td>N</td>\n",
              "      <td>NaN</td>\n",
              "      <td>NaN</td>\n",
              "      <td>NaN</td>\n",
              "      <td>NaN</td>\n",
              "      <td>NaN</td>\n",
              "      <td>NaN</td>\n",
              "      <td>1999.0</td>\n",
              "      <td>2.0</td>\n",
              "      <td>S</td>\n",
              "      <td>23-Mar-99</td>\n",
              "    </tr>\n",
              "    <tr>\n",
              "      <th>2612</th>\n",
              "      <td>3200010802</td>\n",
              "      <td>3200558979</td>\n",
              "      <td>PEPPERS FERRY REGIONAL WASTEWA (Permit VA00626...</td>\n",
              "      <td>INS</td>\n",
              "      <td>VA</td>\n",
              "      <td>NaN</td>\n",
              "      <td>Inspection/Evaluation</td>\n",
              "      <td>Virginia</td>\n",
              "      <td>2005.0</td>\n",
              "      <td>Region 3</td>\n",
              "      <td>NaN</td>\n",
              "      <td>2-Nov-04</td>\n",
              "      <td>NaN</td>\n",
              "      <td>2-Nov-04</td>\n",
              "      <td>NaN</td>\n",
              "      <td>NaN</td>\n",
              "      <td>NaN</td>\n",
              "      <td>NaN</td>\n",
              "      <td>NaN</td>\n",
              "      <td>N</td>\n",
              "      <td>NaN</td>\n",
              "      <td>N</td>\n",
              "      <td>NaN</td>\n",
              "      <td>NaN</td>\n",
              "      <td>NaN</td>\n",
              "      <td>N</td>\n",
              "      <td>NaN</td>\n",
              "      <td>NaN</td>\n",
              "      <td>NaN</td>\n",
              "      <td>NaN</td>\n",
              "      <td>NaN</td>\n",
              "      <td>NaN</td>\n",
              "      <td>2005.0</td>\n",
              "      <td>1.0</td>\n",
              "      <td>S</td>\n",
              "      <td>2-Nov-04</td>\n",
              "    </tr>\n",
              "    <tr>\n",
              "      <th>...</th>\n",
              "      <td>...</td>\n",
              "      <td>...</td>\n",
              "      <td>...</td>\n",
              "      <td>...</td>\n",
              "      <td>...</td>\n",
              "      <td>...</td>\n",
              "      <td>...</td>\n",
              "      <td>...</td>\n",
              "      <td>...</td>\n",
              "      <td>...</td>\n",
              "      <td>...</td>\n",
              "      <td>...</td>\n",
              "      <td>...</td>\n",
              "      <td>...</td>\n",
              "      <td>...</td>\n",
              "      <td>...</td>\n",
              "      <td>...</td>\n",
              "      <td>...</td>\n",
              "      <td>...</td>\n",
              "      <td>...</td>\n",
              "      <td>...</td>\n",
              "      <td>...</td>\n",
              "      <td>...</td>\n",
              "      <td>...</td>\n",
              "      <td>...</td>\n",
              "      <td>...</td>\n",
              "      <td>...</td>\n",
              "      <td>...</td>\n",
              "      <td>...</td>\n",
              "      <td>...</td>\n",
              "      <td>...</td>\n",
              "      <td>...</td>\n",
              "      <td>...</td>\n",
              "      <td>...</td>\n",
              "      <td>...</td>\n",
              "      <td>...</td>\n",
              "    </tr>\n",
              "    <tr>\n",
              "      <th>22284</th>\n",
              "      <td>600036083</td>\n",
              "      <td>3200549927</td>\n",
              "      <td>HOPEWELL WWTP (Permit VA0066630) Pretreatment ...</td>\n",
              "      <td>INS</td>\n",
              "      <td>VA</td>\n",
              "      <td>NaN</td>\n",
              "      <td>Inspection/Evaluation</td>\n",
              "      <td>Virginia</td>\n",
              "      <td>1997.0</td>\n",
              "      <td>Region 3</td>\n",
              "      <td>NaN</td>\n",
              "      <td>11-Jun-97</td>\n",
              "      <td>NaN</td>\n",
              "      <td>11-Jun-97</td>\n",
              "      <td>NaN</td>\n",
              "      <td>NaN</td>\n",
              "      <td>NaN</td>\n",
              "      <td>NaN</td>\n",
              "      <td>NaN</td>\n",
              "      <td>N</td>\n",
              "      <td>NaN</td>\n",
              "      <td>N</td>\n",
              "      <td>NaN</td>\n",
              "      <td>NaN</td>\n",
              "      <td>NaN</td>\n",
              "      <td>N</td>\n",
              "      <td>NaN</td>\n",
              "      <td>NaN</td>\n",
              "      <td>NaN</td>\n",
              "      <td>NaN</td>\n",
              "      <td>NaN</td>\n",
              "      <td>NaN</td>\n",
              "      <td>1997.0</td>\n",
              "      <td>3.0</td>\n",
              "      <td>S</td>\n",
              "      <td>11-Jun-97</td>\n",
              "    </tr>\n",
              "    <tr>\n",
              "      <th>22287</th>\n",
              "      <td>600036083</td>\n",
              "      <td>3200549946</td>\n",
              "      <td>HOPEWELL WWTP (Permit VA0066630) Pretreatment ...</td>\n",
              "      <td>INS</td>\n",
              "      <td>VA</td>\n",
              "      <td>NaN</td>\n",
              "      <td>Inspection/Evaluation</td>\n",
              "      <td>Virginia</td>\n",
              "      <td>2001.0</td>\n",
              "      <td>Region 3</td>\n",
              "      <td>NaN</td>\n",
              "      <td>18-Jul-01</td>\n",
              "      <td>NaN</td>\n",
              "      <td>18-Jul-01</td>\n",
              "      <td>NaN</td>\n",
              "      <td>NaN</td>\n",
              "      <td>NaN</td>\n",
              "      <td>NaN</td>\n",
              "      <td>NaN</td>\n",
              "      <td>N</td>\n",
              "      <td>NaN</td>\n",
              "      <td>N</td>\n",
              "      <td>NaN</td>\n",
              "      <td>NaN</td>\n",
              "      <td>NaN</td>\n",
              "      <td>N</td>\n",
              "      <td>NaN</td>\n",
              "      <td>NaN</td>\n",
              "      <td>NaN</td>\n",
              "      <td>NaN</td>\n",
              "      <td>NaN</td>\n",
              "      <td>NaN</td>\n",
              "      <td>2001.0</td>\n",
              "      <td>4.0</td>\n",
              "      <td>S</td>\n",
              "      <td>18-Jul-01</td>\n",
              "    </tr>\n",
              "    <tr>\n",
              "      <th>22359</th>\n",
              "      <td>3330078</td>\n",
              "      <td>3200554785</td>\n",
              "      <td>HRSD - ATLANTIC SEWAGE TREATME (Permit VA00812...</td>\n",
              "      <td>INS</td>\n",
              "      <td>VA</td>\n",
              "      <td>NaN</td>\n",
              "      <td>Inspection/Evaluation</td>\n",
              "      <td>Virginia</td>\n",
              "      <td>2007.0</td>\n",
              "      <td>Region 3</td>\n",
              "      <td>NaN</td>\n",
              "      <td>26-Feb-07</td>\n",
              "      <td>NaN</td>\n",
              "      <td>26-Feb-07</td>\n",
              "      <td>NaN</td>\n",
              "      <td>NaN</td>\n",
              "      <td>NaN</td>\n",
              "      <td>NaN</td>\n",
              "      <td>NaN</td>\n",
              "      <td>N</td>\n",
              "      <td>NaN</td>\n",
              "      <td>N</td>\n",
              "      <td>NaN</td>\n",
              "      <td>NaN</td>\n",
              "      <td>NaN</td>\n",
              "      <td>N</td>\n",
              "      <td>NaN</td>\n",
              "      <td>NaN</td>\n",
              "      <td>NaN</td>\n",
              "      <td>NaN</td>\n",
              "      <td>NaN</td>\n",
              "      <td>NaN</td>\n",
              "      <td>2007.0</td>\n",
              "      <td>2.0</td>\n",
              "      <td>S</td>\n",
              "      <td>26-Feb-07</td>\n",
              "    </tr>\n",
              "    <tr>\n",
              "      <th>22361</th>\n",
              "      <td>3330078</td>\n",
              "      <td>3200554806</td>\n",
              "      <td>HRSD - ATLANTIC SEWAGE TREATME (Permit VA00812...</td>\n",
              "      <td>INS</td>\n",
              "      <td>VA</td>\n",
              "      <td>NaN</td>\n",
              "      <td>Inspection/Evaluation</td>\n",
              "      <td>Virginia</td>\n",
              "      <td>1991.0</td>\n",
              "      <td>Region 3</td>\n",
              "      <td>NaN</td>\n",
              "      <td>16-May-91</td>\n",
              "      <td>NaN</td>\n",
              "      <td>16-May-91</td>\n",
              "      <td>NaN</td>\n",
              "      <td>NaN</td>\n",
              "      <td>NaN</td>\n",
              "      <td>NaN</td>\n",
              "      <td>NaN</td>\n",
              "      <td>N</td>\n",
              "      <td>NaN</td>\n",
              "      <td>N</td>\n",
              "      <td>NaN</td>\n",
              "      <td>NaN</td>\n",
              "      <td>NaN</td>\n",
              "      <td>N</td>\n",
              "      <td>NaN</td>\n",
              "      <td>NaN</td>\n",
              "      <td>NaN</td>\n",
              "      <td>NaN</td>\n",
              "      <td>NaN</td>\n",
              "      <td>NaN</td>\n",
              "      <td>1991.0</td>\n",
              "      <td>3.0</td>\n",
              "      <td>S</td>\n",
              "      <td>16-May-91</td>\n",
              "    </tr>\n",
              "    <tr>\n",
              "      <th>22362</th>\n",
              "      <td>3330078</td>\n",
              "      <td>3200554807</td>\n",
              "      <td>HRSD - ATLANTIC SEWAGE TREATME (Permit VA00812...</td>\n",
              "      <td>INS</td>\n",
              "      <td>VA</td>\n",
              "      <td>NaN</td>\n",
              "      <td>Inspection/Evaluation</td>\n",
              "      <td>Virginia</td>\n",
              "      <td>1995.0</td>\n",
              "      <td>Region 3</td>\n",
              "      <td>NaN</td>\n",
              "      <td>7-Feb-95</td>\n",
              "      <td>NaN</td>\n",
              "      <td>7-Feb-95</td>\n",
              "      <td>NaN</td>\n",
              "      <td>NaN</td>\n",
              "      <td>NaN</td>\n",
              "      <td>NaN</td>\n",
              "      <td>NaN</td>\n",
              "      <td>N</td>\n",
              "      <td>NaN</td>\n",
              "      <td>N</td>\n",
              "      <td>NaN</td>\n",
              "      <td>NaN</td>\n",
              "      <td>NaN</td>\n",
              "      <td>N</td>\n",
              "      <td>NaN</td>\n",
              "      <td>NaN</td>\n",
              "      <td>NaN</td>\n",
              "      <td>NaN</td>\n",
              "      <td>NaN</td>\n",
              "      <td>NaN</td>\n",
              "      <td>1995.0</td>\n",
              "      <td>2.0</td>\n",
              "      <td>S</td>\n",
              "      <td>7-Feb-95</td>\n",
              "    </tr>\n",
              "  </tbody>\n",
              "</table>\n",
              "<p>524 rows × 36 columns</p>\n",
              "</div>"
            ],
            "text/plain": [
              "       ICIS_FACILITY_INTEREST_ID  ...  MOST_RECENT_ADOPT_DATE\n",
              "2509                     3329830  ...               16-Mar-10\n",
              "2524                  3200007262  ...                5-Mar-97\n",
              "2535                  3200007262  ...               17-May-05\n",
              "2607                  3200033296  ...               23-Mar-99\n",
              "2612                  3200010802  ...                2-Nov-04\n",
              "...                          ...  ...                     ...\n",
              "22284                  600036083  ...               11-Jun-97\n",
              "22287                  600036083  ...               18-Jul-01\n",
              "22359                    3330078  ...               26-Feb-07\n",
              "22361                    3330078  ...               16-May-91\n",
              "22362                    3330078  ...                7-Feb-95\n",
              "\n",
              "[524 rows x 36 columns]"
            ]
          },
          "metadata": {},
          "execution_count": 117
        }
      ]
    },
    {
      "cell_type": "code",
      "metadata": {
        "colab": {
          "base_uri": "https://localhost:8080/",
          "height": 763
        },
        "id": "lw6jpmqIbhWl",
        "outputId": "044ac869-368f-4b66-be2b-d33d13043909"
      },
      "source": [
        "# drop rows from specific columns if na\n",
        "df1.dropna(subset=['FISCAL_YEAR'], inplace=True)\n",
        "df1.info()"
      ],
      "execution_count": 118,
      "outputs": [
        {
          "output_type": "display_data",
          "data": {
            "text/html": [
              "\n",
              "  <style>\n",
              "    pre {\n",
              "        white-space: pre-wrap;\n",
              "    }\n",
              "  </style>\n",
              "  "
            ],
            "text/plain": [
              "<IPython.core.display.HTML object>"
            ]
          },
          "metadata": {}
        },
        {
          "output_type": "display_data",
          "data": {
            "text/html": [
              "\n",
              "  <style>\n",
              "    pre {\n",
              "        white-space: pre-wrap;\n",
              "    }\n",
              "  </style>\n",
              "  "
            ],
            "text/plain": [
              "<IPython.core.display.HTML object>"
            ]
          },
          "metadata": {}
        },
        {
          "output_type": "stream",
          "text": [
            "<class 'pandas.core.frame.DataFrame'>\n",
            "Int64Index: 21786 entries, 0 to 27319\n",
            "Data columns (total 36 columns):\n",
            " #   Column                     Non-Null Count  Dtype  \n",
            "---  ------                     --------------  -----  \n",
            " 0   ICIS_FACILITY_INTEREST_ID  21786 non-null  int64  \n",
            " 1   ACTIVITY_ID                21786 non-null  int64  \n",
            " 2   ACTIVITY_NAME              21786 non-null  object \n",
            " 3   ACTIVITY_TYPE_CODE         21786 non-null  object \n",
            " 4   STATE_CODE                 21786 non-null  object \n",
            " 5   COMP_INCENTIVE_DESC        1 non-null      object \n",
            " 6   ACTIVITY_TYPE_DESC         21786 non-null  object \n",
            " 7   STATE_DESC                 21786 non-null  object \n",
            " 8   FISCAL_YEAR                21786 non-null  float64\n",
            " 9   REGION_DESC                21786 non-null  object \n",
            " 10  ACTUAL_BEGIN_DATE          1053 non-null   object \n",
            " 11  ACTIVITY_STATUS_DATE       21642 non-null  object \n",
            " 12  PLANNED_BEGIN_DATE         0 non-null      float64\n",
            " 13  ACTUAL_END_DATE            21422 non-null  object \n",
            " 14  PLANNED_END_DATE           862 non-null    object \n",
            " 15  CANCELLATION_DATE          0 non-null      float64\n",
            " 16  ACTIVITY_STATUS_DESC       5864 non-null   object \n",
            " 17  DURATION                   0 non-null      float64\n",
            " 18  TOTAL_HOURS                0 non-null      float64\n",
            " 19  MULTIMEDIA_FLAG            19470 non-null  object \n",
            " 20  CANCELLATION_REASON_DESC   0 non-null      float64\n",
            " 21  SENSITIVE_DATA_FLAG        21786 non-null  object \n",
            " 22  INTERNAL_REVIEW_FLAG       147 non-null    object \n",
            " 23  COORDINATED_FLAG           0 non-null      float64\n",
            " 24  CONSOLIDATED_FLAG          0 non-null      float64\n",
            " 25  EPA_ASSIST_FLAG            15923 non-null  object \n",
            " 26  PLANNED_BEGIN_DATE_FY      0 non-null      float64\n",
            " 27  PLANNED_BEGIN_DATE_FYQ     0 non-null      float64\n",
            " 28  ACTUAL_BEGIN_DATE_FY       1053 non-null   float64\n",
            " 29  ACTUAL_BEGIN_DATE_FYQ      1053 non-null   float64\n",
            " 30  PLANNED_END_DATE_FY        862 non-null    float64\n",
            " 31  PLANNED_END_DATE_FYQ       862 non-null    float64\n",
            " 32  ACTUAL_END_DATE_FY         21422 non-null  float64\n",
            " 33  ACTUAL_END_DATE_FYQ        21422 non-null  float64\n",
            " 34  STATE_EPA_FLAG             21786 non-null  object \n",
            " 35  MOST_RECENT_ADOPT_DATE     524 non-null    object \n",
            "dtypes: float64(16), int64(2), object(18)\n",
            "memory usage: 6.1+ MB\n"
          ],
          "name": "stdout"
        }
      ]
    },
    {
      "cell_type": "code",
      "metadata": {
        "colab": {
          "base_uri": "https://localhost:8080/",
          "height": 763
        },
        "id": "GG11XrMfaHCq",
        "outputId": "b59714e0-34a0-41f5-bd9d-3b1f7c886d1f"
      },
      "source": [
        "# drop rows where all elements are missing\n",
        "df1.dropna(how='all', inplace=True)\n",
        "df1.info()"
      ],
      "execution_count": 119,
      "outputs": [
        {
          "output_type": "display_data",
          "data": {
            "text/html": [
              "\n",
              "  <style>\n",
              "    pre {\n",
              "        white-space: pre-wrap;\n",
              "    }\n",
              "  </style>\n",
              "  "
            ],
            "text/plain": [
              "<IPython.core.display.HTML object>"
            ]
          },
          "metadata": {}
        },
        {
          "output_type": "display_data",
          "data": {
            "text/html": [
              "\n",
              "  <style>\n",
              "    pre {\n",
              "        white-space: pre-wrap;\n",
              "    }\n",
              "  </style>\n",
              "  "
            ],
            "text/plain": [
              "<IPython.core.display.HTML object>"
            ]
          },
          "metadata": {}
        },
        {
          "output_type": "stream",
          "text": [
            "<class 'pandas.core.frame.DataFrame'>\n",
            "Int64Index: 21786 entries, 0 to 27319\n",
            "Data columns (total 36 columns):\n",
            " #   Column                     Non-Null Count  Dtype  \n",
            "---  ------                     --------------  -----  \n",
            " 0   ICIS_FACILITY_INTEREST_ID  21786 non-null  int64  \n",
            " 1   ACTIVITY_ID                21786 non-null  int64  \n",
            " 2   ACTIVITY_NAME              21786 non-null  object \n",
            " 3   ACTIVITY_TYPE_CODE         21786 non-null  object \n",
            " 4   STATE_CODE                 21786 non-null  object \n",
            " 5   COMP_INCENTIVE_DESC        1 non-null      object \n",
            " 6   ACTIVITY_TYPE_DESC         21786 non-null  object \n",
            " 7   STATE_DESC                 21786 non-null  object \n",
            " 8   FISCAL_YEAR                21786 non-null  float64\n",
            " 9   REGION_DESC                21786 non-null  object \n",
            " 10  ACTUAL_BEGIN_DATE          1053 non-null   object \n",
            " 11  ACTIVITY_STATUS_DATE       21642 non-null  object \n",
            " 12  PLANNED_BEGIN_DATE         0 non-null      float64\n",
            " 13  ACTUAL_END_DATE            21422 non-null  object \n",
            " 14  PLANNED_END_DATE           862 non-null    object \n",
            " 15  CANCELLATION_DATE          0 non-null      float64\n",
            " 16  ACTIVITY_STATUS_DESC       5864 non-null   object \n",
            " 17  DURATION                   0 non-null      float64\n",
            " 18  TOTAL_HOURS                0 non-null      float64\n",
            " 19  MULTIMEDIA_FLAG            19470 non-null  object \n",
            " 20  CANCELLATION_REASON_DESC   0 non-null      float64\n",
            " 21  SENSITIVE_DATA_FLAG        21786 non-null  object \n",
            " 22  INTERNAL_REVIEW_FLAG       147 non-null    object \n",
            " 23  COORDINATED_FLAG           0 non-null      float64\n",
            " 24  CONSOLIDATED_FLAG          0 non-null      float64\n",
            " 25  EPA_ASSIST_FLAG            15923 non-null  object \n",
            " 26  PLANNED_BEGIN_DATE_FY      0 non-null      float64\n",
            " 27  PLANNED_BEGIN_DATE_FYQ     0 non-null      float64\n",
            " 28  ACTUAL_BEGIN_DATE_FY       1053 non-null   float64\n",
            " 29  ACTUAL_BEGIN_DATE_FYQ      1053 non-null   float64\n",
            " 30  PLANNED_END_DATE_FY        862 non-null    float64\n",
            " 31  PLANNED_END_DATE_FYQ       862 non-null    float64\n",
            " 32  ACTUAL_END_DATE_FY         21422 non-null  float64\n",
            " 33  ACTUAL_END_DATE_FYQ        21422 non-null  float64\n",
            " 34  STATE_EPA_FLAG             21786 non-null  object \n",
            " 35  MOST_RECENT_ADOPT_DATE     524 non-null    object \n",
            "dtypes: float64(16), int64(2), object(18)\n",
            "memory usage: 6.1+ MB\n"
          ],
          "name": "stdout"
        }
      ]
    },
    {
      "cell_type": "markdown",
      "metadata": {
        "id": "bWbHeUg1bKCW"
      },
      "source": [
        "### fix float types to numeric"
      ]
    },
    {
      "cell_type": "code",
      "metadata": {
        "id": "MXxc4bHE_1Wu",
        "colab": {
          "base_uri": "https://localhost:8080/",
          "height": 659
        },
        "outputId": "09e717c8-5674-44f9-91c3-06050025d0d3"
      },
      "source": [
        "# convert column \"FISCAL_YEAR\" to numeric\n",
        "# since 'datetime' gave me a weird coded full date and timestamp, not just a FY\n",
        "\n",
        "# df1['FISCAL_YEAR'].astype(int)\n",
        "# pd.to_numeric(df1['FISCAL_YEAR'])\n",
        "df1 = df1.astype({'FISCAL_YEAR': np.int64})\n",
        "\n",
        "print(df1.dtypes)"
      ],
      "execution_count": 120,
      "outputs": [
        {
          "output_type": "display_data",
          "data": {
            "text/html": [
              "\n",
              "  <style>\n",
              "    pre {\n",
              "        white-space: pre-wrap;\n",
              "    }\n",
              "  </style>\n",
              "  "
            ],
            "text/plain": [
              "<IPython.core.display.HTML object>"
            ]
          },
          "metadata": {}
        },
        {
          "output_type": "display_data",
          "data": {
            "text/html": [
              "\n",
              "  <style>\n",
              "    pre {\n",
              "        white-space: pre-wrap;\n",
              "    }\n",
              "  </style>\n",
              "  "
            ],
            "text/plain": [
              "<IPython.core.display.HTML object>"
            ]
          },
          "metadata": {}
        },
        {
          "output_type": "stream",
          "text": [
            "ICIS_FACILITY_INTEREST_ID      int64\n",
            "ACTIVITY_ID                    int64\n",
            "ACTIVITY_NAME                 object\n",
            "ACTIVITY_TYPE_CODE            object\n",
            "STATE_CODE                    object\n",
            "COMP_INCENTIVE_DESC           object\n",
            "ACTIVITY_TYPE_DESC            object\n",
            "STATE_DESC                    object\n",
            "FISCAL_YEAR                    int64\n",
            "REGION_DESC                   object\n",
            "ACTUAL_BEGIN_DATE             object\n",
            "ACTIVITY_STATUS_DATE          object\n",
            "PLANNED_BEGIN_DATE           float64\n",
            "ACTUAL_END_DATE               object\n",
            "PLANNED_END_DATE              object\n",
            "CANCELLATION_DATE            float64\n",
            "ACTIVITY_STATUS_DESC          object\n",
            "DURATION                     float64\n",
            "TOTAL_HOURS                  float64\n",
            "MULTIMEDIA_FLAG               object\n",
            "CANCELLATION_REASON_DESC     float64\n",
            "SENSITIVE_DATA_FLAG           object\n",
            "INTERNAL_REVIEW_FLAG          object\n",
            "COORDINATED_FLAG             float64\n",
            "CONSOLIDATED_FLAG            float64\n",
            "EPA_ASSIST_FLAG               object\n",
            "PLANNED_BEGIN_DATE_FY        float64\n",
            "PLANNED_BEGIN_DATE_FYQ       float64\n",
            "ACTUAL_BEGIN_DATE_FY         float64\n",
            "ACTUAL_BEGIN_DATE_FYQ        float64\n",
            "PLANNED_END_DATE_FY          float64\n",
            "PLANNED_END_DATE_FYQ         float64\n",
            "ACTUAL_END_DATE_FY           float64\n",
            "ACTUAL_END_DATE_FYQ          float64\n",
            "STATE_EPA_FLAG                object\n",
            "MOST_RECENT_ADOPT_DATE        object\n",
            "dtype: object\n"
          ],
          "name": "stdout"
        }
      ]
    },
    {
      "cell_type": "code",
      "metadata": {
        "colab": {
          "base_uri": "https://localhost:8080/",
          "height": 763
        },
        "id": "TxyE8hOsAJ1P",
        "outputId": "ae665396-5779-464c-dea5-eba865d6f4b1"
      },
      "source": [
        "df1.info()"
      ],
      "execution_count": 121,
      "outputs": [
        {
          "output_type": "display_data",
          "data": {
            "text/html": [
              "\n",
              "  <style>\n",
              "    pre {\n",
              "        white-space: pre-wrap;\n",
              "    }\n",
              "  </style>\n",
              "  "
            ],
            "text/plain": [
              "<IPython.core.display.HTML object>"
            ]
          },
          "metadata": {}
        },
        {
          "output_type": "display_data",
          "data": {
            "text/html": [
              "\n",
              "  <style>\n",
              "    pre {\n",
              "        white-space: pre-wrap;\n",
              "    }\n",
              "  </style>\n",
              "  "
            ],
            "text/plain": [
              "<IPython.core.display.HTML object>"
            ]
          },
          "metadata": {}
        },
        {
          "output_type": "stream",
          "text": [
            "<class 'pandas.core.frame.DataFrame'>\n",
            "Int64Index: 21786 entries, 0 to 27319\n",
            "Data columns (total 36 columns):\n",
            " #   Column                     Non-Null Count  Dtype  \n",
            "---  ------                     --------------  -----  \n",
            " 0   ICIS_FACILITY_INTEREST_ID  21786 non-null  int64  \n",
            " 1   ACTIVITY_ID                21786 non-null  int64  \n",
            " 2   ACTIVITY_NAME              21786 non-null  object \n",
            " 3   ACTIVITY_TYPE_CODE         21786 non-null  object \n",
            " 4   STATE_CODE                 21786 non-null  object \n",
            " 5   COMP_INCENTIVE_DESC        1 non-null      object \n",
            " 6   ACTIVITY_TYPE_DESC         21786 non-null  object \n",
            " 7   STATE_DESC                 21786 non-null  object \n",
            " 8   FISCAL_YEAR                21786 non-null  int64  \n",
            " 9   REGION_DESC                21786 non-null  object \n",
            " 10  ACTUAL_BEGIN_DATE          1053 non-null   object \n",
            " 11  ACTIVITY_STATUS_DATE       21642 non-null  object \n",
            " 12  PLANNED_BEGIN_DATE         0 non-null      float64\n",
            " 13  ACTUAL_END_DATE            21422 non-null  object \n",
            " 14  PLANNED_END_DATE           862 non-null    object \n",
            " 15  CANCELLATION_DATE          0 non-null      float64\n",
            " 16  ACTIVITY_STATUS_DESC       5864 non-null   object \n",
            " 17  DURATION                   0 non-null      float64\n",
            " 18  TOTAL_HOURS                0 non-null      float64\n",
            " 19  MULTIMEDIA_FLAG            19470 non-null  object \n",
            " 20  CANCELLATION_REASON_DESC   0 non-null      float64\n",
            " 21  SENSITIVE_DATA_FLAG        21786 non-null  object \n",
            " 22  INTERNAL_REVIEW_FLAG       147 non-null    object \n",
            " 23  COORDINATED_FLAG           0 non-null      float64\n",
            " 24  CONSOLIDATED_FLAG          0 non-null      float64\n",
            " 25  EPA_ASSIST_FLAG            15923 non-null  object \n",
            " 26  PLANNED_BEGIN_DATE_FY      0 non-null      float64\n",
            " 27  PLANNED_BEGIN_DATE_FYQ     0 non-null      float64\n",
            " 28  ACTUAL_BEGIN_DATE_FY       1053 non-null   float64\n",
            " 29  ACTUAL_BEGIN_DATE_FYQ      1053 non-null   float64\n",
            " 30  PLANNED_END_DATE_FY        862 non-null    float64\n",
            " 31  PLANNED_END_DATE_FYQ       862 non-null    float64\n",
            " 32  ACTUAL_END_DATE_FY         21422 non-null  float64\n",
            " 33  ACTUAL_END_DATE_FYQ        21422 non-null  float64\n",
            " 34  STATE_EPA_FLAG             21786 non-null  object \n",
            " 35  MOST_RECENT_ADOPT_DATE     524 non-null    object \n",
            "dtypes: float64(15), int64(3), object(18)\n",
            "memory usage: 6.1+ MB\n"
          ],
          "name": "stdout"
        }
      ]
    },
    {
      "cell_type": "code",
      "metadata": {
        "colab": {
          "base_uri": "https://localhost:8080/",
          "height": 763
        },
        "id": "P8rwASuuavny",
        "outputId": "be5440ed-4300-4180-edfe-f993e5cfa622"
      },
      "source": [
        "# convert all dates to datetime\n",
        "\n",
        "df1 = df1.astype({'FISCAL_YEAR': np.int64})\n",
        "df1 = df1.astype({'ACTUAL_BEGIN_DATE':np.datetime64})\n",
        "df1 = df1.astype({'ACTIVITY_STATUS_DATE':np.datetime64})\n",
        "df1 = df1.astype({'ACTUAL_END_DATE':np.datetime64})\n",
        "df1 = df1.astype({'PLANNED_END_DATE':np.datetime64})\n",
        "df1 = df1.astype({'MOST_RECENT_ADOPT_DATE': np.datetime64})\n",
        "df1.ACTUAL_BEGIN_DATE_FY = df1.ACTUAL_BEGIN_DATE_FY.astype('Int64')\n",
        "df1.ACTUAL_BEGIN_DATE_FYQ = df1.ACTUAL_BEGIN_DATE_FYQ.astype('Int64')\n",
        "df1.PLANNED_END_DATE_FY = df1.PLANNED_END_DATE_FY.astype('Int64')\n",
        "df1.PLANNED_END_DATE_FYQ = df1.PLANNED_END_DATE_FYQ.astype('Int64')\n",
        "df1.ACTUAL_END_DATE_FY = df1.ACTUAL_END_DATE_FY.astype('Int64')\n",
        "df1.ACTUAL_END_DATE_FYQ = df1.ACTUAL_END_DATE_FYQ.astype('Int64')\n",
        "\n",
        "df1.info()\n"
      ],
      "execution_count": 122,
      "outputs": [
        {
          "output_type": "display_data",
          "data": {
            "text/html": [
              "\n",
              "  <style>\n",
              "    pre {\n",
              "        white-space: pre-wrap;\n",
              "    }\n",
              "  </style>\n",
              "  "
            ],
            "text/plain": [
              "<IPython.core.display.HTML object>"
            ]
          },
          "metadata": {}
        },
        {
          "output_type": "display_data",
          "data": {
            "text/html": [
              "\n",
              "  <style>\n",
              "    pre {\n",
              "        white-space: pre-wrap;\n",
              "    }\n",
              "  </style>\n",
              "  "
            ],
            "text/plain": [
              "<IPython.core.display.HTML object>"
            ]
          },
          "metadata": {}
        },
        {
          "output_type": "stream",
          "text": [
            "<class 'pandas.core.frame.DataFrame'>\n",
            "Int64Index: 21786 entries, 0 to 27319\n",
            "Data columns (total 36 columns):\n",
            " #   Column                     Non-Null Count  Dtype         \n",
            "---  ------                     --------------  -----         \n",
            " 0   ICIS_FACILITY_INTEREST_ID  21786 non-null  int64         \n",
            " 1   ACTIVITY_ID                21786 non-null  int64         \n",
            " 2   ACTIVITY_NAME              21786 non-null  object        \n",
            " 3   ACTIVITY_TYPE_CODE         21786 non-null  object        \n",
            " 4   STATE_CODE                 21786 non-null  object        \n",
            " 5   COMP_INCENTIVE_DESC        1 non-null      object        \n",
            " 6   ACTIVITY_TYPE_DESC         21786 non-null  object        \n",
            " 7   STATE_DESC                 21786 non-null  object        \n",
            " 8   FISCAL_YEAR                21786 non-null  int64         \n",
            " 9   REGION_DESC                21786 non-null  object        \n",
            " 10  ACTUAL_BEGIN_DATE          1053 non-null   datetime64[ns]\n",
            " 11  ACTIVITY_STATUS_DATE       21642 non-null  datetime64[ns]\n",
            " 12  PLANNED_BEGIN_DATE         0 non-null      float64       \n",
            " 13  ACTUAL_END_DATE            21422 non-null  datetime64[ns]\n",
            " 14  PLANNED_END_DATE           862 non-null    datetime64[ns]\n",
            " 15  CANCELLATION_DATE          0 non-null      float64       \n",
            " 16  ACTIVITY_STATUS_DESC       5864 non-null   object        \n",
            " 17  DURATION                   0 non-null      float64       \n",
            " 18  TOTAL_HOURS                0 non-null      float64       \n",
            " 19  MULTIMEDIA_FLAG            19470 non-null  object        \n",
            " 20  CANCELLATION_REASON_DESC   0 non-null      float64       \n",
            " 21  SENSITIVE_DATA_FLAG        21786 non-null  object        \n",
            " 22  INTERNAL_REVIEW_FLAG       147 non-null    object        \n",
            " 23  COORDINATED_FLAG           0 non-null      float64       \n",
            " 24  CONSOLIDATED_FLAG          0 non-null      float64       \n",
            " 25  EPA_ASSIST_FLAG            15923 non-null  object        \n",
            " 26  PLANNED_BEGIN_DATE_FY      0 non-null      float64       \n",
            " 27  PLANNED_BEGIN_DATE_FYQ     0 non-null      float64       \n",
            " 28  ACTUAL_BEGIN_DATE_FY       1053 non-null   Int64         \n",
            " 29  ACTUAL_BEGIN_DATE_FYQ      1053 non-null   Int64         \n",
            " 30  PLANNED_END_DATE_FY        862 non-null    Int64         \n",
            " 31  PLANNED_END_DATE_FYQ       862 non-null    Int64         \n",
            " 32  ACTUAL_END_DATE_FY         21422 non-null  Int64         \n",
            " 33  ACTUAL_END_DATE_FYQ        21422 non-null  Int64         \n",
            " 34  STATE_EPA_FLAG             21786 non-null  object        \n",
            " 35  MOST_RECENT_ADOPT_DATE     524 non-null    datetime64[ns]\n",
            "dtypes: Int64(6), datetime64[ns](5), float64(9), int64(3), object(13)\n",
            "memory usage: 6.3+ MB\n"
          ],
          "name": "stdout"
        }
      ]
    },
    {
      "cell_type": "code",
      "metadata": {
        "colab": {
          "base_uri": "https://localhost:8080/",
          "height": 365
        },
        "id": "uM4E941DANGT",
        "outputId": "431cef43-820b-4745-af17-9483a53d27d7"
      },
      "source": [
        "df1.head()"
      ],
      "execution_count": 123,
      "outputs": [
        {
          "output_type": "display_data",
          "data": {
            "text/html": [
              "\n",
              "  <style>\n",
              "    pre {\n",
              "        white-space: pre-wrap;\n",
              "    }\n",
              "  </style>\n",
              "  "
            ],
            "text/plain": [
              "<IPython.core.display.HTML object>"
            ]
          },
          "metadata": {}
        },
        {
          "output_type": "display_data",
          "data": {
            "text/html": [
              "\n",
              "  <style>\n",
              "    pre {\n",
              "        white-space: pre-wrap;\n",
              "    }\n",
              "  </style>\n",
              "  "
            ],
            "text/plain": [
              "<IPython.core.display.HTML object>"
            ]
          },
          "metadata": {}
        },
        {
          "output_type": "execute_result",
          "data": {
            "text/html": [
              "<div>\n",
              "<style scoped>\n",
              "    .dataframe tbody tr th:only-of-type {\n",
              "        vertical-align: middle;\n",
              "    }\n",
              "\n",
              "    .dataframe tbody tr th {\n",
              "        vertical-align: top;\n",
              "    }\n",
              "\n",
              "    .dataframe thead th {\n",
              "        text-align: right;\n",
              "    }\n",
              "</style>\n",
              "<table border=\"1\" class=\"dataframe\">\n",
              "  <thead>\n",
              "    <tr style=\"text-align: right;\">\n",
              "      <th></th>\n",
              "      <th>ICIS_FACILITY_INTEREST_ID</th>\n",
              "      <th>ACTIVITY_ID</th>\n",
              "      <th>ACTIVITY_NAME</th>\n",
              "      <th>ACTIVITY_TYPE_CODE</th>\n",
              "      <th>STATE_CODE</th>\n",
              "      <th>COMP_INCENTIVE_DESC</th>\n",
              "      <th>ACTIVITY_TYPE_DESC</th>\n",
              "      <th>STATE_DESC</th>\n",
              "      <th>FISCAL_YEAR</th>\n",
              "      <th>REGION_DESC</th>\n",
              "      <th>ACTUAL_BEGIN_DATE</th>\n",
              "      <th>ACTIVITY_STATUS_DATE</th>\n",
              "      <th>PLANNED_BEGIN_DATE</th>\n",
              "      <th>ACTUAL_END_DATE</th>\n",
              "      <th>PLANNED_END_DATE</th>\n",
              "      <th>CANCELLATION_DATE</th>\n",
              "      <th>ACTIVITY_STATUS_DESC</th>\n",
              "      <th>DURATION</th>\n",
              "      <th>TOTAL_HOURS</th>\n",
              "      <th>MULTIMEDIA_FLAG</th>\n",
              "      <th>CANCELLATION_REASON_DESC</th>\n",
              "      <th>SENSITIVE_DATA_FLAG</th>\n",
              "      <th>INTERNAL_REVIEW_FLAG</th>\n",
              "      <th>COORDINATED_FLAG</th>\n",
              "      <th>CONSOLIDATED_FLAG</th>\n",
              "      <th>EPA_ASSIST_FLAG</th>\n",
              "      <th>PLANNED_BEGIN_DATE_FY</th>\n",
              "      <th>PLANNED_BEGIN_DATE_FYQ</th>\n",
              "      <th>ACTUAL_BEGIN_DATE_FY</th>\n",
              "      <th>ACTUAL_BEGIN_DATE_FYQ</th>\n",
              "      <th>PLANNED_END_DATE_FY</th>\n",
              "      <th>PLANNED_END_DATE_FYQ</th>\n",
              "      <th>ACTUAL_END_DATE_FY</th>\n",
              "      <th>ACTUAL_END_DATE_FYQ</th>\n",
              "      <th>STATE_EPA_FLAG</th>\n",
              "      <th>MOST_RECENT_ADOPT_DATE</th>\n",
              "    </tr>\n",
              "  </thead>\n",
              "  <tbody>\n",
              "    <tr>\n",
              "      <th>0</th>\n",
              "      <td>29520</td>\n",
              "      <td>74296</td>\n",
              "      <td>PRESTON&amp;apos;S SERVICE CORP                   ...</td>\n",
              "      <td>CMD</td>\n",
              "      <td>VA</td>\n",
              "      <td>NaN</td>\n",
              "      <td>Compliance Determination</td>\n",
              "      <td>Virginia</td>\n",
              "      <td>2000</td>\n",
              "      <td>Washington Headquarters</td>\n",
              "      <td>NaT</td>\n",
              "      <td>NaT</td>\n",
              "      <td>NaN</td>\n",
              "      <td>NaT</td>\n",
              "      <td>NaT</td>\n",
              "      <td>NaN</td>\n",
              "      <td>Active</td>\n",
              "      <td>NaN</td>\n",
              "      <td>NaN</td>\n",
              "      <td>N</td>\n",
              "      <td>NaN</td>\n",
              "      <td>N</td>\n",
              "      <td>N</td>\n",
              "      <td>NaN</td>\n",
              "      <td>NaN</td>\n",
              "      <td>NaN</td>\n",
              "      <td>NaN</td>\n",
              "      <td>NaN</td>\n",
              "      <td>&lt;NA&gt;</td>\n",
              "      <td>&lt;NA&gt;</td>\n",
              "      <td>&lt;NA&gt;</td>\n",
              "      <td>&lt;NA&gt;</td>\n",
              "      <td>&lt;NA&gt;</td>\n",
              "      <td>&lt;NA&gt;</td>\n",
              "      <td>E</td>\n",
              "      <td>NaT</td>\n",
              "    </tr>\n",
              "    <tr>\n",
              "      <th>1</th>\n",
              "      <td>10389</td>\n",
              "      <td>74299</td>\n",
              "      <td>ENVIRONMENTAL SOLUTIONS, INC                  ...</td>\n",
              "      <td>CMD</td>\n",
              "      <td>VA</td>\n",
              "      <td>NaN</td>\n",
              "      <td>Compliance Determination</td>\n",
              "      <td>Virginia</td>\n",
              "      <td>2000</td>\n",
              "      <td>Washington Headquarters</td>\n",
              "      <td>NaT</td>\n",
              "      <td>NaT</td>\n",
              "      <td>NaN</td>\n",
              "      <td>NaT</td>\n",
              "      <td>NaT</td>\n",
              "      <td>NaN</td>\n",
              "      <td>Active</td>\n",
              "      <td>NaN</td>\n",
              "      <td>NaN</td>\n",
              "      <td>N</td>\n",
              "      <td>NaN</td>\n",
              "      <td>N</td>\n",
              "      <td>N</td>\n",
              "      <td>NaN</td>\n",
              "      <td>NaN</td>\n",
              "      <td>NaN</td>\n",
              "      <td>NaN</td>\n",
              "      <td>NaN</td>\n",
              "      <td>&lt;NA&gt;</td>\n",
              "      <td>&lt;NA&gt;</td>\n",
              "      <td>&lt;NA&gt;</td>\n",
              "      <td>&lt;NA&gt;</td>\n",
              "      <td>&lt;NA&gt;</td>\n",
              "      <td>&lt;NA&gt;</td>\n",
              "      <td>E</td>\n",
              "      <td>NaT</td>\n",
              "    </tr>\n",
              "    <tr>\n",
              "      <th>2</th>\n",
              "      <td>8117</td>\n",
              "      <td>74221</td>\n",
              "      <td>SIERRA MANUFACTURING COMPANY OF VIRGINIA      ...</td>\n",
              "      <td>CMD</td>\n",
              "      <td>VA</td>\n",
              "      <td>NaN</td>\n",
              "      <td>Compliance Determination</td>\n",
              "      <td>Virginia</td>\n",
              "      <td>1992</td>\n",
              "      <td>Washington Headquarters</td>\n",
              "      <td>NaT</td>\n",
              "      <td>NaT</td>\n",
              "      <td>NaN</td>\n",
              "      <td>NaT</td>\n",
              "      <td>NaT</td>\n",
              "      <td>NaN</td>\n",
              "      <td>Active</td>\n",
              "      <td>NaN</td>\n",
              "      <td>NaN</td>\n",
              "      <td>N</td>\n",
              "      <td>NaN</td>\n",
              "      <td>N</td>\n",
              "      <td>N</td>\n",
              "      <td>NaN</td>\n",
              "      <td>NaN</td>\n",
              "      <td>NaN</td>\n",
              "      <td>NaN</td>\n",
              "      <td>NaN</td>\n",
              "      <td>&lt;NA&gt;</td>\n",
              "      <td>&lt;NA&gt;</td>\n",
              "      <td>&lt;NA&gt;</td>\n",
              "      <td>&lt;NA&gt;</td>\n",
              "      <td>&lt;NA&gt;</td>\n",
              "      <td>&lt;NA&gt;</td>\n",
              "      <td>E</td>\n",
              "      <td>NaT</td>\n",
              "    </tr>\n",
              "    <tr>\n",
              "      <th>3</th>\n",
              "      <td>18424</td>\n",
              "      <td>74348</td>\n",
              "      <td>MOBIL OIL                                     ...</td>\n",
              "      <td>CMD</td>\n",
              "      <td>VA</td>\n",
              "      <td>NaN</td>\n",
              "      <td>Compliance Determination</td>\n",
              "      <td>Virginia</td>\n",
              "      <td>2000</td>\n",
              "      <td>Washington Headquarters</td>\n",
              "      <td>NaT</td>\n",
              "      <td>NaT</td>\n",
              "      <td>NaN</td>\n",
              "      <td>NaT</td>\n",
              "      <td>NaT</td>\n",
              "      <td>NaN</td>\n",
              "      <td>Active</td>\n",
              "      <td>NaN</td>\n",
              "      <td>NaN</td>\n",
              "      <td>N</td>\n",
              "      <td>NaN</td>\n",
              "      <td>N</td>\n",
              "      <td>N</td>\n",
              "      <td>NaN</td>\n",
              "      <td>NaN</td>\n",
              "      <td>NaN</td>\n",
              "      <td>NaN</td>\n",
              "      <td>NaN</td>\n",
              "      <td>&lt;NA&gt;</td>\n",
              "      <td>&lt;NA&gt;</td>\n",
              "      <td>&lt;NA&gt;</td>\n",
              "      <td>&lt;NA&gt;</td>\n",
              "      <td>&lt;NA&gt;</td>\n",
              "      <td>&lt;NA&gt;</td>\n",
              "      <td>E</td>\n",
              "      <td>NaT</td>\n",
              "    </tr>\n",
              "    <tr>\n",
              "      <th>4</th>\n",
              "      <td>22401</td>\n",
              "      <td>74348</td>\n",
              "      <td>MOBIL OIL                                     ...</td>\n",
              "      <td>CMD</td>\n",
              "      <td>VA</td>\n",
              "      <td>NaN</td>\n",
              "      <td>Compliance Determination</td>\n",
              "      <td>Virginia</td>\n",
              "      <td>2000</td>\n",
              "      <td>Washington Headquarters</td>\n",
              "      <td>NaT</td>\n",
              "      <td>NaT</td>\n",
              "      <td>NaN</td>\n",
              "      <td>NaT</td>\n",
              "      <td>NaT</td>\n",
              "      <td>NaN</td>\n",
              "      <td>Active</td>\n",
              "      <td>NaN</td>\n",
              "      <td>NaN</td>\n",
              "      <td>N</td>\n",
              "      <td>NaN</td>\n",
              "      <td>N</td>\n",
              "      <td>N</td>\n",
              "      <td>NaN</td>\n",
              "      <td>NaN</td>\n",
              "      <td>NaN</td>\n",
              "      <td>NaN</td>\n",
              "      <td>NaN</td>\n",
              "      <td>&lt;NA&gt;</td>\n",
              "      <td>&lt;NA&gt;</td>\n",
              "      <td>&lt;NA&gt;</td>\n",
              "      <td>&lt;NA&gt;</td>\n",
              "      <td>&lt;NA&gt;</td>\n",
              "      <td>&lt;NA&gt;</td>\n",
              "      <td>E</td>\n",
              "      <td>NaT</td>\n",
              "    </tr>\n",
              "  </tbody>\n",
              "</table>\n",
              "</div>"
            ],
            "text/plain": [
              "   ICIS_FACILITY_INTEREST_ID  ACTIVITY_ID  ... STATE_EPA_FLAG MOST_RECENT_ADOPT_DATE\n",
              "0                      29520        74296  ...              E                    NaT\n",
              "1                      10389        74299  ...              E                    NaT\n",
              "2                       8117        74221  ...              E                    NaT\n",
              "3                      18424        74348  ...              E                    NaT\n",
              "4                      22401        74348  ...              E                    NaT\n",
              "\n",
              "[5 rows x 36 columns]"
            ]
          },
          "metadata": {},
          "execution_count": 123
        }
      ]
    },
    {
      "cell_type": "markdown",
      "metadata": {
        "id": "K2mtqMG8ln4G"
      },
      "source": [
        "### drop all-null columns\n",
        "\n"
      ]
    },
    {
      "cell_type": "code",
      "metadata": {
        "colab": {
          "base_uri": "https://localhost:8080/",
          "height": 589
        },
        "id": "nfbo0_k1lwxb",
        "outputId": "55b1ae60-178f-4ff3-ddc9-1065bbb846e2"
      },
      "source": [
        "# drop the columns that are all nulls\n",
        "\n",
        "df1.drop(['COMP_INCENTIVE_DESC'], axis=1, inplace=True)\n",
        "df1.drop(['PLANNED_BEGIN_DATE'], axis=1, inplace=True)\n",
        "df1.drop(['CANCELLATION_DATE'], axis=1, inplace=True)\n",
        "df1.drop(['DURATION'], axis=1, inplace=True)\n",
        "df1.drop(['TOTAL_HOURS'], axis=1, inplace=True)\n",
        "df1.drop(['CANCELLATION_REASON_DESC'], axis=1, inplace=True)\n",
        "df1.drop(['COORDINATED_FLAG'], axis=1, inplace=True)\n",
        "df1.drop(['CONSOLIDATED_FLAG'], axis=1, inplace=True)\n",
        "df1.drop(['PLANNED_BEGIN_DATE_FY'], axis=1, inplace=True)\n",
        "df1.drop(['PLANNED_BEGIN_DATE_FYQ'], axis=1, inplace=True)\n",
        "\n",
        "df1.info()"
      ],
      "execution_count": 124,
      "outputs": [
        {
          "output_type": "display_data",
          "data": {
            "text/html": [
              "\n",
              "  <style>\n",
              "    pre {\n",
              "        white-space: pre-wrap;\n",
              "    }\n",
              "  </style>\n",
              "  "
            ],
            "text/plain": [
              "<IPython.core.display.HTML object>"
            ]
          },
          "metadata": {}
        },
        {
          "output_type": "display_data",
          "data": {
            "text/html": [
              "\n",
              "  <style>\n",
              "    pre {\n",
              "        white-space: pre-wrap;\n",
              "    }\n",
              "  </style>\n",
              "  "
            ],
            "text/plain": [
              "<IPython.core.display.HTML object>"
            ]
          },
          "metadata": {}
        },
        {
          "output_type": "stream",
          "text": [
            "<class 'pandas.core.frame.DataFrame'>\n",
            "Int64Index: 21786 entries, 0 to 27319\n",
            "Data columns (total 26 columns):\n",
            " #   Column                     Non-Null Count  Dtype         \n",
            "---  ------                     --------------  -----         \n",
            " 0   ICIS_FACILITY_INTEREST_ID  21786 non-null  int64         \n",
            " 1   ACTIVITY_ID                21786 non-null  int64         \n",
            " 2   ACTIVITY_NAME              21786 non-null  object        \n",
            " 3   ACTIVITY_TYPE_CODE         21786 non-null  object        \n",
            " 4   STATE_CODE                 21786 non-null  object        \n",
            " 5   ACTIVITY_TYPE_DESC         21786 non-null  object        \n",
            " 6   STATE_DESC                 21786 non-null  object        \n",
            " 7   FISCAL_YEAR                21786 non-null  int64         \n",
            " 8   REGION_DESC                21786 non-null  object        \n",
            " 9   ACTUAL_BEGIN_DATE          1053 non-null   datetime64[ns]\n",
            " 10  ACTIVITY_STATUS_DATE       21642 non-null  datetime64[ns]\n",
            " 11  ACTUAL_END_DATE            21422 non-null  datetime64[ns]\n",
            " 12  PLANNED_END_DATE           862 non-null    datetime64[ns]\n",
            " 13  ACTIVITY_STATUS_DESC       5864 non-null   object        \n",
            " 14  MULTIMEDIA_FLAG            19470 non-null  object        \n",
            " 15  SENSITIVE_DATA_FLAG        21786 non-null  object        \n",
            " 16  INTERNAL_REVIEW_FLAG       147 non-null    object        \n",
            " 17  EPA_ASSIST_FLAG            15923 non-null  object        \n",
            " 18  ACTUAL_BEGIN_DATE_FY       1053 non-null   Int64         \n",
            " 19  ACTUAL_BEGIN_DATE_FYQ      1053 non-null   Int64         \n",
            " 20  PLANNED_END_DATE_FY        862 non-null    Int64         \n",
            " 21  PLANNED_END_DATE_FYQ       862 non-null    Int64         \n",
            " 22  ACTUAL_END_DATE_FY         21422 non-null  Int64         \n",
            " 23  ACTUAL_END_DATE_FYQ        21422 non-null  Int64         \n",
            " 24  STATE_EPA_FLAG             21786 non-null  object        \n",
            " 25  MOST_RECENT_ADOPT_DATE     524 non-null    datetime64[ns]\n",
            "dtypes: Int64(6), datetime64[ns](5), int64(3), object(12)\n",
            "memory usage: 4.6+ MB\n"
          ],
          "name": "stdout"
        }
      ]
    },
    {
      "cell_type": "code",
      "metadata": {
        "colab": {
          "base_uri": "https://localhost:8080/",
          "height": 87
        },
        "id": "B8jXJM2Ybv6C",
        "outputId": "40ca4341-a6bd-44da-9758-ac5ac31f8124"
      },
      "source": [
        "df1.FISCAL_YEAR.unique()"
      ],
      "execution_count": 125,
      "outputs": [
        {
          "output_type": "display_data",
          "data": {
            "text/html": [
              "\n",
              "  <style>\n",
              "    pre {\n",
              "        white-space: pre-wrap;\n",
              "    }\n",
              "  </style>\n",
              "  "
            ],
            "text/plain": [
              "<IPython.core.display.HTML object>"
            ]
          },
          "metadata": {}
        },
        {
          "output_type": "display_data",
          "data": {
            "text/html": [
              "\n",
              "  <style>\n",
              "    pre {\n",
              "        white-space: pre-wrap;\n",
              "    }\n",
              "  </style>\n",
              "  "
            ],
            "text/plain": [
              "<IPython.core.display.HTML object>"
            ]
          },
          "metadata": {}
        },
        {
          "output_type": "execute_result",
          "data": {
            "text/plain": [
              "array([2000, 1992, 1990, 1997, 2001, 1993, 1994, 1989, 1991, 1996, 2002,\n",
              "       1999, 1983, 1998,    0, 2009, 2010, 1995, 2006, 2005, 2008, 2004,\n",
              "       2012, 1987, 1984, 2011, 2007, 1986, 1988, 2003, 1985, 2013, 1982,\n",
              "       1981, 2014, 2015])"
            ]
          },
          "metadata": {},
          "execution_count": 125
        }
      ]
    },
    {
      "cell_type": "code",
      "metadata": {
        "colab": {
          "base_uri": "https://localhost:8080/",
          "height": 35
        },
        "id": "S_b4IOSmr3KD",
        "outputId": "259e1733-4c7d-4efd-8180-1b00a76cbe93"
      },
      "source": [
        "# number of unique values by column\n",
        "\n",
        "n1 = df1.FISCAL_YEAR.nunique(dropna= True)\n",
        "print(\"Number of unique FYs is\", n1)"
      ],
      "execution_count": 126,
      "outputs": [
        {
          "output_type": "display_data",
          "data": {
            "text/html": [
              "\n",
              "  <style>\n",
              "    pre {\n",
              "        white-space: pre-wrap;\n",
              "    }\n",
              "  </style>\n",
              "  "
            ],
            "text/plain": [
              "<IPython.core.display.HTML object>"
            ]
          },
          "metadata": {}
        },
        {
          "output_type": "display_data",
          "data": {
            "text/html": [
              "\n",
              "  <style>\n",
              "    pre {\n",
              "        white-space: pre-wrap;\n",
              "    }\n",
              "  </style>\n",
              "  "
            ],
            "text/plain": [
              "<IPython.core.display.HTML object>"
            ]
          },
          "metadata": {}
        },
        {
          "output_type": "stream",
          "text": [
            "Number of unique FYs is 36\n"
          ],
          "name": "stdout"
        }
      ]
    },
    {
      "cell_type": "markdown",
      "metadata": {
        "id": "E6LzG104uKth"
      },
      "source": [
        "## df2: ICIS_FACILITY_INTEREST_state_code_VA\n",
        "\n",
        "This dataset shows all the information about Facilities in Virginia. I'll join it to the Activity Report to get a separate set with just the facilities with activities in df1."
      ]
    },
    {
      "cell_type": "code",
      "metadata": {
        "colab": {
          "base_uri": "https://localhost:8080/",
          "height": 434
        },
        "id": "qZPKVQSYuQGp",
        "outputId": "27eec672-1dee-49e9-a33d-8c67182dc430"
      },
      "source": [
        "csv2 = '/content/gdrive/My Drive/Colab Datasets - Thinkful Capstone 3/ICIS_FACILITY_INTEREST_state_code_VA_cols.csv'\n",
        "df2 = pd.read_csv(csv2) \n",
        "df2.head(5)"
      ],
      "execution_count": 127,
      "outputs": [
        {
          "output_type": "display_data",
          "data": {
            "text/html": [
              "\n",
              "  <style>\n",
              "    pre {\n",
              "        white-space: pre-wrap;\n",
              "    }\n",
              "  </style>\n",
              "  "
            ],
            "text/plain": [
              "<IPython.core.display.HTML object>"
            ]
          },
          "metadata": {}
        },
        {
          "output_type": "display_data",
          "data": {
            "text/html": [
              "\n",
              "  <style>\n",
              "    pre {\n",
              "        white-space: pre-wrap;\n",
              "    }\n",
              "  </style>\n",
              "  "
            ],
            "text/plain": [
              "<IPython.core.display.HTML object>"
            ]
          },
          "metadata": {}
        },
        {
          "output_type": "execute_result",
          "data": {
            "text/html": [
              "<div>\n",
              "<style scoped>\n",
              "    .dataframe tbody tr th:only-of-type {\n",
              "        vertical-align: middle;\n",
              "    }\n",
              "\n",
              "    .dataframe tbody tr th {\n",
              "        vertical-align: top;\n",
              "    }\n",
              "\n",
              "    .dataframe thead th {\n",
              "        text-align: right;\n",
              "    }\n",
              "</style>\n",
              "<table border=\"1\" class=\"dataframe\">\n",
              "  <thead>\n",
              "    <tr style=\"text-align: right;\">\n",
              "      <th></th>\n",
              "      <th>ICIS_FACILITY_INTEREST_ID</th>\n",
              "      <th>PGM_SYS_ACRNM</th>\n",
              "      <th>PGM_SYS_ID</th>\n",
              "      <th>FACILITY_UIN</th>\n",
              "      <th>FACILITY_TYPE_DESC</th>\n",
              "      <th>FACILITY_NAME</th>\n",
              "      <th>LOCATION_ADDRESS</th>\n",
              "      <th>SUPPLEMENTAL_ADDRESS_TEXT</th>\n",
              "      <th>CITY</th>\n",
              "      <th>CITY_NAME</th>\n",
              "      <th>COUNTY_NAME</th>\n",
              "      <th>STATE_CODE</th>\n",
              "      <th>STATE_DESC</th>\n",
              "      <th>ZIP</th>\n",
              "      <th>COUNTRY_DESC</th>\n",
              "      <th>FEDERAL_FACILITY_ID</th>\n",
              "      <th>FEDERAL_FACILITY_FLAG</th>\n",
              "      <th>TRIBAL_LAND_FLAG</th>\n",
              "      <th>CONGRESSIONAL_DIST_NUM</th>\n",
              "      <th>LEGISLATIVE_DIST_NUM</th>\n",
              "      <th>FEDERAL_AGENCY_NAME</th>\n",
              "      <th>HUC_CODE</th>\n",
              "      <th>REGION_DESC</th>\n",
              "      <th>TRIBAL_LAND_R_CODE</th>\n",
              "      <th>ORGANIZATION_DUNS_NMBR</th>\n",
              "      <th>SMALL_BUSINESS_FLAG</th>\n",
              "      <th>ENVIRONMENTAL_JUSTICE_DESC</th>\n",
              "      <th>COMMENT_TEXT</th>\n",
              "      <th>STATE_REGION</th>\n",
              "      <th>NPL_FLAG</th>\n",
              "      <th>SENSITIVE_DATA_FLAG</th>\n",
              "      <th>STATE_FACILITY_ID</th>\n",
              "      <th>SECTION_TOWNSHIP_RANGE</th>\n",
              "      <th>UDF1</th>\n",
              "      <th>UDF2</th>\n",
              "      <th>UDF3</th>\n",
              "      <th>UDF4</th>\n",
              "      <th>UDF5</th>\n",
              "      <th>GEOCODE_LONGITUDE</th>\n",
              "      <th>GEOCODE_LATITUDE</th>\n",
              "      <th>CONSTRUCTION_PROJECT_NAME</th>\n",
              "      <th>GEOMETRIC_TYPE_NAME</th>\n",
              "      <th>HORIZONTAL_COLLECT_METHOD_TEXT</th>\n",
              "      <th>HORIZONTAL_REF_DATUM_NAME</th>\n",
              "      <th>REFERENCE_POINT_CODE</th>\n",
              "      <th>REFERENCE_POINT_DESC</th>\n",
              "      <th>CONSTRUCTION_PROJECT_LAT</th>\n",
              "      <th>CONSTRUCTION_PROJECT_LONG</th>\n",
              "      <th>HORIZONTAL_ACCURACY_MEASURE</th>\n",
              "      <th>SOURCE_MAP_SCALE_NMBR</th>\n",
              "      <th>AIR_LCON_CODE</th>\n",
              "      <th>ORIG_GEOCODE_COORD_FORMAT_CODE</th>\n",
              "      <th>ORIG_CONSTR_COORD_FORMAT_CODE</th>\n",
              "      <th>FACILITY_TYPE_CODE</th>\n",
              "    </tr>\n",
              "  </thead>\n",
              "  <tbody>\n",
              "    <tr>\n",
              "      <th>0</th>\n",
              "      <td>41619</td>\n",
              "      <td>ICIS</td>\n",
              "      <td>41619</td>\n",
              "      <td>1.100110e+11</td>\n",
              "      <td>NaN</td>\n",
              "      <td>ALLEGHENY SPRINGS WATER WORKS</td>\n",
              "      <td>RT 1</td>\n",
              "      <td>NaN</td>\n",
              "      <td>SHAWSVILLE</td>\n",
              "      <td>Shawsville</td>\n",
              "      <td>Montgomery</td>\n",
              "      <td>VA</td>\n",
              "      <td>Virginia</td>\n",
              "      <td>24162</td>\n",
              "      <td>NaN</td>\n",
              "      <td>NaN</td>\n",
              "      <td>NaN</td>\n",
              "      <td>NaN</td>\n",
              "      <td>2.0</td>\n",
              "      <td>NaN</td>\n",
              "      <td>NaN</td>\n",
              "      <td>NaN</td>\n",
              "      <td>Region 3</td>\n",
              "      <td>NaN</td>\n",
              "      <td>NaN</td>\n",
              "      <td>NaN</td>\n",
              "      <td>NaN</td>\n",
              "      <td>NaN</td>\n",
              "      <td>NaN</td>\n",
              "      <td>NaN</td>\n",
              "      <td>NaN</td>\n",
              "      <td>NaN</td>\n",
              "      <td>NaN</td>\n",
              "      <td>NaN</td>\n",
              "      <td>NaN</td>\n",
              "      <td>NaN</td>\n",
              "      <td>NaN</td>\n",
              "      <td>NaN</td>\n",
              "      <td>-80.213930</td>\n",
              "      <td>37.097335</td>\n",
              "      <td>NaN</td>\n",
              "      <td>NaN</td>\n",
              "      <td>NaN</td>\n",
              "      <td>NaN</td>\n",
              "      <td>NaN</td>\n",
              "      <td>NaN</td>\n",
              "      <td>NaN</td>\n",
              "      <td>NaN</td>\n",
              "      <td>NaN</td>\n",
              "      <td>NaN</td>\n",
              "      <td>NaN</td>\n",
              "      <td>DD</td>\n",
              "      <td>DD</td>\n",
              "      <td>NaN</td>\n",
              "    </tr>\n",
              "    <tr>\n",
              "      <th>1</th>\n",
              "      <td>41628</td>\n",
              "      <td>ICIS</td>\n",
              "      <td>41628</td>\n",
              "      <td>1.100110e+11</td>\n",
              "      <td>NaN</td>\n",
              "      <td>RANDLE RIDGE</td>\n",
              "      <td>RT 1 2734 N MARY MAC RD</td>\n",
              "      <td>NaN</td>\n",
              "      <td>CULPEPER</td>\n",
              "      <td>Culpeper</td>\n",
              "      <td>Culpeper</td>\n",
              "      <td>VA</td>\n",
              "      <td>Virginia</td>\n",
              "      <td>22701</td>\n",
              "      <td>NaN</td>\n",
              "      <td>NaN</td>\n",
              "      <td>N</td>\n",
              "      <td>NaN</td>\n",
              "      <td>2.0</td>\n",
              "      <td>NaN</td>\n",
              "      <td>NaN</td>\n",
              "      <td>NaN</td>\n",
              "      <td>Region 3</td>\n",
              "      <td>NaN</td>\n",
              "      <td>NaN</td>\n",
              "      <td>NaN</td>\n",
              "      <td>NaN</td>\n",
              "      <td>NaN</td>\n",
              "      <td>NaN</td>\n",
              "      <td>NaN</td>\n",
              "      <td>NaN</td>\n",
              "      <td>NaN</td>\n",
              "      <td>NaN</td>\n",
              "      <td>NaN</td>\n",
              "      <td>NaN</td>\n",
              "      <td>NaN</td>\n",
              "      <td>NaN</td>\n",
              "      <td>NaN</td>\n",
              "      <td>NaN</td>\n",
              "      <td>NaN</td>\n",
              "      <td>NaN</td>\n",
              "      <td>NaN</td>\n",
              "      <td>NaN</td>\n",
              "      <td>NaN</td>\n",
              "      <td>NaN</td>\n",
              "      <td>NaN</td>\n",
              "      <td>NaN</td>\n",
              "      <td>NaN</td>\n",
              "      <td>NaN</td>\n",
              "      <td>NaN</td>\n",
              "      <td>NaN</td>\n",
              "      <td>DD</td>\n",
              "      <td>DD</td>\n",
              "      <td>NaN</td>\n",
              "    </tr>\n",
              "    <tr>\n",
              "      <th>2</th>\n",
              "      <td>41629</td>\n",
              "      <td>ICIS</td>\n",
              "      <td>41629</td>\n",
              "      <td>1.100110e+11</td>\n",
              "      <td>NaN</td>\n",
              "      <td>PORTER FARM SUBDIVISION WATER ASSOCIATION</td>\n",
              "      <td>RTES 644 &amp; 1001</td>\n",
              "      <td>NaN</td>\n",
              "      <td>BLUEFIELD</td>\n",
              "      <td>Bluefield</td>\n",
              "      <td>Tazewell</td>\n",
              "      <td>VA</td>\n",
              "      <td>Virginia</td>\n",
              "      <td>24605</td>\n",
              "      <td>NaN</td>\n",
              "      <td>NaN</td>\n",
              "      <td>NaN</td>\n",
              "      <td>NaN</td>\n",
              "      <td>9.0</td>\n",
              "      <td>NaN</td>\n",
              "      <td>NaN</td>\n",
              "      <td>NaN</td>\n",
              "      <td>Region 3</td>\n",
              "      <td>NaN</td>\n",
              "      <td>NaN</td>\n",
              "      <td>NaN</td>\n",
              "      <td>NaN</td>\n",
              "      <td>NaN</td>\n",
              "      <td>NaN</td>\n",
              "      <td>NaN</td>\n",
              "      <td>NaN</td>\n",
              "      <td>NaN</td>\n",
              "      <td>NaN</td>\n",
              "      <td>NaN</td>\n",
              "      <td>NaN</td>\n",
              "      <td>NaN</td>\n",
              "      <td>NaN</td>\n",
              "      <td>NaN</td>\n",
              "      <td>-81.448700</td>\n",
              "      <td>37.244800</td>\n",
              "      <td>NaN</td>\n",
              "      <td>NaN</td>\n",
              "      <td>NaN</td>\n",
              "      <td>NaN</td>\n",
              "      <td>NaN</td>\n",
              "      <td>NaN</td>\n",
              "      <td>NaN</td>\n",
              "      <td>NaN</td>\n",
              "      <td>180.0</td>\n",
              "      <td>NaN</td>\n",
              "      <td>NaN</td>\n",
              "      <td>DD</td>\n",
              "      <td>DD</td>\n",
              "      <td>NaN</td>\n",
              "    </tr>\n",
              "    <tr>\n",
              "      <th>3</th>\n",
              "      <td>42734</td>\n",
              "      <td>ICIS</td>\n",
              "      <td>42734</td>\n",
              "      <td>1.100090e+11</td>\n",
              "      <td>NaN</td>\n",
              "      <td>DIXIE CAVERNS COUNTY LANDFILL</td>\n",
              "      <td>RTE 778</td>\n",
              "      <td>RTE 778</td>\n",
              "      <td>SALEM</td>\n",
              "      <td>NaN</td>\n",
              "      <td>Roanoke</td>\n",
              "      <td>VA</td>\n",
              "      <td>Virginia</td>\n",
              "      <td>24153</td>\n",
              "      <td>NaN</td>\n",
              "      <td>NaN</td>\n",
              "      <td>N</td>\n",
              "      <td>NaN</td>\n",
              "      <td>9.0</td>\n",
              "      <td>NaN</td>\n",
              "      <td>NaN</td>\n",
              "      <td>NaN</td>\n",
              "      <td>Region 3</td>\n",
              "      <td>NaN</td>\n",
              "      <td>NaN</td>\n",
              "      <td>NaN</td>\n",
              "      <td>NaN</td>\n",
              "      <td>NaN</td>\n",
              "      <td>NaN</td>\n",
              "      <td>NaN</td>\n",
              "      <td>NaN</td>\n",
              "      <td>NaN</td>\n",
              "      <td>NaN</td>\n",
              "      <td>NaN</td>\n",
              "      <td>NaN</td>\n",
              "      <td>NaN</td>\n",
              "      <td>NaN</td>\n",
              "      <td>NaN</td>\n",
              "      <td>-80.193610</td>\n",
              "      <td>37.259710</td>\n",
              "      <td>NaN</td>\n",
              "      <td>NaN</td>\n",
              "      <td>NaN</td>\n",
              "      <td>NaN</td>\n",
              "      <td>NaN</td>\n",
              "      <td>NaN</td>\n",
              "      <td>NaN</td>\n",
              "      <td>NaN</td>\n",
              "      <td>80.0</td>\n",
              "      <td>NaN</td>\n",
              "      <td>NaN</td>\n",
              "      <td>DD</td>\n",
              "      <td>DD</td>\n",
              "      <td>NaN</td>\n",
              "    </tr>\n",
              "    <tr>\n",
              "      <th>4</th>\n",
              "      <td>42102</td>\n",
              "      <td>ICIS</td>\n",
              "      <td>42102</td>\n",
              "      <td>1.100120e+11</td>\n",
              "      <td>NaN</td>\n",
              "      <td>TAZEWELL HAPPY MARK</td>\n",
              "      <td>RT 460 E</td>\n",
              "      <td>NaN</td>\n",
              "      <td>TAZEWELL</td>\n",
              "      <td>Tazewell</td>\n",
              "      <td>Tazewell</td>\n",
              "      <td>VA</td>\n",
              "      <td>Virginia</td>\n",
              "      <td>24651</td>\n",
              "      <td>NaN</td>\n",
              "      <td>NaN</td>\n",
              "      <td>NaN</td>\n",
              "      <td>NaN</td>\n",
              "      <td>9.0</td>\n",
              "      <td>NaN</td>\n",
              "      <td>NaN</td>\n",
              "      <td>NaN</td>\n",
              "      <td>Region 3</td>\n",
              "      <td>NaN</td>\n",
              "      <td>NaN</td>\n",
              "      <td>NaN</td>\n",
              "      <td>NaN</td>\n",
              "      <td>NaN</td>\n",
              "      <td>NaN</td>\n",
              "      <td>NaN</td>\n",
              "      <td>NaN</td>\n",
              "      <td>NaN</td>\n",
              "      <td>NaN</td>\n",
              "      <td>NaN</td>\n",
              "      <td>NaN</td>\n",
              "      <td>NaN</td>\n",
              "      <td>NaN</td>\n",
              "      <td>NaN</td>\n",
              "      <td>-81.532369</td>\n",
              "      <td>37.112778</td>\n",
              "      <td>NaN</td>\n",
              "      <td>NaN</td>\n",
              "      <td>NaN</td>\n",
              "      <td>NaN</td>\n",
              "      <td>NaN</td>\n",
              "      <td>NaN</td>\n",
              "      <td>NaN</td>\n",
              "      <td>NaN</td>\n",
              "      <td>NaN</td>\n",
              "      <td>NaN</td>\n",
              "      <td>NaN</td>\n",
              "      <td>DD</td>\n",
              "      <td>DD</td>\n",
              "      <td>NaN</td>\n",
              "    </tr>\n",
              "  </tbody>\n",
              "</table>\n",
              "</div>"
            ],
            "text/plain": [
              "   ICIS_FACILITY_INTEREST_ID  ... FACILITY_TYPE_CODE\n",
              "0                      41619  ...                NaN\n",
              "1                      41628  ...                NaN\n",
              "2                      41629  ...                NaN\n",
              "3                      42734  ...                NaN\n",
              "4                      42102  ...                NaN\n",
              "\n",
              "[5 rows x 54 columns]"
            ]
          },
          "metadata": {},
          "execution_count": 127
        }
      ]
    },
    {
      "cell_type": "code",
      "metadata": {
        "colab": {
          "base_uri": "https://localhost:8080/",
          "height": 35
        },
        "id": "fTJyQuzeu48G",
        "outputId": "67963e25-3ba4-4d88-8c62-3d3034d6575d"
      },
      "source": [
        "df2.shape"
      ],
      "execution_count": 128,
      "outputs": [
        {
          "output_type": "display_data",
          "data": {
            "text/html": [
              "\n",
              "  <style>\n",
              "    pre {\n",
              "        white-space: pre-wrap;\n",
              "    }\n",
              "  </style>\n",
              "  "
            ],
            "text/plain": [
              "<IPython.core.display.HTML object>"
            ]
          },
          "metadata": {}
        },
        {
          "output_type": "display_data",
          "data": {
            "text/html": [
              "\n",
              "  <style>\n",
              "    pre {\n",
              "        white-space: pre-wrap;\n",
              "    }\n",
              "  </style>\n",
              "  "
            ],
            "text/plain": [
              "<IPython.core.display.HTML object>"
            ]
          },
          "metadata": {}
        },
        {
          "output_type": "execute_result",
          "data": {
            "text/plain": [
              "(20387, 54)"
            ]
          },
          "metadata": {},
          "execution_count": 128
        }
      ]
    },
    {
      "cell_type": "code",
      "metadata": {
        "id": "Vx3BmrBA-vUJ",
        "colab": {
          "base_uri": "https://localhost:8080/",
          "height": 1000
        },
        "outputId": "cd8febb1-00d3-448c-942c-8cfe04209fe1"
      },
      "source": [
        "df2.info()"
      ],
      "execution_count": 129,
      "outputs": [
        {
          "output_type": "display_data",
          "data": {
            "text/html": [
              "\n",
              "  <style>\n",
              "    pre {\n",
              "        white-space: pre-wrap;\n",
              "    }\n",
              "  </style>\n",
              "  "
            ],
            "text/plain": [
              "<IPython.core.display.HTML object>"
            ]
          },
          "metadata": {}
        },
        {
          "output_type": "display_data",
          "data": {
            "text/html": [
              "\n",
              "  <style>\n",
              "    pre {\n",
              "        white-space: pre-wrap;\n",
              "    }\n",
              "  </style>\n",
              "  "
            ],
            "text/plain": [
              "<IPython.core.display.HTML object>"
            ]
          },
          "metadata": {}
        },
        {
          "output_type": "stream",
          "text": [
            "<class 'pandas.core.frame.DataFrame'>\n",
            "RangeIndex: 20387 entries, 0 to 20386\n",
            "Data columns (total 54 columns):\n",
            " #   Column                          Non-Null Count  Dtype  \n",
            "---  ------                          --------------  -----  \n",
            " 0   ICIS_FACILITY_INTEREST_ID       20387 non-null  int64  \n",
            " 1   PGM_SYS_ACRNM                   20387 non-null  object \n",
            " 2   PGM_SYS_ID                      20387 non-null  object \n",
            " 3   FACILITY_UIN                    19660 non-null  float64\n",
            " 4   FACILITY_TYPE_DESC              14893 non-null  object \n",
            " 5   FACILITY_NAME                   20387 non-null  object \n",
            " 6   LOCATION_ADDRESS                20375 non-null  object \n",
            " 7   SUPPLEMENTAL_ADDRESS_TEXT       258 non-null    object \n",
            " 8   CITY                            20378 non-null  object \n",
            " 9   CITY_NAME                       3838 non-null   object \n",
            " 10  COUNTY_NAME                     14041 non-null  object \n",
            " 11  STATE_CODE                      20387 non-null  object \n",
            " 12  STATE_DESC                      20387 non-null  object \n",
            " 13  ZIP                             20378 non-null  object \n",
            " 14  COUNTRY_DESC                    5733 non-null   object \n",
            " 15  FEDERAL_FACILITY_ID             35 non-null     object \n",
            " 16  FEDERAL_FACILITY_FLAG           13018 non-null  object \n",
            " 17  TRIBAL_LAND_FLAG                1793 non-null   object \n",
            " 18  CONGRESSIONAL_DIST_NUM          18558 non-null  float64\n",
            " 19  LEGISLATIVE_DIST_NUM            3777 non-null   float64\n",
            " 20  FEDERAL_AGENCY_NAME             132 non-null    object \n",
            " 21  HUC_CODE                        391 non-null    float64\n",
            " 22  REGION_DESC                     20384 non-null  object \n",
            " 23  TRIBAL_LAND_R_CODE              1 non-null      float64\n",
            " 24  ORGANIZATION_DUNS_NMBR          576 non-null    object \n",
            " 25  SMALL_BUSINESS_FLAG             15007 non-null  object \n",
            " 26  ENVIRONMENTAL_JUSTICE_DESC      32 non-null     object \n",
            " 27  COMMENT_TEXT                    345 non-null    object \n",
            " 28  STATE_REGION                    5033 non-null   object \n",
            " 29  NPL_FLAG                        0 non-null      float64\n",
            " 30  SENSITIVE_DATA_FLAG             5602 non-null   object \n",
            " 31  STATE_FACILITY_ID               20 non-null     object \n",
            " 32  SECTION_TOWNSHIP_RANGE          0 non-null      float64\n",
            " 33  UDF1                            68 non-null     object \n",
            " 34  UDF2                            2641 non-null   object \n",
            " 35  UDF3                            2406 non-null   object \n",
            " 36  UDF4                            1 non-null      object \n",
            " 37  UDF5                            15 non-null     object \n",
            " 38  GEOCODE_LONGITUDE               18507 non-null  float64\n",
            " 39  GEOCODE_LATITUDE                18507 non-null  float64\n",
            " 40  CONSTRUCTION_PROJECT_NAME       5 non-null      object \n",
            " 41  GEOMETRIC_TYPE_NAME             3642 non-null   object \n",
            " 42  HORIZONTAL_COLLECT_METHOD_TEXT  4305 non-null   object \n",
            " 43  HORIZONTAL_REF_DATUM_NAME       3686 non-null   object \n",
            " 44  REFERENCE_POINT_CODE            0 non-null      float64\n",
            " 45  REFERENCE_POINT_DESC            4215 non-null   object \n",
            " 46  CONSTRUCTION_PROJECT_LAT        36 non-null     float64\n",
            " 47  CONSTRUCTION_PROJECT_LONG       36 non-null     float64\n",
            " 48  HORIZONTAL_ACCURACY_MEASURE     16884 non-null  float64\n",
            " 49  SOURCE_MAP_SCALE_NMBR           46 non-null     float64\n",
            " 50  AIR_LCON_CODE                   0 non-null      float64\n",
            " 51  ORIG_GEOCODE_COORD_FORMAT_CODE  19931 non-null  object \n",
            " 52  ORIG_CONSTR_COORD_FORMAT_CODE   19091 non-null  object \n",
            " 53  FACILITY_TYPE_CODE              14893 non-null  object \n",
            "dtypes: float64(15), int64(1), object(38)\n",
            "memory usage: 8.4+ MB\n"
          ],
          "name": "stdout"
        }
      ]
    },
    {
      "cell_type": "markdown",
      "metadata": {
        "id": "BZoUHLDVoH4j"
      },
      "source": [
        "### fix float types to numeric"
      ]
    },
    {
      "cell_type": "code",
      "metadata": {
        "colab": {
          "base_uri": "https://localhost:8080/",
          "height": 1000
        },
        "id": "JNR5YTLGtSsD",
        "outputId": "efbb16e0-3c5f-4e05-976c-c89e64ced382"
      },
      "source": [
        "# change certain floats to ints\n",
        "\n",
        "df2.CONGRESSIONAL_DIST_NUM = df2.CONGRESSIONAL_DIST_NUM.astype('Int64')\n",
        "\n",
        "df2.info()"
      ],
      "execution_count": 130,
      "outputs": [
        {
          "output_type": "display_data",
          "data": {
            "text/html": [
              "\n",
              "  <style>\n",
              "    pre {\n",
              "        white-space: pre-wrap;\n",
              "    }\n",
              "  </style>\n",
              "  "
            ],
            "text/plain": [
              "<IPython.core.display.HTML object>"
            ]
          },
          "metadata": {}
        },
        {
          "output_type": "display_data",
          "data": {
            "text/html": [
              "\n",
              "  <style>\n",
              "    pre {\n",
              "        white-space: pre-wrap;\n",
              "    }\n",
              "  </style>\n",
              "  "
            ],
            "text/plain": [
              "<IPython.core.display.HTML object>"
            ]
          },
          "metadata": {}
        },
        {
          "output_type": "stream",
          "text": [
            "<class 'pandas.core.frame.DataFrame'>\n",
            "RangeIndex: 20387 entries, 0 to 20386\n",
            "Data columns (total 54 columns):\n",
            " #   Column                          Non-Null Count  Dtype  \n",
            "---  ------                          --------------  -----  \n",
            " 0   ICIS_FACILITY_INTEREST_ID       20387 non-null  int64  \n",
            " 1   PGM_SYS_ACRNM                   20387 non-null  object \n",
            " 2   PGM_SYS_ID                      20387 non-null  object \n",
            " 3   FACILITY_UIN                    19660 non-null  float64\n",
            " 4   FACILITY_TYPE_DESC              14893 non-null  object \n",
            " 5   FACILITY_NAME                   20387 non-null  object \n",
            " 6   LOCATION_ADDRESS                20375 non-null  object \n",
            " 7   SUPPLEMENTAL_ADDRESS_TEXT       258 non-null    object \n",
            " 8   CITY                            20378 non-null  object \n",
            " 9   CITY_NAME                       3838 non-null   object \n",
            " 10  COUNTY_NAME                     14041 non-null  object \n",
            " 11  STATE_CODE                      20387 non-null  object \n",
            " 12  STATE_DESC                      20387 non-null  object \n",
            " 13  ZIP                             20378 non-null  object \n",
            " 14  COUNTRY_DESC                    5733 non-null   object \n",
            " 15  FEDERAL_FACILITY_ID             35 non-null     object \n",
            " 16  FEDERAL_FACILITY_FLAG           13018 non-null  object \n",
            " 17  TRIBAL_LAND_FLAG                1793 non-null   object \n",
            " 18  CONGRESSIONAL_DIST_NUM          18558 non-null  Int64  \n",
            " 19  LEGISLATIVE_DIST_NUM            3777 non-null   float64\n",
            " 20  FEDERAL_AGENCY_NAME             132 non-null    object \n",
            " 21  HUC_CODE                        391 non-null    float64\n",
            " 22  REGION_DESC                     20384 non-null  object \n",
            " 23  TRIBAL_LAND_R_CODE              1 non-null      float64\n",
            " 24  ORGANIZATION_DUNS_NMBR          576 non-null    object \n",
            " 25  SMALL_BUSINESS_FLAG             15007 non-null  object \n",
            " 26  ENVIRONMENTAL_JUSTICE_DESC      32 non-null     object \n",
            " 27  COMMENT_TEXT                    345 non-null    object \n",
            " 28  STATE_REGION                    5033 non-null   object \n",
            " 29  NPL_FLAG                        0 non-null      float64\n",
            " 30  SENSITIVE_DATA_FLAG             5602 non-null   object \n",
            " 31  STATE_FACILITY_ID               20 non-null     object \n",
            " 32  SECTION_TOWNSHIP_RANGE          0 non-null      float64\n",
            " 33  UDF1                            68 non-null     object \n",
            " 34  UDF2                            2641 non-null   object \n",
            " 35  UDF3                            2406 non-null   object \n",
            " 36  UDF4                            1 non-null      object \n",
            " 37  UDF5                            15 non-null     object \n",
            " 38  GEOCODE_LONGITUDE               18507 non-null  float64\n",
            " 39  GEOCODE_LATITUDE                18507 non-null  float64\n",
            " 40  CONSTRUCTION_PROJECT_NAME       5 non-null      object \n",
            " 41  GEOMETRIC_TYPE_NAME             3642 non-null   object \n",
            " 42  HORIZONTAL_COLLECT_METHOD_TEXT  4305 non-null   object \n",
            " 43  HORIZONTAL_REF_DATUM_NAME       3686 non-null   object \n",
            " 44  REFERENCE_POINT_CODE            0 non-null      float64\n",
            " 45  REFERENCE_POINT_DESC            4215 non-null   object \n",
            " 46  CONSTRUCTION_PROJECT_LAT        36 non-null     float64\n",
            " 47  CONSTRUCTION_PROJECT_LONG       36 non-null     float64\n",
            " 48  HORIZONTAL_ACCURACY_MEASURE     16884 non-null  float64\n",
            " 49  SOURCE_MAP_SCALE_NMBR           46 non-null     float64\n",
            " 50  AIR_LCON_CODE                   0 non-null      float64\n",
            " 51  ORIG_GEOCODE_COORD_FORMAT_CODE  19931 non-null  object \n",
            " 52  ORIG_CONSTR_COORD_FORMAT_CODE   19091 non-null  object \n",
            " 53  FACILITY_TYPE_CODE              14893 non-null  object \n",
            "dtypes: Int64(1), float64(14), int64(1), object(38)\n",
            "memory usage: 8.4+ MB\n"
          ],
          "name": "stdout"
        }
      ]
    },
    {
      "cell_type": "markdown",
      "metadata": {
        "id": "FeVUaG59oDbI"
      },
      "source": [
        "### drop all-null and unneccesary columns"
      ]
    },
    {
      "cell_type": "code",
      "metadata": {
        "colab": {
          "base_uri": "https://localhost:8080/",
          "height": 607
        },
        "id": "AyG-3utOoU-h",
        "outputId": "223c23a7-eb96-4a62-ded7-4725da32ce80"
      },
      "source": [
        "# drop the columns I don't need\n",
        "\n",
        "df2.drop(['LOCATION_ADDRESS'], axis=1, inplace=True)\n",
        "df2.drop(['SUPPLEMENTAL_ADDRESS_TEXT'], axis=1, inplace=True)\n",
        "df2.drop(['TRIBAL_LAND_R_CODE'], axis=1, inplace=True)\n",
        "df2.drop(['COMMENT_TEXT'], axis=1, inplace=True)\n",
        "df2.drop(['NPL_FLAG'], axis=1, inplace=True)\n",
        "df2.drop(['SECTION_TOWNSHIP_RANGE'], axis=1, inplace=True)\n",
        "df2.drop(['UDF1'], axis=1, inplace=True)\n",
        "df2.drop(['UDF2'], axis=1, inplace=True)\n",
        "df2.drop(['UDF3'], axis=1, inplace=True)\n",
        "df2.drop(['UDF4'], axis=1, inplace=True)\n",
        "df2.drop(['UDF5'], axis=1, inplace=True)\n",
        "df2.drop(['GEOCODE_LONGITUDE'], axis=1, inplace=True)\n",
        "df2.drop(['GEOCODE_LATITUDE'], axis=1, inplace=True)\n",
        "df2.drop(['CONSTRUCTION_PROJECT_NAME'], axis=1, inplace=True)\n",
        "df2.drop(['GEOMETRIC_TYPE_NAME'], axis=1, inplace=True)\n",
        "df2.drop(['HORIZONTAL_COLLECT_METHOD_TEXT'], axis=1, inplace=True)\n",
        "df2.drop(['HORIZONTAL_REF_DATUM_NAME'], axis=1, inplace=True)\n",
        "df2.drop(['REFERENCE_POINT_CODE'], axis=1, inplace=True)\n",
        "df2.drop(['REFERENCE_POINT_DESC'], axis=1, inplace=True)\n",
        "df2.drop(['CONSTRUCTION_PROJECT_LAT'], axis=1, inplace=True)\n",
        "df2.drop(['HORIZONTAL_ACCURACY_MEASURE'], axis=1, inplace=True)\n",
        "df2.drop(['SOURCE_MAP_SCALE_NMBR'], axis=1, inplace=True)\n",
        "df2.drop(['AIR_LCON_CODE'], axis=1, inplace=True)\n",
        "df2.drop(['ORIG_GEOCODE_COORD_FORMAT_CODE'], axis=1, inplace=True)\n",
        "df2.drop(['ORIG_CONSTR_COORD_FORMAT_CODE'], axis=1, inplace=True)\n",
        "df2.drop(['PGM_SYS_ACRNM'], axis=1, inplace=True)\n",
        "df2.drop(['PGM_SYS_ID'], axis=1, inplace=True)\n",
        "\n",
        "df2.info()"
      ],
      "execution_count": 131,
      "outputs": [
        {
          "output_type": "display_data",
          "data": {
            "text/html": [
              "\n",
              "  <style>\n",
              "    pre {\n",
              "        white-space: pre-wrap;\n",
              "    }\n",
              "  </style>\n",
              "  "
            ],
            "text/plain": [
              "<IPython.core.display.HTML object>"
            ]
          },
          "metadata": {}
        },
        {
          "output_type": "display_data",
          "data": {
            "text/html": [
              "\n",
              "  <style>\n",
              "    pre {\n",
              "        white-space: pre-wrap;\n",
              "    }\n",
              "  </style>\n",
              "  "
            ],
            "text/plain": [
              "<IPython.core.display.HTML object>"
            ]
          },
          "metadata": {}
        },
        {
          "output_type": "stream",
          "text": [
            "<class 'pandas.core.frame.DataFrame'>\n",
            "RangeIndex: 20387 entries, 0 to 20386\n",
            "Data columns (total 27 columns):\n",
            " #   Column                      Non-Null Count  Dtype  \n",
            "---  ------                      --------------  -----  \n",
            " 0   ICIS_FACILITY_INTEREST_ID   20387 non-null  int64  \n",
            " 1   FACILITY_UIN                19660 non-null  float64\n",
            " 2   FACILITY_TYPE_DESC          14893 non-null  object \n",
            " 3   FACILITY_NAME               20387 non-null  object \n",
            " 4   CITY                        20378 non-null  object \n",
            " 5   CITY_NAME                   3838 non-null   object \n",
            " 6   COUNTY_NAME                 14041 non-null  object \n",
            " 7   STATE_CODE                  20387 non-null  object \n",
            " 8   STATE_DESC                  20387 non-null  object \n",
            " 9   ZIP                         20378 non-null  object \n",
            " 10  COUNTRY_DESC                5733 non-null   object \n",
            " 11  FEDERAL_FACILITY_ID         35 non-null     object \n",
            " 12  FEDERAL_FACILITY_FLAG       13018 non-null  object \n",
            " 13  TRIBAL_LAND_FLAG            1793 non-null   object \n",
            " 14  CONGRESSIONAL_DIST_NUM      18558 non-null  Int64  \n",
            " 15  LEGISLATIVE_DIST_NUM        3777 non-null   float64\n",
            " 16  FEDERAL_AGENCY_NAME         132 non-null    object \n",
            " 17  HUC_CODE                    391 non-null    float64\n",
            " 18  REGION_DESC                 20384 non-null  object \n",
            " 19  ORGANIZATION_DUNS_NMBR      576 non-null    object \n",
            " 20  SMALL_BUSINESS_FLAG         15007 non-null  object \n",
            " 21  ENVIRONMENTAL_JUSTICE_DESC  32 non-null     object \n",
            " 22  STATE_REGION                5033 non-null   object \n",
            " 23  SENSITIVE_DATA_FLAG         5602 non-null   object \n",
            " 24  STATE_FACILITY_ID           20 non-null     object \n",
            " 25  CONSTRUCTION_PROJECT_LONG   36 non-null     float64\n",
            " 26  FACILITY_TYPE_CODE          14893 non-null  object \n",
            "dtypes: Int64(1), float64(4), int64(1), object(21)\n",
            "memory usage: 4.2+ MB\n"
          ],
          "name": "stdout"
        }
      ]
    },
    {
      "cell_type": "markdown",
      "metadata": {
        "id": "n4VHnG_O6igU"
      },
      "source": [
        "# Explore and Merge\n",
        "\n",
        "I merged my dataset into a single dataframe for analysis."
      ]
    },
    {
      "cell_type": "code",
      "metadata": {
        "colab": {
          "base_uri": "https://localhost:8080/",
          "height": 381
        },
        "id": "zDdmNsYb_wrs",
        "outputId": "d48db3c4-3492-4d6e-e1e6-93d671112651"
      },
      "source": [
        "Activity_Report_cols = df1.columns\n",
        "Facility_Interest_cols = df2.columns\n",
        "\n",
        "print(\"These are the Activity Report columns: {}\".format(Activity_Report_cols))\n",
        "print()\n",
        "print('These are the Facility Interest columns: {}'.format(Facility_Interest_cols))"
      ],
      "execution_count": 132,
      "outputs": [
        {
          "output_type": "display_data",
          "data": {
            "text/html": [
              "\n",
              "  <style>\n",
              "    pre {\n",
              "        white-space: pre-wrap;\n",
              "    }\n",
              "  </style>\n",
              "  "
            ],
            "text/plain": [
              "<IPython.core.display.HTML object>"
            ]
          },
          "metadata": {}
        },
        {
          "output_type": "display_data",
          "data": {
            "text/html": [
              "\n",
              "  <style>\n",
              "    pre {\n",
              "        white-space: pre-wrap;\n",
              "    }\n",
              "  </style>\n",
              "  "
            ],
            "text/plain": [
              "<IPython.core.display.HTML object>"
            ]
          },
          "metadata": {}
        },
        {
          "output_type": "stream",
          "text": [
            "These are the Activity Report columns: Index(['ICIS_FACILITY_INTEREST_ID', 'ACTIVITY_ID', 'ACTIVITY_NAME',\n",
            "       'ACTIVITY_TYPE_CODE', 'STATE_CODE', 'ACTIVITY_TYPE_DESC', 'STATE_DESC',\n",
            "       'FISCAL_YEAR', 'REGION_DESC', 'ACTUAL_BEGIN_DATE',\n",
            "       'ACTIVITY_STATUS_DATE', 'ACTUAL_END_DATE', 'PLANNED_END_DATE',\n",
            "       'ACTIVITY_STATUS_DESC', 'MULTIMEDIA_FLAG', 'SENSITIVE_DATA_FLAG',\n",
            "       'INTERNAL_REVIEW_FLAG', 'EPA_ASSIST_FLAG', 'ACTUAL_BEGIN_DATE_FY',\n",
            "       'ACTUAL_BEGIN_DATE_FYQ', 'PLANNED_END_DATE_FY', 'PLANNED_END_DATE_FYQ',\n",
            "       'ACTUAL_END_DATE_FY', 'ACTUAL_END_DATE_FYQ', 'STATE_EPA_FLAG',\n",
            "       'MOST_RECENT_ADOPT_DATE'],\n",
            "      dtype='object')\n",
            "\n",
            "These are the Facility Interest columns: Index(['ICIS_FACILITY_INTEREST_ID', 'FACILITY_UIN', 'FACILITY_TYPE_DESC',\n",
            "       'FACILITY_NAME', 'CITY', 'CITY_NAME', 'COUNTY_NAME', 'STATE_CODE',\n",
            "       'STATE_DESC', 'ZIP', 'COUNTRY_DESC', 'FEDERAL_FACILITY_ID',\n",
            "       'FEDERAL_FACILITY_FLAG', 'TRIBAL_LAND_FLAG', 'CONGRESSIONAL_DIST_NUM',\n",
            "       'LEGISLATIVE_DIST_NUM', 'FEDERAL_AGENCY_NAME', 'HUC_CODE',\n",
            "       'REGION_DESC', 'ORGANIZATION_DUNS_NMBR', 'SMALL_BUSINESS_FLAG',\n",
            "       'ENVIRONMENTAL_JUSTICE_DESC', 'STATE_REGION', 'SENSITIVE_DATA_FLAG',\n",
            "       'STATE_FACILITY_ID', 'CONSTRUCTION_PROJECT_LONG', 'FACILITY_TYPE_CODE'],\n",
            "      dtype='object')\n"
          ],
          "name": "stdout"
        }
      ]
    },
    {
      "cell_type": "markdown",
      "metadata": {
        "id": "ckaQRuINEkLc"
      },
      "source": [
        "## df_merged_Act_Fact"
      ]
    },
    {
      "cell_type": "code",
      "metadata": {
        "id": "a2BPPvv1xVBl",
        "colab": {
          "base_uri": "https://localhost:8080/",
          "height": 971
        },
        "outputId": "81c14a04-b018-48b4-e8dd-3b9fdcc3fec1"
      },
      "source": [
        "# merge df1 and df2\n",
        "\n",
        "df_merged_Act_Fact = pd.merge(df1, df2)\n",
        "df_merged_Act_Fact.info()"
      ],
      "execution_count": 133,
      "outputs": [
        {
          "output_type": "display_data",
          "data": {
            "text/html": [
              "\n",
              "  <style>\n",
              "    pre {\n",
              "        white-space: pre-wrap;\n",
              "    }\n",
              "  </style>\n",
              "  "
            ],
            "text/plain": [
              "<IPython.core.display.HTML object>"
            ]
          },
          "metadata": {}
        },
        {
          "output_type": "display_data",
          "data": {
            "text/html": [
              "\n",
              "  <style>\n",
              "    pre {\n",
              "        white-space: pre-wrap;\n",
              "    }\n",
              "  </style>\n",
              "  "
            ],
            "text/plain": [
              "<IPython.core.display.HTML object>"
            ]
          },
          "metadata": {}
        },
        {
          "output_type": "stream",
          "text": [
            "<class 'pandas.core.frame.DataFrame'>\n",
            "Int64Index: 17060 entries, 0 to 17059\n",
            "Data columns (total 48 columns):\n",
            " #   Column                      Non-Null Count  Dtype         \n",
            "---  ------                      --------------  -----         \n",
            " 0   ICIS_FACILITY_INTEREST_ID   17060 non-null  int64         \n",
            " 1   ACTIVITY_ID                 17060 non-null  int64         \n",
            " 2   ACTIVITY_NAME               17060 non-null  object        \n",
            " 3   ACTIVITY_TYPE_CODE          17060 non-null  object        \n",
            " 4   STATE_CODE                  17060 non-null  object        \n",
            " 5   ACTIVITY_TYPE_DESC          17060 non-null  object        \n",
            " 6   STATE_DESC                  17060 non-null  object        \n",
            " 7   FISCAL_YEAR                 17060 non-null  int64         \n",
            " 8   REGION_DESC                 17060 non-null  object        \n",
            " 9   ACTUAL_BEGIN_DATE           788 non-null    datetime64[ns]\n",
            " 10  ACTIVITY_STATUS_DATE        17060 non-null  datetime64[ns]\n",
            " 11  ACTUAL_END_DATE             16881 non-null  datetime64[ns]\n",
            " 12  PLANNED_END_DATE            568 non-null    datetime64[ns]\n",
            " 13  ACTIVITY_STATUS_DESC        4283 non-null   object        \n",
            " 14  MULTIMEDIA_FLAG             15475 non-null  object        \n",
            " 15  SENSITIVE_DATA_FLAG         17060 non-null  object        \n",
            " 16  INTERNAL_REVIEW_FLAG        1 non-null      object        \n",
            " 17  EPA_ASSIST_FLAG             12777 non-null  object        \n",
            " 18  ACTUAL_BEGIN_DATE_FY        788 non-null    Int64         \n",
            " 19  ACTUAL_BEGIN_DATE_FYQ       788 non-null    Int64         \n",
            " 20  PLANNED_END_DATE_FY         568 non-null    Int64         \n",
            " 21  PLANNED_END_DATE_FYQ        568 non-null    Int64         \n",
            " 22  ACTUAL_END_DATE_FY          16881 non-null  Int64         \n",
            " 23  ACTUAL_END_DATE_FYQ         16881 non-null  Int64         \n",
            " 24  STATE_EPA_FLAG              17060 non-null  object        \n",
            " 25  MOST_RECENT_ADOPT_DATE      298 non-null    datetime64[ns]\n",
            " 26  FACILITY_UIN                17060 non-null  float64       \n",
            " 27  FACILITY_TYPE_DESC          16064 non-null  object        \n",
            " 28  FACILITY_NAME               17060 non-null  object        \n",
            " 29  CITY                        17060 non-null  object        \n",
            " 30  CITY_NAME                   1283 non-null   object        \n",
            " 31  COUNTY_NAME                 14484 non-null  object        \n",
            " 32  ZIP                         17060 non-null  object        \n",
            " 33  COUNTRY_DESC                15861 non-null  object        \n",
            " 34  FEDERAL_FACILITY_ID         21 non-null     object        \n",
            " 35  FEDERAL_FACILITY_FLAG       17000 non-null  object        \n",
            " 36  TRIBAL_LAND_FLAG            11638 non-null  object        \n",
            " 37  CONGRESSIONAL_DIST_NUM      16497 non-null  Int64         \n",
            " 38  LEGISLATIVE_DIST_NUM        4896 non-null   float64       \n",
            " 39  FEDERAL_AGENCY_NAME         0 non-null      object        \n",
            " 40  HUC_CODE                    0 non-null      float64       \n",
            " 41  ORGANIZATION_DUNS_NMBR      19 non-null     object        \n",
            " 42  SMALL_BUSINESS_FLAG         8491 non-null   object        \n",
            " 43  ENVIRONMENTAL_JUSTICE_DESC  0 non-null      object        \n",
            " 44  STATE_REGION                15858 non-null  object        \n",
            " 45  STATE_FACILITY_ID           0 non-null      object        \n",
            " 46  CONSTRUCTION_PROJECT_LONG   0 non-null      float64       \n",
            " 47  FACILITY_TYPE_CODE          16064 non-null  object        \n",
            "dtypes: Int64(7), datetime64[ns](5), float64(4), int64(3), object(29)\n",
            "memory usage: 6.5+ MB\n"
          ],
          "name": "stdout"
        }
      ]
    },
    {
      "cell_type": "code",
      "metadata": {
        "colab": {
          "base_uri": "https://localhost:8080/",
          "height": 971
        },
        "id": "KTuYl5taGdbw",
        "outputId": "c2e79ec2-eaea-4b6c-8aca-efed8a36f581"
      },
      "source": [
        "df_merged_Act_Fact.info()"
      ],
      "execution_count": 134,
      "outputs": [
        {
          "output_type": "display_data",
          "data": {
            "text/html": [
              "\n",
              "  <style>\n",
              "    pre {\n",
              "        white-space: pre-wrap;\n",
              "    }\n",
              "  </style>\n",
              "  "
            ],
            "text/plain": [
              "<IPython.core.display.HTML object>"
            ]
          },
          "metadata": {}
        },
        {
          "output_type": "display_data",
          "data": {
            "text/html": [
              "\n",
              "  <style>\n",
              "    pre {\n",
              "        white-space: pre-wrap;\n",
              "    }\n",
              "  </style>\n",
              "  "
            ],
            "text/plain": [
              "<IPython.core.display.HTML object>"
            ]
          },
          "metadata": {}
        },
        {
          "output_type": "stream",
          "text": [
            "<class 'pandas.core.frame.DataFrame'>\n",
            "Int64Index: 17060 entries, 0 to 17059\n",
            "Data columns (total 48 columns):\n",
            " #   Column                      Non-Null Count  Dtype         \n",
            "---  ------                      --------------  -----         \n",
            " 0   ICIS_FACILITY_INTEREST_ID   17060 non-null  int64         \n",
            " 1   ACTIVITY_ID                 17060 non-null  int64         \n",
            " 2   ACTIVITY_NAME               17060 non-null  object        \n",
            " 3   ACTIVITY_TYPE_CODE          17060 non-null  object        \n",
            " 4   STATE_CODE                  17060 non-null  object        \n",
            " 5   ACTIVITY_TYPE_DESC          17060 non-null  object        \n",
            " 6   STATE_DESC                  17060 non-null  object        \n",
            " 7   FISCAL_YEAR                 17060 non-null  int64         \n",
            " 8   REGION_DESC                 17060 non-null  object        \n",
            " 9   ACTUAL_BEGIN_DATE           788 non-null    datetime64[ns]\n",
            " 10  ACTIVITY_STATUS_DATE        17060 non-null  datetime64[ns]\n",
            " 11  ACTUAL_END_DATE             16881 non-null  datetime64[ns]\n",
            " 12  PLANNED_END_DATE            568 non-null    datetime64[ns]\n",
            " 13  ACTIVITY_STATUS_DESC        4283 non-null   object        \n",
            " 14  MULTIMEDIA_FLAG             15475 non-null  object        \n",
            " 15  SENSITIVE_DATA_FLAG         17060 non-null  object        \n",
            " 16  INTERNAL_REVIEW_FLAG        1 non-null      object        \n",
            " 17  EPA_ASSIST_FLAG             12777 non-null  object        \n",
            " 18  ACTUAL_BEGIN_DATE_FY        788 non-null    Int64         \n",
            " 19  ACTUAL_BEGIN_DATE_FYQ       788 non-null    Int64         \n",
            " 20  PLANNED_END_DATE_FY         568 non-null    Int64         \n",
            " 21  PLANNED_END_DATE_FYQ        568 non-null    Int64         \n",
            " 22  ACTUAL_END_DATE_FY          16881 non-null  Int64         \n",
            " 23  ACTUAL_END_DATE_FYQ         16881 non-null  Int64         \n",
            " 24  STATE_EPA_FLAG              17060 non-null  object        \n",
            " 25  MOST_RECENT_ADOPT_DATE      298 non-null    datetime64[ns]\n",
            " 26  FACILITY_UIN                17060 non-null  float64       \n",
            " 27  FACILITY_TYPE_DESC          16064 non-null  object        \n",
            " 28  FACILITY_NAME               17060 non-null  object        \n",
            " 29  CITY                        17060 non-null  object        \n",
            " 30  CITY_NAME                   1283 non-null   object        \n",
            " 31  COUNTY_NAME                 14484 non-null  object        \n",
            " 32  ZIP                         17060 non-null  object        \n",
            " 33  COUNTRY_DESC                15861 non-null  object        \n",
            " 34  FEDERAL_FACILITY_ID         21 non-null     object        \n",
            " 35  FEDERAL_FACILITY_FLAG       17000 non-null  object        \n",
            " 36  TRIBAL_LAND_FLAG            11638 non-null  object        \n",
            " 37  CONGRESSIONAL_DIST_NUM      16497 non-null  Int64         \n",
            " 38  LEGISLATIVE_DIST_NUM        4896 non-null   float64       \n",
            " 39  FEDERAL_AGENCY_NAME         0 non-null      object        \n",
            " 40  HUC_CODE                    0 non-null      float64       \n",
            " 41  ORGANIZATION_DUNS_NMBR      19 non-null     object        \n",
            " 42  SMALL_BUSINESS_FLAG         8491 non-null   object        \n",
            " 43  ENVIRONMENTAL_JUSTICE_DESC  0 non-null      object        \n",
            " 44  STATE_REGION                15858 non-null  object        \n",
            " 45  STATE_FACILITY_ID           0 non-null      object        \n",
            " 46  CONSTRUCTION_PROJECT_LONG   0 non-null      float64       \n",
            " 47  FACILITY_TYPE_CODE          16064 non-null  object        \n",
            "dtypes: Int64(7), datetime64[ns](5), float64(4), int64(3), object(29)\n",
            "memory usage: 6.5+ MB\n"
          ],
          "name": "stdout"
        }
      ]
    },
    {
      "cell_type": "code",
      "metadata": {
        "id": "IHprhyjUoSL1",
        "colab": {
          "base_uri": "https://localhost:8080/",
          "height": 971
        },
        "outputId": "0ae2e7b4-548d-4d13-9111-046b052e7999"
      },
      "source": [
        "# shows db with dropped nulls\n",
        "dropped_nulls = df_merged_Act_Fact[df_merged_Act_Fact[\"ICIS_FACILITY_INTEREST_ID\"].notnull()]\n",
        "dropped_nulls.info()\n",
        "\n",
        "# same, so no nulls"
      ],
      "execution_count": 135,
      "outputs": [
        {
          "output_type": "display_data",
          "data": {
            "text/html": [
              "\n",
              "  <style>\n",
              "    pre {\n",
              "        white-space: pre-wrap;\n",
              "    }\n",
              "  </style>\n",
              "  "
            ],
            "text/plain": [
              "<IPython.core.display.HTML object>"
            ]
          },
          "metadata": {}
        },
        {
          "output_type": "display_data",
          "data": {
            "text/html": [
              "\n",
              "  <style>\n",
              "    pre {\n",
              "        white-space: pre-wrap;\n",
              "    }\n",
              "  </style>\n",
              "  "
            ],
            "text/plain": [
              "<IPython.core.display.HTML object>"
            ]
          },
          "metadata": {}
        },
        {
          "output_type": "stream",
          "text": [
            "<class 'pandas.core.frame.DataFrame'>\n",
            "Int64Index: 17060 entries, 0 to 17059\n",
            "Data columns (total 48 columns):\n",
            " #   Column                      Non-Null Count  Dtype         \n",
            "---  ------                      --------------  -----         \n",
            " 0   ICIS_FACILITY_INTEREST_ID   17060 non-null  int64         \n",
            " 1   ACTIVITY_ID                 17060 non-null  int64         \n",
            " 2   ACTIVITY_NAME               17060 non-null  object        \n",
            " 3   ACTIVITY_TYPE_CODE          17060 non-null  object        \n",
            " 4   STATE_CODE                  17060 non-null  object        \n",
            " 5   ACTIVITY_TYPE_DESC          17060 non-null  object        \n",
            " 6   STATE_DESC                  17060 non-null  object        \n",
            " 7   FISCAL_YEAR                 17060 non-null  int64         \n",
            " 8   REGION_DESC                 17060 non-null  object        \n",
            " 9   ACTUAL_BEGIN_DATE           788 non-null    datetime64[ns]\n",
            " 10  ACTIVITY_STATUS_DATE        17060 non-null  datetime64[ns]\n",
            " 11  ACTUAL_END_DATE             16881 non-null  datetime64[ns]\n",
            " 12  PLANNED_END_DATE            568 non-null    datetime64[ns]\n",
            " 13  ACTIVITY_STATUS_DESC        4283 non-null   object        \n",
            " 14  MULTIMEDIA_FLAG             15475 non-null  object        \n",
            " 15  SENSITIVE_DATA_FLAG         17060 non-null  object        \n",
            " 16  INTERNAL_REVIEW_FLAG        1 non-null      object        \n",
            " 17  EPA_ASSIST_FLAG             12777 non-null  object        \n",
            " 18  ACTUAL_BEGIN_DATE_FY        788 non-null    Int64         \n",
            " 19  ACTUAL_BEGIN_DATE_FYQ       788 non-null    Int64         \n",
            " 20  PLANNED_END_DATE_FY         568 non-null    Int64         \n",
            " 21  PLANNED_END_DATE_FYQ        568 non-null    Int64         \n",
            " 22  ACTUAL_END_DATE_FY          16881 non-null  Int64         \n",
            " 23  ACTUAL_END_DATE_FYQ         16881 non-null  Int64         \n",
            " 24  STATE_EPA_FLAG              17060 non-null  object        \n",
            " 25  MOST_RECENT_ADOPT_DATE      298 non-null    datetime64[ns]\n",
            " 26  FACILITY_UIN                17060 non-null  float64       \n",
            " 27  FACILITY_TYPE_DESC          16064 non-null  object        \n",
            " 28  FACILITY_NAME               17060 non-null  object        \n",
            " 29  CITY                        17060 non-null  object        \n",
            " 30  CITY_NAME                   1283 non-null   object        \n",
            " 31  COUNTY_NAME                 14484 non-null  object        \n",
            " 32  ZIP                         17060 non-null  object        \n",
            " 33  COUNTRY_DESC                15861 non-null  object        \n",
            " 34  FEDERAL_FACILITY_ID         21 non-null     object        \n",
            " 35  FEDERAL_FACILITY_FLAG       17000 non-null  object        \n",
            " 36  TRIBAL_LAND_FLAG            11638 non-null  object        \n",
            " 37  CONGRESSIONAL_DIST_NUM      16497 non-null  Int64         \n",
            " 38  LEGISLATIVE_DIST_NUM        4896 non-null   float64       \n",
            " 39  FEDERAL_AGENCY_NAME         0 non-null      object        \n",
            " 40  HUC_CODE                    0 non-null      float64       \n",
            " 41  ORGANIZATION_DUNS_NMBR      19 non-null     object        \n",
            " 42  SMALL_BUSINESS_FLAG         8491 non-null   object        \n",
            " 43  ENVIRONMENTAL_JUSTICE_DESC  0 non-null      object        \n",
            " 44  STATE_REGION                15858 non-null  object        \n",
            " 45  STATE_FACILITY_ID           0 non-null      object        \n",
            " 46  CONSTRUCTION_PROJECT_LONG   0 non-null      float64       \n",
            " 47  FACILITY_TYPE_CODE          16064 non-null  object        \n",
            "dtypes: Int64(7), datetime64[ns](5), float64(4), int64(3), object(29)\n",
            "memory usage: 6.5+ MB\n"
          ],
          "name": "stdout"
        }
      ]
    },
    {
      "cell_type": "code",
      "metadata": {
        "colab": {
          "base_uri": "https://localhost:8080/",
          "height": 815
        },
        "id": "ceZ0lBtS1FKo",
        "outputId": "79b6692b-b1e3-483f-da26-56bbd021148b"
      },
      "source": [
        "# drop the mostly- or all-null columns\n",
        "\n",
        "df_merged_Act_Fact.drop(['INTERNAL_REVIEW_FLAG'], axis=1, inplace=True)\n",
        "df_merged_Act_Fact.drop(['CITY_NAME'], axis=1, inplace=True)\n",
        "df_merged_Act_Fact.drop(['FEDERAL_FACILITY_ID'], axis=1, inplace=True)\n",
        "df_merged_Act_Fact.drop(['FEDERAL_AGENCY_NAME'], axis=1, inplace=True)\n",
        "df_merged_Act_Fact.drop(['HUC_CODE'], axis=1, inplace=True)\n",
        "df_merged_Act_Fact.drop(['ORGANIZATION_DUNS_NMBR'], axis=1, inplace=True)\n",
        "df_merged_Act_Fact.drop(['ENVIRONMENTAL_JUSTICE_DESC'], axis=1, inplace=True)\n",
        "df_merged_Act_Fact.drop(['STATE_FACILITY_ID'], axis=1, inplace=True)\n",
        "df_merged_Act_Fact.drop(['CONSTRUCTION_PROJECT_LONG'], axis=1, inplace=True)\n",
        "\n",
        "df_merged_Act_Fact.info()"
      ],
      "execution_count": 136,
      "outputs": [
        {
          "output_type": "display_data",
          "data": {
            "text/html": [
              "\n",
              "  <style>\n",
              "    pre {\n",
              "        white-space: pre-wrap;\n",
              "    }\n",
              "  </style>\n",
              "  "
            ],
            "text/plain": [
              "<IPython.core.display.HTML object>"
            ]
          },
          "metadata": {}
        },
        {
          "output_type": "display_data",
          "data": {
            "text/html": [
              "\n",
              "  <style>\n",
              "    pre {\n",
              "        white-space: pre-wrap;\n",
              "    }\n",
              "  </style>\n",
              "  "
            ],
            "text/plain": [
              "<IPython.core.display.HTML object>"
            ]
          },
          "metadata": {}
        },
        {
          "output_type": "stream",
          "text": [
            "<class 'pandas.core.frame.DataFrame'>\n",
            "Int64Index: 17060 entries, 0 to 17059\n",
            "Data columns (total 39 columns):\n",
            " #   Column                     Non-Null Count  Dtype         \n",
            "---  ------                     --------------  -----         \n",
            " 0   ICIS_FACILITY_INTEREST_ID  17060 non-null  int64         \n",
            " 1   ACTIVITY_ID                17060 non-null  int64         \n",
            " 2   ACTIVITY_NAME              17060 non-null  object        \n",
            " 3   ACTIVITY_TYPE_CODE         17060 non-null  object        \n",
            " 4   STATE_CODE                 17060 non-null  object        \n",
            " 5   ACTIVITY_TYPE_DESC         17060 non-null  object        \n",
            " 6   STATE_DESC                 17060 non-null  object        \n",
            " 7   FISCAL_YEAR                17060 non-null  int64         \n",
            " 8   REGION_DESC                17060 non-null  object        \n",
            " 9   ACTUAL_BEGIN_DATE          788 non-null    datetime64[ns]\n",
            " 10  ACTIVITY_STATUS_DATE       17060 non-null  datetime64[ns]\n",
            " 11  ACTUAL_END_DATE            16881 non-null  datetime64[ns]\n",
            " 12  PLANNED_END_DATE           568 non-null    datetime64[ns]\n",
            " 13  ACTIVITY_STATUS_DESC       4283 non-null   object        \n",
            " 14  MULTIMEDIA_FLAG            15475 non-null  object        \n",
            " 15  SENSITIVE_DATA_FLAG        17060 non-null  object        \n",
            " 16  EPA_ASSIST_FLAG            12777 non-null  object        \n",
            " 17  ACTUAL_BEGIN_DATE_FY       788 non-null    Int64         \n",
            " 18  ACTUAL_BEGIN_DATE_FYQ      788 non-null    Int64         \n",
            " 19  PLANNED_END_DATE_FY        568 non-null    Int64         \n",
            " 20  PLANNED_END_DATE_FYQ       568 non-null    Int64         \n",
            " 21  ACTUAL_END_DATE_FY         16881 non-null  Int64         \n",
            " 22  ACTUAL_END_DATE_FYQ        16881 non-null  Int64         \n",
            " 23  STATE_EPA_FLAG             17060 non-null  object        \n",
            " 24  MOST_RECENT_ADOPT_DATE     298 non-null    datetime64[ns]\n",
            " 25  FACILITY_UIN               17060 non-null  float64       \n",
            " 26  FACILITY_TYPE_DESC         16064 non-null  object        \n",
            " 27  FACILITY_NAME              17060 non-null  object        \n",
            " 28  CITY                       17060 non-null  object        \n",
            " 29  COUNTY_NAME                14484 non-null  object        \n",
            " 30  ZIP                        17060 non-null  object        \n",
            " 31  COUNTRY_DESC               15861 non-null  object        \n",
            " 32  FEDERAL_FACILITY_FLAG      17000 non-null  object        \n",
            " 33  TRIBAL_LAND_FLAG           11638 non-null  object        \n",
            " 34  CONGRESSIONAL_DIST_NUM     16497 non-null  Int64         \n",
            " 35  LEGISLATIVE_DIST_NUM       4896 non-null   float64       \n",
            " 36  SMALL_BUSINESS_FLAG        8491 non-null   object        \n",
            " 37  STATE_REGION               15858 non-null  object        \n",
            " 38  FACILITY_TYPE_CODE         16064 non-null  object        \n",
            "dtypes: Int64(7), datetime64[ns](5), float64(2), int64(3), object(22)\n",
            "memory usage: 5.3+ MB\n"
          ],
          "name": "stdout"
        }
      ]
    },
    {
      "cell_type": "markdown",
      "metadata": {
        "id": "ESRH_8LjJhtn"
      },
      "source": [
        "## Test new Dataframe"
      ]
    },
    {
      "cell_type": "code",
      "metadata": {
        "colab": {
          "base_uri": "https://localhost:8080/",
          "height": 52
        },
        "id": "xJ-QVxMJGa_p",
        "outputId": "dcb29720-4d9d-4d7f-f35f-084e84327da9"
      },
      "source": [
        "n1 = len(pd.unique(df1['FISCAL_YEAR']))\n",
        "print(\"Number of unique FYs in the first db is\", n1)\n",
        "\n",
        "n2 = len(pd.unique(df_merged_Act_Fact['FISCAL_YEAR']))\n",
        "print(\"The unique FYs in the merged set is\", n2)"
      ],
      "execution_count": 137,
      "outputs": [
        {
          "output_type": "display_data",
          "data": {
            "text/html": [
              "\n",
              "  <style>\n",
              "    pre {\n",
              "        white-space: pre-wrap;\n",
              "    }\n",
              "  </style>\n",
              "  "
            ],
            "text/plain": [
              "<IPython.core.display.HTML object>"
            ]
          },
          "metadata": {}
        },
        {
          "output_type": "display_data",
          "data": {
            "text/html": [
              "\n",
              "  <style>\n",
              "    pre {\n",
              "        white-space: pre-wrap;\n",
              "    }\n",
              "  </style>\n",
              "  "
            ],
            "text/plain": [
              "<IPython.core.display.HTML object>"
            ]
          },
          "metadata": {}
        },
        {
          "output_type": "stream",
          "text": [
            "Number of unique FYs in the first db is 36\n",
            "The unique FYs in the merged set is 36\n"
          ],
          "name": "stdout"
        }
      ]
    },
    {
      "cell_type": "code",
      "metadata": {
        "colab": {
          "base_uri": "https://localhost:8080/",
          "height": 52
        },
        "id": "dsDFaSWvLG1_",
        "outputId": "bfce1b60-cb16-4963-ad68-3c14ed58eee7"
      },
      "source": [
        "n1 = len(pd.unique(df1['ICIS_FACILITY_INTEREST_ID']))\n",
        "print(\"Number of unique fac ids in the first db is\", n1)\n",
        "\n",
        "n2 = len(pd.unique(df_merged_Act_Fact['ICIS_FACILITY_INTEREST_ID']))\n",
        "print(\"The unique fac ids in the merged set is\", n2)"
      ],
      "execution_count": 138,
      "outputs": [
        {
          "output_type": "display_data",
          "data": {
            "text/html": [
              "\n",
              "  <style>\n",
              "    pre {\n",
              "        white-space: pre-wrap;\n",
              "    }\n",
              "  </style>\n",
              "  "
            ],
            "text/plain": [
              "<IPython.core.display.HTML object>"
            ]
          },
          "metadata": {}
        },
        {
          "output_type": "display_data",
          "data": {
            "text/html": [
              "\n",
              "  <style>\n",
              "    pre {\n",
              "        white-space: pre-wrap;\n",
              "    }\n",
              "  </style>\n",
              "  "
            ],
            "text/plain": [
              "<IPython.core.display.HTML object>"
            ]
          },
          "metadata": {}
        },
        {
          "output_type": "stream",
          "text": [
            "Number of unique fac ids in the first db is 1989\n",
            "The unique fac ids in the merged set is 1370\n"
          ],
          "name": "stdout"
        }
      ]
    },
    {
      "cell_type": "code",
      "metadata": {
        "colab": {
          "base_uri": "https://localhost:8080/",
          "height": 52
        },
        "id": "qLsRLxFB2RZX",
        "outputId": "3d0b19d7-c86e-4b74-eb62-b735627995c9"
      },
      "source": [
        "n1 = len(pd.unique(df1['ACTIVITY_ID']))\n",
        "print(\"Number of unique activities in the first db is\", n1)\n",
        "\n",
        "n2 = len(pd.unique(df_merged_Act_Fact['ACTIVITY_ID']))\n",
        "print(\"The unique activities in the merged set is\", n2)"
      ],
      "execution_count": 139,
      "outputs": [
        {
          "output_type": "display_data",
          "data": {
            "text/html": [
              "\n",
              "  <style>\n",
              "    pre {\n",
              "        white-space: pre-wrap;\n",
              "    }\n",
              "  </style>\n",
              "  "
            ],
            "text/plain": [
              "<IPython.core.display.HTML object>"
            ]
          },
          "metadata": {}
        },
        {
          "output_type": "display_data",
          "data": {
            "text/html": [
              "\n",
              "  <style>\n",
              "    pre {\n",
              "        white-space: pre-wrap;\n",
              "    }\n",
              "  </style>\n",
              "  "
            ],
            "text/plain": [
              "<IPython.core.display.HTML object>"
            ]
          },
          "metadata": {}
        },
        {
          "output_type": "stream",
          "text": [
            "Number of unique activities in the first db is 21774\n",
            "The unique activities in the merged set is 17060\n"
          ],
          "name": "stdout"
        }
      ]
    },
    {
      "cell_type": "code",
      "metadata": {
        "colab": {
          "base_uri": "https://localhost:8080/",
          "height": 503
        },
        "id": "WQ-38hzeI99T",
        "outputId": "a87a78d8-65a5-45f2-ae9e-388daa7310a9"
      },
      "source": [
        "df_merged_Act_Fact.head()"
      ],
      "execution_count": 140,
      "outputs": [
        {
          "output_type": "display_data",
          "data": {
            "text/html": [
              "\n",
              "  <style>\n",
              "    pre {\n",
              "        white-space: pre-wrap;\n",
              "    }\n",
              "  </style>\n",
              "  "
            ],
            "text/plain": [
              "<IPython.core.display.HTML object>"
            ]
          },
          "metadata": {}
        },
        {
          "output_type": "display_data",
          "data": {
            "text/html": [
              "\n",
              "  <style>\n",
              "    pre {\n",
              "        white-space: pre-wrap;\n",
              "    }\n",
              "  </style>\n",
              "  "
            ],
            "text/plain": [
              "<IPython.core.display.HTML object>"
            ]
          },
          "metadata": {}
        },
        {
          "output_type": "execute_result",
          "data": {
            "text/html": [
              "<div>\n",
              "<style scoped>\n",
              "    .dataframe tbody tr th:only-of-type {\n",
              "        vertical-align: middle;\n",
              "    }\n",
              "\n",
              "    .dataframe tbody tr th {\n",
              "        vertical-align: top;\n",
              "    }\n",
              "\n",
              "    .dataframe thead th {\n",
              "        text-align: right;\n",
              "    }\n",
              "</style>\n",
              "<table border=\"1\" class=\"dataframe\">\n",
              "  <thead>\n",
              "    <tr style=\"text-align: right;\">\n",
              "      <th></th>\n",
              "      <th>ICIS_FACILITY_INTEREST_ID</th>\n",
              "      <th>ACTIVITY_ID</th>\n",
              "      <th>ACTIVITY_NAME</th>\n",
              "      <th>ACTIVITY_TYPE_CODE</th>\n",
              "      <th>STATE_CODE</th>\n",
              "      <th>ACTIVITY_TYPE_DESC</th>\n",
              "      <th>STATE_DESC</th>\n",
              "      <th>FISCAL_YEAR</th>\n",
              "      <th>REGION_DESC</th>\n",
              "      <th>ACTUAL_BEGIN_DATE</th>\n",
              "      <th>ACTIVITY_STATUS_DATE</th>\n",
              "      <th>ACTUAL_END_DATE</th>\n",
              "      <th>PLANNED_END_DATE</th>\n",
              "      <th>ACTIVITY_STATUS_DESC</th>\n",
              "      <th>MULTIMEDIA_FLAG</th>\n",
              "      <th>SENSITIVE_DATA_FLAG</th>\n",
              "      <th>EPA_ASSIST_FLAG</th>\n",
              "      <th>ACTUAL_BEGIN_DATE_FY</th>\n",
              "      <th>ACTUAL_BEGIN_DATE_FYQ</th>\n",
              "      <th>PLANNED_END_DATE_FY</th>\n",
              "      <th>PLANNED_END_DATE_FYQ</th>\n",
              "      <th>ACTUAL_END_DATE_FY</th>\n",
              "      <th>ACTUAL_END_DATE_FYQ</th>\n",
              "      <th>STATE_EPA_FLAG</th>\n",
              "      <th>MOST_RECENT_ADOPT_DATE</th>\n",
              "      <th>FACILITY_UIN</th>\n",
              "      <th>FACILITY_TYPE_DESC</th>\n",
              "      <th>FACILITY_NAME</th>\n",
              "      <th>CITY</th>\n",
              "      <th>COUNTY_NAME</th>\n",
              "      <th>ZIP</th>\n",
              "      <th>COUNTRY_DESC</th>\n",
              "      <th>FEDERAL_FACILITY_FLAG</th>\n",
              "      <th>TRIBAL_LAND_FLAG</th>\n",
              "      <th>CONGRESSIONAL_DIST_NUM</th>\n",
              "      <th>LEGISLATIVE_DIST_NUM</th>\n",
              "      <th>SMALL_BUSINESS_FLAG</th>\n",
              "      <th>STATE_REGION</th>\n",
              "      <th>FACILITY_TYPE_CODE</th>\n",
              "    </tr>\n",
              "  </thead>\n",
              "  <tbody>\n",
              "    <tr>\n",
              "      <th>0</th>\n",
              "      <td>2840767</td>\n",
              "      <td>600027787</td>\n",
              "      <td>Smurfit-Stone West Point Virginia</td>\n",
              "      <td>INC</td>\n",
              "      <td>VA</td>\n",
              "      <td>Incident</td>\n",
              "      <td>Virginia</td>\n",
              "      <td>0</td>\n",
              "      <td>Region 3</td>\n",
              "      <td>2006-11-27</td>\n",
              "      <td>2007-02-08</td>\n",
              "      <td>NaT</td>\n",
              "      <td>NaT</td>\n",
              "      <td>Active</td>\n",
              "      <td>NaN</td>\n",
              "      <td>N</td>\n",
              "      <td>NaN</td>\n",
              "      <td>2007</td>\n",
              "      <td>1</td>\n",
              "      <td>&lt;NA&gt;</td>\n",
              "      <td>&lt;NA&gt;</td>\n",
              "      <td>&lt;NA&gt;</td>\n",
              "      <td>&lt;NA&gt;</td>\n",
              "      <td>E</td>\n",
              "      <td>NaT</td>\n",
              "      <td>1.100070e+11</td>\n",
              "      <td>Non-Government</td>\n",
              "      <td>WESTROCK CP LLC - WEST POINT</td>\n",
              "      <td>WEST POINT</td>\n",
              "      <td>King William</td>\n",
              "      <td>23181</td>\n",
              "      <td>NaN</td>\n",
              "      <td>N</td>\n",
              "      <td>NaN</td>\n",
              "      <td>&lt;NA&gt;</td>\n",
              "      <td>5.0</td>\n",
              "      <td>N</td>\n",
              "      <td>NaN</td>\n",
              "      <td>NON</td>\n",
              "    </tr>\n",
              "    <tr>\n",
              "      <th>1</th>\n",
              "      <td>2840767</td>\n",
              "      <td>3400694286</td>\n",
              "      <td>ROCKTENN CP LLC - WEST POINT 511010000100307</td>\n",
              "      <td>AFR</td>\n",
              "      <td>VA</td>\n",
              "      <td>Administrative - Formal</td>\n",
              "      <td>Virginia</td>\n",
              "      <td>2008</td>\n",
              "      <td>Region 3</td>\n",
              "      <td>NaT</td>\n",
              "      <td>2007-12-18</td>\n",
              "      <td>2007-12-18</td>\n",
              "      <td>NaT</td>\n",
              "      <td>Final Order Issued</td>\n",
              "      <td>NaN</td>\n",
              "      <td>N</td>\n",
              "      <td>NaN</td>\n",
              "      <td>&lt;NA&gt;</td>\n",
              "      <td>&lt;NA&gt;</td>\n",
              "      <td>&lt;NA&gt;</td>\n",
              "      <td>&lt;NA&gt;</td>\n",
              "      <td>2008</td>\n",
              "      <td>1</td>\n",
              "      <td>S</td>\n",
              "      <td>NaT</td>\n",
              "      <td>1.100070e+11</td>\n",
              "      <td>Non-Government</td>\n",
              "      <td>WESTROCK CP LLC - WEST POINT</td>\n",
              "      <td>WEST POINT</td>\n",
              "      <td>King William</td>\n",
              "      <td>23181</td>\n",
              "      <td>NaN</td>\n",
              "      <td>N</td>\n",
              "      <td>NaN</td>\n",
              "      <td>&lt;NA&gt;</td>\n",
              "      <td>5.0</td>\n",
              "      <td>N</td>\n",
              "      <td>NaN</td>\n",
              "      <td>NON</td>\n",
              "    </tr>\n",
              "    <tr>\n",
              "      <th>2</th>\n",
              "      <td>2840767</td>\n",
              "      <td>3400694282</td>\n",
              "      <td>ROCKTENN CP LLC - WEST POINT 511010000100118</td>\n",
              "      <td>AIF</td>\n",
              "      <td>VA</td>\n",
              "      <td>Administrative - Informal</td>\n",
              "      <td>Virginia</td>\n",
              "      <td>1999</td>\n",
              "      <td>Region 3</td>\n",
              "      <td>NaT</td>\n",
              "      <td>1999-04-19</td>\n",
              "      <td>1999-04-19</td>\n",
              "      <td>NaT</td>\n",
              "      <td>Achieved</td>\n",
              "      <td>NaN</td>\n",
              "      <td>N</td>\n",
              "      <td>NaN</td>\n",
              "      <td>&lt;NA&gt;</td>\n",
              "      <td>&lt;NA&gt;</td>\n",
              "      <td>&lt;NA&gt;</td>\n",
              "      <td>&lt;NA&gt;</td>\n",
              "      <td>1999</td>\n",
              "      <td>3</td>\n",
              "      <td>S</td>\n",
              "      <td>NaT</td>\n",
              "      <td>1.100070e+11</td>\n",
              "      <td>Non-Government</td>\n",
              "      <td>WESTROCK CP LLC - WEST POINT</td>\n",
              "      <td>WEST POINT</td>\n",
              "      <td>King William</td>\n",
              "      <td>23181</td>\n",
              "      <td>NaN</td>\n",
              "      <td>N</td>\n",
              "      <td>NaN</td>\n",
              "      <td>&lt;NA&gt;</td>\n",
              "      <td>5.0</td>\n",
              "      <td>N</td>\n",
              "      <td>NaN</td>\n",
              "      <td>NON</td>\n",
              "    </tr>\n",
              "    <tr>\n",
              "      <th>3</th>\n",
              "      <td>3200009312</td>\n",
              "      <td>3200541884</td>\n",
              "      <td>ROCKY TOP WOOD PRESERVERS INC (Permit VA008007...</td>\n",
              "      <td>INS</td>\n",
              "      <td>VA</td>\n",
              "      <td>Inspection/Evaluation</td>\n",
              "      <td>Virginia</td>\n",
              "      <td>2000</td>\n",
              "      <td>Region 3</td>\n",
              "      <td>NaT</td>\n",
              "      <td>1999-11-12</td>\n",
              "      <td>1999-11-12</td>\n",
              "      <td>NaT</td>\n",
              "      <td>NaN</td>\n",
              "      <td>N</td>\n",
              "      <td>N</td>\n",
              "      <td>N</td>\n",
              "      <td>&lt;NA&gt;</td>\n",
              "      <td>&lt;NA&gt;</td>\n",
              "      <td>&lt;NA&gt;</td>\n",
              "      <td>&lt;NA&gt;</td>\n",
              "      <td>2000</td>\n",
              "      <td>1</td>\n",
              "      <td>S</td>\n",
              "      <td>NaT</td>\n",
              "      <td>1.100000e+11</td>\n",
              "      <td>NaN</td>\n",
              "      <td>GREAT SOUTHERN WOOD VA INC</td>\n",
              "      <td>ROCKY MOUNT</td>\n",
              "      <td>Franklin</td>\n",
              "      <td>24151</td>\n",
              "      <td>United States</td>\n",
              "      <td>N</td>\n",
              "      <td>N</td>\n",
              "      <td>5</td>\n",
              "      <td>2.0</td>\n",
              "      <td>NaN</td>\n",
              "      <td>WC</td>\n",
              "      <td>NaN</td>\n",
              "    </tr>\n",
              "    <tr>\n",
              "      <th>4</th>\n",
              "      <td>3200009312</td>\n",
              "      <td>3200541875</td>\n",
              "      <td>ROCKY TOP WOOD PRESERVERS INC (Permit VA008007...</td>\n",
              "      <td>INS</td>\n",
              "      <td>VA</td>\n",
              "      <td>Inspection/Evaluation</td>\n",
              "      <td>Virginia</td>\n",
              "      <td>2010</td>\n",
              "      <td>Region 3</td>\n",
              "      <td>NaT</td>\n",
              "      <td>2010-04-20</td>\n",
              "      <td>2010-04-20</td>\n",
              "      <td>NaT</td>\n",
              "      <td>NaN</td>\n",
              "      <td>N</td>\n",
              "      <td>N</td>\n",
              "      <td>N</td>\n",
              "      <td>&lt;NA&gt;</td>\n",
              "      <td>&lt;NA&gt;</td>\n",
              "      <td>&lt;NA&gt;</td>\n",
              "      <td>&lt;NA&gt;</td>\n",
              "      <td>2010</td>\n",
              "      <td>3</td>\n",
              "      <td>S</td>\n",
              "      <td>NaT</td>\n",
              "      <td>1.100000e+11</td>\n",
              "      <td>NaN</td>\n",
              "      <td>GREAT SOUTHERN WOOD VA INC</td>\n",
              "      <td>ROCKY MOUNT</td>\n",
              "      <td>Franklin</td>\n",
              "      <td>24151</td>\n",
              "      <td>United States</td>\n",
              "      <td>N</td>\n",
              "      <td>N</td>\n",
              "      <td>5</td>\n",
              "      <td>2.0</td>\n",
              "      <td>NaN</td>\n",
              "      <td>WC</td>\n",
              "      <td>NaN</td>\n",
              "    </tr>\n",
              "  </tbody>\n",
              "</table>\n",
              "</div>"
            ],
            "text/plain": [
              "   ICIS_FACILITY_INTEREST_ID  ACTIVITY_ID  ... STATE_REGION FACILITY_TYPE_CODE\n",
              "0                    2840767    600027787  ...          NaN                NON\n",
              "1                    2840767   3400694286  ...          NaN                NON\n",
              "2                    2840767   3400694282  ...          NaN                NON\n",
              "3                 3200009312   3200541884  ...           WC                NaN\n",
              "4                 3200009312   3200541875  ...           WC                NaN\n",
              "\n",
              "[5 rows x 39 columns]"
            ]
          },
          "metadata": {},
          "execution_count": 140
        }
      ]
    },
    {
      "cell_type": "markdown",
      "metadata": {
        "id": "VkLqY7BQz8Tm"
      },
      "source": [
        "# Metrics\n",
        "Find range of FYs\n",
        "\n",
        "Analysis:  \n",
        "1. Activities per FY\n",
        "2. Activities per Congressional District\n",
        "3. Activities per Congressional District over Time\n",
        "\n",
        "Metrics:\n",
        "1. Fiscal Year\n",
        "2. Activities\n",
        "3. Congressional Districts\n"
      ]
    },
    {
      "cell_type": "code",
      "metadata": {
        "colab": {
          "base_uri": "https://localhost:8080/",
          "height": 87
        },
        "id": "T2MzrGwvB3Wl",
        "outputId": "20c8f628-5388-43b0-aefa-258af7943fa2"
      },
      "source": [
        "# List of Fiscal Years\n",
        "df_merged_Act_Fact.FISCAL_YEAR.unique()"
      ],
      "execution_count": 141,
      "outputs": [
        {
          "output_type": "display_data",
          "data": {
            "text/html": [
              "\n",
              "  <style>\n",
              "    pre {\n",
              "        white-space: pre-wrap;\n",
              "    }\n",
              "  </style>\n",
              "  "
            ],
            "text/plain": [
              "<IPython.core.display.HTML object>"
            ]
          },
          "metadata": {}
        },
        {
          "output_type": "display_data",
          "data": {
            "text/html": [
              "\n",
              "  <style>\n",
              "    pre {\n",
              "        white-space: pre-wrap;\n",
              "    }\n",
              "  </style>\n",
              "  "
            ],
            "text/plain": [
              "<IPython.core.display.HTML object>"
            ]
          },
          "metadata": {}
        },
        {
          "output_type": "execute_result",
          "data": {
            "text/plain": [
              "array([   0, 2008, 1999, 2000, 2010, 2007, 2002, 1998, 2001, 2003, 2006,\n",
              "       1996, 1993, 2012, 2004, 1995, 1994, 1992, 1990, 2005, 2013, 2011,\n",
              "       1997, 1987, 1991, 2009, 1989, 1988, 1983, 1985, 1984, 1986, 1982,\n",
              "       1981, 2014, 2015])"
            ]
          },
          "metadata": {},
          "execution_count": 141
        }
      ]
    },
    {
      "cell_type": "code",
      "metadata": {
        "colab": {
          "base_uri": "https://localhost:8080/",
          "height": 659
        },
        "id": "7V1HtGDnUYTK",
        "outputId": "cc2ecfe5-809d-46e9-9a7a-24ca99d9ad39"
      },
      "source": [
        "# Fiscal Year with Counts of Activities\n",
        "df_FY_counts = df_merged_Act_Fact.value_counts(subset='FISCAL_YEAR').rename_axis('FY').reset_index(name='counts')\n",
        "print(df_FY_counts.sort_values('FY'))"
      ],
      "execution_count": 142,
      "outputs": [
        {
          "output_type": "display_data",
          "data": {
            "text/html": [
              "\n",
              "  <style>\n",
              "    pre {\n",
              "        white-space: pre-wrap;\n",
              "    }\n",
              "  </style>\n",
              "  "
            ],
            "text/plain": [
              "<IPython.core.display.HTML object>"
            ]
          },
          "metadata": {}
        },
        {
          "output_type": "display_data",
          "data": {
            "text/html": [
              "\n",
              "  <style>\n",
              "    pre {\n",
              "        white-space: pre-wrap;\n",
              "    }\n",
              "  </style>\n",
              "  "
            ],
            "text/plain": [
              "<IPython.core.display.HTML object>"
            ]
          },
          "metadata": {}
        },
        {
          "output_type": "stream",
          "text": [
            "      FY  counts\n",
            "35     0       1\n",
            "31  1981      39\n",
            "32  1982      33\n",
            "29  1983      67\n",
            "30  1984      46\n",
            "27  1985      89\n",
            "26  1986     113\n",
            "25  1987     206\n",
            "24  1988     247\n",
            "23  1989     269\n",
            "22  1990     358\n",
            "20  1991     437\n",
            "21  1992     403\n",
            "19  1993     469\n",
            "15  1994     479\n",
            "18  1995     474\n",
            "14  1996     483\n",
            "16  1997     476\n",
            "4   1998     902\n",
            "0   1999     956\n",
            "3   2000     911\n",
            "5   2001     893\n",
            "9   2002     824\n",
            "11  2003     780\n",
            "1   2004     930\n",
            "8   2005     834\n",
            "6   2006     887\n",
            "2   2007     919\n",
            "7   2008     837\n",
            "10  2009     797\n",
            "12  2010     722\n",
            "13  2011     611\n",
            "17  2012     476\n",
            "28  2013      67\n",
            "33  2014      24\n",
            "34  2015       1\n"
          ],
          "name": "stdout"
        }
      ]
    },
    {
      "cell_type": "code",
      "metadata": {
        "colab": {
          "base_uri": "https://localhost:8080/",
          "height": 69
        },
        "id": "H56Klt29x5JB",
        "outputId": "b8ad25ec-2723-479f-9a09-eaeb9edce857"
      },
      "source": [
        "# List of Congressional Districts\n",
        "df_merged_Act_Fact.CONGRESSIONAL_DIST_NUM.unique()"
      ],
      "execution_count": 143,
      "outputs": [
        {
          "output_type": "display_data",
          "data": {
            "text/html": [
              "\n",
              "  <style>\n",
              "    pre {\n",
              "        white-space: pre-wrap;\n",
              "    }\n",
              "  </style>\n",
              "  "
            ],
            "text/plain": [
              "<IPython.core.display.HTML object>"
            ]
          },
          "metadata": {}
        },
        {
          "output_type": "display_data",
          "data": {
            "text/html": [
              "\n",
              "  <style>\n",
              "    pre {\n",
              "        white-space: pre-wrap;\n",
              "    }\n",
              "  </style>\n",
              "  "
            ],
            "text/plain": [
              "<IPython.core.display.HTML object>"
            ]
          },
          "metadata": {}
        },
        {
          "output_type": "execute_result",
          "data": {
            "text/plain": [
              "<IntegerArray>\n",
              "[<NA>, 5, 6, 10, 4, 7, 9, 3, 1, 2, 11, 8]\n",
              "Length: 12, dtype: Int64"
            ]
          },
          "metadata": {},
          "execution_count": 143
        }
      ]
    },
    {
      "cell_type": "code",
      "metadata": {
        "colab": {
          "base_uri": "https://localhost:8080/",
          "height": 35
        },
        "id": "3BUGzIYPY8iP",
        "outputId": "04ab387f-0f5e-418c-c194-10bb19245125"
      },
      "source": [
        "# number of unique congressional districts by column\n",
        "df_merged_Act_Fact.CONGRESSIONAL_DIST_NUM.nunique(dropna= True)"
      ],
      "execution_count": 144,
      "outputs": [
        {
          "output_type": "display_data",
          "data": {
            "text/html": [
              "\n",
              "  <style>\n",
              "    pre {\n",
              "        white-space: pre-wrap;\n",
              "    }\n",
              "  </style>\n",
              "  "
            ],
            "text/plain": [
              "<IPython.core.display.HTML object>"
            ]
          },
          "metadata": {}
        },
        {
          "output_type": "display_data",
          "data": {
            "text/html": [
              "\n",
              "  <style>\n",
              "    pre {\n",
              "        white-space: pre-wrap;\n",
              "    }\n",
              "  </style>\n",
              "  "
            ],
            "text/plain": [
              "<IPython.core.display.HTML object>"
            ]
          },
          "metadata": {}
        },
        {
          "output_type": "execute_result",
          "data": {
            "text/plain": [
              "11"
            ]
          },
          "metadata": {},
          "execution_count": 144
        }
      ]
    },
    {
      "cell_type": "code",
      "metadata": {
        "colab": {
          "base_uri": "https://localhost:8080/",
          "height": 225
        },
        "id": "zaDh0o8uJi_z",
        "outputId": "d2e34e30-b39f-49c9-8819-12139b11ed8f"
      },
      "source": [
        "# Congressional Districts with Counts of Activities\n",
        "df_con_dist_counts = df_merged_Act_Fact.value_counts('CONGRESSIONAL_DIST_NUM').rename_axis('CONGRESSIONAL_DIST_NUM').reset_index(name='counts')\n",
        "print(df_con_dist_counts)"
      ],
      "execution_count": 145,
      "outputs": [
        {
          "output_type": "display_data",
          "data": {
            "text/html": [
              "\n",
              "  <style>\n",
              "    pre {\n",
              "        white-space: pre-wrap;\n",
              "    }\n",
              "  </style>\n",
              "  "
            ],
            "text/plain": [
              "<IPython.core.display.HTML object>"
            ]
          },
          "metadata": {}
        },
        {
          "output_type": "display_data",
          "data": {
            "text/html": [
              "\n",
              "  <style>\n",
              "    pre {\n",
              "        white-space: pre-wrap;\n",
              "    }\n",
              "  </style>\n",
              "  "
            ],
            "text/plain": [
              "<IPython.core.display.HTML object>"
            ]
          },
          "metadata": {}
        },
        {
          "output_type": "stream",
          "text": [
            "    CONGRESSIONAL_DIST_NUM  counts\n",
            "0                        9    4142\n",
            "1                        6    2707\n",
            "2                        5    2486\n",
            "3                        4    1849\n",
            "4                        7    1330\n",
            "5                        1    1136\n",
            "6                        3    1027\n",
            "7                       10     980\n",
            "8                        2     585\n",
            "9                       11     178\n",
            "10                       8      77\n"
          ],
          "name": "stdout"
        }
      ]
    },
    {
      "cell_type": "markdown",
      "metadata": {
        "id": "l-Khxt7QT_64"
      },
      "source": [
        "## Congressional District and FY Pivots"
      ]
    },
    {
      "cell_type": "code",
      "metadata": {
        "colab": {
          "base_uri": "https://localhost:8080/",
          "height": 472
        },
        "id": "akd4GDya1U6q",
        "outputId": "fb827b15-e77a-47b4-a5e5-27693a8eeb3a"
      },
      "source": [
        "# dataframe out of counts per Congressional district and FY\n",
        "\n",
        "cols_con_dist_FY = ['CONGRESSIONAL_DIST_NUM', 'FISCAL_YEAR']\n",
        "print(cols_con_dist_FY)\n",
        "con_dist_fy_counts = df_merged_Act_Fact.value_counts(subset=cols_con_dist_FY)\n",
        "df_con_dist_fy_counts = pd.DataFrame(con_dist_fy_counts)\n",
        "df_con_dist_fy_counts.sort_values(by=cols_con_dist_FY)"
      ],
      "execution_count": 146,
      "outputs": [
        {
          "output_type": "display_data",
          "data": {
            "text/html": [
              "\n",
              "  <style>\n",
              "    pre {\n",
              "        white-space: pre-wrap;\n",
              "    }\n",
              "  </style>\n",
              "  "
            ],
            "text/plain": [
              "<IPython.core.display.HTML object>"
            ]
          },
          "metadata": {}
        },
        {
          "output_type": "display_data",
          "data": {
            "text/html": [
              "\n",
              "  <style>\n",
              "    pre {\n",
              "        white-space: pre-wrap;\n",
              "    }\n",
              "  </style>\n",
              "  "
            ],
            "text/plain": [
              "<IPython.core.display.HTML object>"
            ]
          },
          "metadata": {}
        },
        {
          "output_type": "stream",
          "text": [
            "['CONGRESSIONAL_DIST_NUM', 'FISCAL_YEAR']\n"
          ],
          "name": "stdout"
        },
        {
          "output_type": "execute_result",
          "data": {
            "text/html": [
              "<div>\n",
              "<style scoped>\n",
              "    .dataframe tbody tr th:only-of-type {\n",
              "        vertical-align: middle;\n",
              "    }\n",
              "\n",
              "    .dataframe tbody tr th {\n",
              "        vertical-align: top;\n",
              "    }\n",
              "\n",
              "    .dataframe thead th {\n",
              "        text-align: right;\n",
              "    }\n",
              "</style>\n",
              "<table border=\"1\" class=\"dataframe\">\n",
              "  <thead>\n",
              "    <tr style=\"text-align: right;\">\n",
              "      <th></th>\n",
              "      <th></th>\n",
              "      <th>0</th>\n",
              "    </tr>\n",
              "    <tr>\n",
              "      <th>CONGRESSIONAL_DIST_NUM</th>\n",
              "      <th>FISCAL_YEAR</th>\n",
              "      <th></th>\n",
              "    </tr>\n",
              "  </thead>\n",
              "  <tbody>\n",
              "    <tr>\n",
              "      <th rowspan=\"5\" valign=\"top\">1</th>\n",
              "      <th>1981</th>\n",
              "      <td>1</td>\n",
              "    </tr>\n",
              "    <tr>\n",
              "      <th>1982</th>\n",
              "      <td>3</td>\n",
              "    </tr>\n",
              "    <tr>\n",
              "      <th>1983</th>\n",
              "      <td>4</td>\n",
              "    </tr>\n",
              "    <tr>\n",
              "      <th>1984</th>\n",
              "      <td>1</td>\n",
              "    </tr>\n",
              "    <tr>\n",
              "      <th>1985</th>\n",
              "      <td>1</td>\n",
              "    </tr>\n",
              "    <tr>\n",
              "      <th>...</th>\n",
              "      <th>...</th>\n",
              "      <td>...</td>\n",
              "    </tr>\n",
              "    <tr>\n",
              "      <th rowspan=\"5\" valign=\"top\">11</th>\n",
              "      <th>2009</th>\n",
              "      <td>8</td>\n",
              "    </tr>\n",
              "    <tr>\n",
              "      <th>2010</th>\n",
              "      <td>7</td>\n",
              "    </tr>\n",
              "    <tr>\n",
              "      <th>2011</th>\n",
              "      <td>4</td>\n",
              "    </tr>\n",
              "    <tr>\n",
              "      <th>2012</th>\n",
              "      <td>4</td>\n",
              "    </tr>\n",
              "    <tr>\n",
              "      <th>2013</th>\n",
              "      <td>2</td>\n",
              "    </tr>\n",
              "  </tbody>\n",
              "</table>\n",
              "<p>349 rows × 1 columns</p>\n",
              "</div>"
            ],
            "text/plain": [
              "                                    0\n",
              "CONGRESSIONAL_DIST_NUM FISCAL_YEAR   \n",
              "1                      1981         1\n",
              "                       1982         3\n",
              "                       1983         4\n",
              "                       1984         1\n",
              "                       1985         1\n",
              "...                                ..\n",
              "11                     2009         8\n",
              "                       2010         7\n",
              "                       2011         4\n",
              "                       2012         4\n",
              "                       2013         2\n",
              "\n",
              "[349 rows x 1 columns]"
            ]
          },
          "metadata": {},
          "execution_count": 146
        }
      ]
    },
    {
      "cell_type": "code",
      "metadata": {
        "colab": {
          "base_uri": "https://localhost:8080/",
          "height": 260
        },
        "id": "31J36-R6MbP1",
        "outputId": "ed326395-cc37-4606-f420-a2590d7691a7"
      },
      "source": [
        "# dataframe of congressional districts and FY\n",
        "\n",
        "df_con_fy_counts = df_merged_Act_Fact.value_counts(subset=cols_con_dist_FY).reset_index(name='counts')\n",
        "print(df_con_fy_counts)"
      ],
      "execution_count": 147,
      "outputs": [
        {
          "output_type": "display_data",
          "data": {
            "text/html": [
              "\n",
              "  <style>\n",
              "    pre {\n",
              "        white-space: pre-wrap;\n",
              "    }\n",
              "  </style>\n",
              "  "
            ],
            "text/plain": [
              "<IPython.core.display.HTML object>"
            ]
          },
          "metadata": {}
        },
        {
          "output_type": "display_data",
          "data": {
            "text/html": [
              "\n",
              "  <style>\n",
              "    pre {\n",
              "        white-space: pre-wrap;\n",
              "    }\n",
              "  </style>\n",
              "  "
            ],
            "text/plain": [
              "<IPython.core.display.HTML object>"
            ]
          },
          "metadata": {}
        },
        {
          "output_type": "stream",
          "text": [
            "     CONGRESSIONAL_DIST_NUM  FISCAL_YEAR  counts\n",
            "0                         9         2004     304\n",
            "1                         9         1999     252\n",
            "2                         9         2000     248\n",
            "3                         9         1998     233\n",
            "4                         9         2001     232\n",
            "..                      ...          ...     ...\n",
            "344                       3         1982       1\n",
            "345                       2         2015       1\n",
            "346                       2         2014       1\n",
            "347                       1         2014       1\n",
            "348                       1         1981       1\n",
            "\n",
            "[349 rows x 3 columns]\n"
          ],
          "name": "stdout"
        }
      ]
    },
    {
      "cell_type": "markdown",
      "metadata": {
        "id": "FdOQzmiyjnJi"
      },
      "source": [
        "I needed to view the data by looking at total counts by FY and Congressional District together, so I pivoted the data, first with Congressional Districts as columns and then with FY columns."
      ]
    },
    {
      "cell_type": "code",
      "metadata": {
        "colab": {
          "base_uri": "https://localhost:8080/",
          "height": 1000
        },
        "id": "HlftWak2NfmL",
        "outputId": "ea1edd3f-223d-4085-b877-d04a6591af67"
      },
      "source": [
        "df_con_fy_pivot = df_con_fy_counts.pivot(index='FISCAL_YEAR', columns='CONGRESSIONAL_DIST_NUM', values='counts')\n",
        "\n",
        "df_con_fy_pivot"
      ],
      "execution_count": 148,
      "outputs": [
        {
          "output_type": "display_data",
          "data": {
            "text/html": [
              "\n",
              "  <style>\n",
              "    pre {\n",
              "        white-space: pre-wrap;\n",
              "    }\n",
              "  </style>\n",
              "  "
            ],
            "text/plain": [
              "<IPython.core.display.HTML object>"
            ]
          },
          "metadata": {}
        },
        {
          "output_type": "display_data",
          "data": {
            "text/html": [
              "\n",
              "  <style>\n",
              "    pre {\n",
              "        white-space: pre-wrap;\n",
              "    }\n",
              "  </style>\n",
              "  "
            ],
            "text/plain": [
              "<IPython.core.display.HTML object>"
            ]
          },
          "metadata": {}
        },
        {
          "output_type": "execute_result",
          "data": {
            "text/html": [
              "<div>\n",
              "<style scoped>\n",
              "    .dataframe tbody tr th:only-of-type {\n",
              "        vertical-align: middle;\n",
              "    }\n",
              "\n",
              "    .dataframe tbody tr th {\n",
              "        vertical-align: top;\n",
              "    }\n",
              "\n",
              "    .dataframe thead th {\n",
              "        text-align: right;\n",
              "    }\n",
              "</style>\n",
              "<table border=\"1\" class=\"dataframe\">\n",
              "  <thead>\n",
              "    <tr style=\"text-align: right;\">\n",
              "      <th>CONGRESSIONAL_DIST_NUM</th>\n",
              "      <th>1</th>\n",
              "      <th>2</th>\n",
              "      <th>3</th>\n",
              "      <th>4</th>\n",
              "      <th>5</th>\n",
              "      <th>6</th>\n",
              "      <th>7</th>\n",
              "      <th>8</th>\n",
              "      <th>9</th>\n",
              "      <th>10</th>\n",
              "      <th>11</th>\n",
              "    </tr>\n",
              "    <tr>\n",
              "      <th>FISCAL_YEAR</th>\n",
              "      <th></th>\n",
              "      <th></th>\n",
              "      <th></th>\n",
              "      <th></th>\n",
              "      <th></th>\n",
              "      <th></th>\n",
              "      <th></th>\n",
              "      <th></th>\n",
              "      <th></th>\n",
              "      <th></th>\n",
              "      <th></th>\n",
              "    </tr>\n",
              "  </thead>\n",
              "  <tbody>\n",
              "    <tr>\n",
              "      <th>1981</th>\n",
              "      <td>1.0</td>\n",
              "      <td>1.0</td>\n",
              "      <td>3.0</td>\n",
              "      <td>12.0</td>\n",
              "      <td>2.0</td>\n",
              "      <td>8.0</td>\n",
              "      <td>2.0</td>\n",
              "      <td>NaN</td>\n",
              "      <td>9.0</td>\n",
              "      <td>NaN</td>\n",
              "      <td>NaN</td>\n",
              "    </tr>\n",
              "    <tr>\n",
              "      <th>1982</th>\n",
              "      <td>3.0</td>\n",
              "      <td>2.0</td>\n",
              "      <td>1.0</td>\n",
              "      <td>10.0</td>\n",
              "      <td>2.0</td>\n",
              "      <td>4.0</td>\n",
              "      <td>2.0</td>\n",
              "      <td>NaN</td>\n",
              "      <td>9.0</td>\n",
              "      <td>NaN</td>\n",
              "      <td>NaN</td>\n",
              "    </tr>\n",
              "    <tr>\n",
              "      <th>1983</th>\n",
              "      <td>4.0</td>\n",
              "      <td>2.0</td>\n",
              "      <td>7.0</td>\n",
              "      <td>20.0</td>\n",
              "      <td>5.0</td>\n",
              "      <td>14.0</td>\n",
              "      <td>6.0</td>\n",
              "      <td>NaN</td>\n",
              "      <td>8.0</td>\n",
              "      <td>1.0</td>\n",
              "      <td>NaN</td>\n",
              "    </tr>\n",
              "    <tr>\n",
              "      <th>1984</th>\n",
              "      <td>1.0</td>\n",
              "      <td>4.0</td>\n",
              "      <td>1.0</td>\n",
              "      <td>14.0</td>\n",
              "      <td>5.0</td>\n",
              "      <td>11.0</td>\n",
              "      <td>5.0</td>\n",
              "      <td>NaN</td>\n",
              "      <td>4.0</td>\n",
              "      <td>1.0</td>\n",
              "      <td>NaN</td>\n",
              "    </tr>\n",
              "    <tr>\n",
              "      <th>1985</th>\n",
              "      <td>1.0</td>\n",
              "      <td>4.0</td>\n",
              "      <td>9.0</td>\n",
              "      <td>39.0</td>\n",
              "      <td>6.0</td>\n",
              "      <td>11.0</td>\n",
              "      <td>5.0</td>\n",
              "      <td>NaN</td>\n",
              "      <td>12.0</td>\n",
              "      <td>1.0</td>\n",
              "      <td>NaN</td>\n",
              "    </tr>\n",
              "    <tr>\n",
              "      <th>1986</th>\n",
              "      <td>5.0</td>\n",
              "      <td>2.0</td>\n",
              "      <td>10.0</td>\n",
              "      <td>24.0</td>\n",
              "      <td>11.0</td>\n",
              "      <td>36.0</td>\n",
              "      <td>4.0</td>\n",
              "      <td>NaN</td>\n",
              "      <td>15.0</td>\n",
              "      <td>4.0</td>\n",
              "      <td>NaN</td>\n",
              "    </tr>\n",
              "    <tr>\n",
              "      <th>1987</th>\n",
              "      <td>5.0</td>\n",
              "      <td>5.0</td>\n",
              "      <td>11.0</td>\n",
              "      <td>36.0</td>\n",
              "      <td>27.0</td>\n",
              "      <td>47.0</td>\n",
              "      <td>26.0</td>\n",
              "      <td>NaN</td>\n",
              "      <td>38.0</td>\n",
              "      <td>2.0</td>\n",
              "      <td>1.0</td>\n",
              "    </tr>\n",
              "    <tr>\n",
              "      <th>1988</th>\n",
              "      <td>5.0</td>\n",
              "      <td>7.0</td>\n",
              "      <td>13.0</td>\n",
              "      <td>42.0</td>\n",
              "      <td>46.0</td>\n",
              "      <td>54.0</td>\n",
              "      <td>20.0</td>\n",
              "      <td>NaN</td>\n",
              "      <td>45.0</td>\n",
              "      <td>7.0</td>\n",
              "      <td>NaN</td>\n",
              "    </tr>\n",
              "    <tr>\n",
              "      <th>1989</th>\n",
              "      <td>19.0</td>\n",
              "      <td>5.0</td>\n",
              "      <td>31.0</td>\n",
              "      <td>47.0</td>\n",
              "      <td>50.0</td>\n",
              "      <td>53.0</td>\n",
              "      <td>11.0</td>\n",
              "      <td>NaN</td>\n",
              "      <td>34.0</td>\n",
              "      <td>11.0</td>\n",
              "      <td>1.0</td>\n",
              "    </tr>\n",
              "    <tr>\n",
              "      <th>1990</th>\n",
              "      <td>22.0</td>\n",
              "      <td>11.0</td>\n",
              "      <td>31.0</td>\n",
              "      <td>52.0</td>\n",
              "      <td>51.0</td>\n",
              "      <td>58.0</td>\n",
              "      <td>24.0</td>\n",
              "      <td>NaN</td>\n",
              "      <td>80.0</td>\n",
              "      <td>10.0</td>\n",
              "      <td>3.0</td>\n",
              "    </tr>\n",
              "    <tr>\n",
              "      <th>1991</th>\n",
              "      <td>21.0</td>\n",
              "      <td>23.0</td>\n",
              "      <td>42.0</td>\n",
              "      <td>59.0</td>\n",
              "      <td>53.0</td>\n",
              "      <td>81.0</td>\n",
              "      <td>27.0</td>\n",
              "      <td>NaN</td>\n",
              "      <td>90.0</td>\n",
              "      <td>18.0</td>\n",
              "      <td>6.0</td>\n",
              "    </tr>\n",
              "    <tr>\n",
              "      <th>1992</th>\n",
              "      <td>11.0</td>\n",
              "      <td>22.0</td>\n",
              "      <td>37.0</td>\n",
              "      <td>57.0</td>\n",
              "      <td>62.0</td>\n",
              "      <td>62.0</td>\n",
              "      <td>32.0</td>\n",
              "      <td>NaN</td>\n",
              "      <td>86.0</td>\n",
              "      <td>19.0</td>\n",
              "      <td>2.0</td>\n",
              "    </tr>\n",
              "    <tr>\n",
              "      <th>1993</th>\n",
              "      <td>34.0</td>\n",
              "      <td>17.0</td>\n",
              "      <td>41.0</td>\n",
              "      <td>63.0</td>\n",
              "      <td>48.0</td>\n",
              "      <td>85.0</td>\n",
              "      <td>37.0</td>\n",
              "      <td>1.0</td>\n",
              "      <td>106.0</td>\n",
              "      <td>21.0</td>\n",
              "      <td>4.0</td>\n",
              "    </tr>\n",
              "    <tr>\n",
              "      <th>1994</th>\n",
              "      <td>20.0</td>\n",
              "      <td>16.0</td>\n",
              "      <td>34.0</td>\n",
              "      <td>69.0</td>\n",
              "      <td>64.0</td>\n",
              "      <td>84.0</td>\n",
              "      <td>38.0</td>\n",
              "      <td>2.0</td>\n",
              "      <td>112.0</td>\n",
              "      <td>19.0</td>\n",
              "      <td>3.0</td>\n",
              "    </tr>\n",
              "    <tr>\n",
              "      <th>1995</th>\n",
              "      <td>33.0</td>\n",
              "      <td>22.0</td>\n",
              "      <td>29.0</td>\n",
              "      <td>65.0</td>\n",
              "      <td>61.0</td>\n",
              "      <td>77.0</td>\n",
              "      <td>31.0</td>\n",
              "      <td>2.0</td>\n",
              "      <td>117.0</td>\n",
              "      <td>19.0</td>\n",
              "      <td>5.0</td>\n",
              "    </tr>\n",
              "    <tr>\n",
              "      <th>1996</th>\n",
              "      <td>19.0</td>\n",
              "      <td>21.0</td>\n",
              "      <td>47.0</td>\n",
              "      <td>69.0</td>\n",
              "      <td>43.0</td>\n",
              "      <td>88.0</td>\n",
              "      <td>26.0</td>\n",
              "      <td>4.0</td>\n",
              "      <td>125.0</td>\n",
              "      <td>15.0</td>\n",
              "      <td>4.0</td>\n",
              "    </tr>\n",
              "    <tr>\n",
              "      <th>1997</th>\n",
              "      <td>27.0</td>\n",
              "      <td>23.0</td>\n",
              "      <td>37.0</td>\n",
              "      <td>66.0</td>\n",
              "      <td>44.0</td>\n",
              "      <td>82.0</td>\n",
              "      <td>41.0</td>\n",
              "      <td>3.0</td>\n",
              "      <td>118.0</td>\n",
              "      <td>18.0</td>\n",
              "      <td>6.0</td>\n",
              "    </tr>\n",
              "    <tr>\n",
              "      <th>1998</th>\n",
              "      <td>46.0</td>\n",
              "      <td>38.0</td>\n",
              "      <td>63.0</td>\n",
              "      <td>98.0</td>\n",
              "      <td>147.0</td>\n",
              "      <td>118.0</td>\n",
              "      <td>58.0</td>\n",
              "      <td>2.0</td>\n",
              "      <td>233.0</td>\n",
              "      <td>52.0</td>\n",
              "      <td>7.0</td>\n",
              "    </tr>\n",
              "    <tr>\n",
              "      <th>1999</th>\n",
              "      <td>51.0</td>\n",
              "      <td>36.0</td>\n",
              "      <td>73.0</td>\n",
              "      <td>108.0</td>\n",
              "      <td>126.0</td>\n",
              "      <td>139.0</td>\n",
              "      <td>67.0</td>\n",
              "      <td>1.0</td>\n",
              "      <td>252.0</td>\n",
              "      <td>57.0</td>\n",
              "      <td>9.0</td>\n",
              "    </tr>\n",
              "    <tr>\n",
              "      <th>2000</th>\n",
              "      <td>60.0</td>\n",
              "      <td>40.0</td>\n",
              "      <td>49.0</td>\n",
              "      <td>104.0</td>\n",
              "      <td>99.0</td>\n",
              "      <td>124.0</td>\n",
              "      <td>73.0</td>\n",
              "      <td>11.0</td>\n",
              "      <td>248.0</td>\n",
              "      <td>53.0</td>\n",
              "      <td>5.0</td>\n",
              "    </tr>\n",
              "    <tr>\n",
              "      <th>2001</th>\n",
              "      <td>72.0</td>\n",
              "      <td>32.0</td>\n",
              "      <td>40.0</td>\n",
              "      <td>91.0</td>\n",
              "      <td>112.0</td>\n",
              "      <td>150.0</td>\n",
              "      <td>53.0</td>\n",
              "      <td>8.0</td>\n",
              "      <td>232.0</td>\n",
              "      <td>65.0</td>\n",
              "      <td>9.0</td>\n",
              "    </tr>\n",
              "    <tr>\n",
              "      <th>2002</th>\n",
              "      <td>62.0</td>\n",
              "      <td>31.0</td>\n",
              "      <td>46.0</td>\n",
              "      <td>96.0</td>\n",
              "      <td>119.0</td>\n",
              "      <td>112.0</td>\n",
              "      <td>57.0</td>\n",
              "      <td>1.0</td>\n",
              "      <td>213.0</td>\n",
              "      <td>39.0</td>\n",
              "      <td>24.0</td>\n",
              "    </tr>\n",
              "    <tr>\n",
              "      <th>2003</th>\n",
              "      <td>33.0</td>\n",
              "      <td>33.0</td>\n",
              "      <td>47.0</td>\n",
              "      <td>72.0</td>\n",
              "      <td>138.0</td>\n",
              "      <td>110.0</td>\n",
              "      <td>58.0</td>\n",
              "      <td>2.0</td>\n",
              "      <td>227.0</td>\n",
              "      <td>32.0</td>\n",
              "      <td>6.0</td>\n",
              "    </tr>\n",
              "    <tr>\n",
              "      <th>2004</th>\n",
              "      <td>47.0</td>\n",
              "      <td>32.0</td>\n",
              "      <td>37.0</td>\n",
              "      <td>71.0</td>\n",
              "      <td>147.0</td>\n",
              "      <td>119.0</td>\n",
              "      <td>87.0</td>\n",
              "      <td>12.0</td>\n",
              "      <td>304.0</td>\n",
              "      <td>39.0</td>\n",
              "      <td>2.0</td>\n",
              "    </tr>\n",
              "    <tr>\n",
              "      <th>2005</th>\n",
              "      <td>33.0</td>\n",
              "      <td>22.0</td>\n",
              "      <td>34.0</td>\n",
              "      <td>76.0</td>\n",
              "      <td>148.0</td>\n",
              "      <td>139.0</td>\n",
              "      <td>89.0</td>\n",
              "      <td>4.0</td>\n",
              "      <td>212.0</td>\n",
              "      <td>39.0</td>\n",
              "      <td>3.0</td>\n",
              "    </tr>\n",
              "    <tr>\n",
              "      <th>2006</th>\n",
              "      <td>54.0</td>\n",
              "      <td>18.0</td>\n",
              "      <td>22.0</td>\n",
              "      <td>52.0</td>\n",
              "      <td>166.0</td>\n",
              "      <td>183.0</td>\n",
              "      <td>78.0</td>\n",
              "      <td>1.0</td>\n",
              "      <td>202.0</td>\n",
              "      <td>67.0</td>\n",
              "      <td>14.0</td>\n",
              "    </tr>\n",
              "    <tr>\n",
              "      <th>2007</th>\n",
              "      <td>88.0</td>\n",
              "      <td>20.0</td>\n",
              "      <td>33.0</td>\n",
              "      <td>67.0</td>\n",
              "      <td>133.0</td>\n",
              "      <td>146.0</td>\n",
              "      <td>83.0</td>\n",
              "      <td>2.0</td>\n",
              "      <td>220.0</td>\n",
              "      <td>80.0</td>\n",
              "      <td>22.0</td>\n",
              "    </tr>\n",
              "    <tr>\n",
              "      <th>2008</th>\n",
              "      <td>86.0</td>\n",
              "      <td>12.0</td>\n",
              "      <td>44.0</td>\n",
              "      <td>62.0</td>\n",
              "      <td>122.0</td>\n",
              "      <td>111.0</td>\n",
              "      <td>88.0</td>\n",
              "      <td>6.0</td>\n",
              "      <td>165.0</td>\n",
              "      <td>93.0</td>\n",
              "      <td>17.0</td>\n",
              "    </tr>\n",
              "    <tr>\n",
              "      <th>2009</th>\n",
              "      <td>82.0</td>\n",
              "      <td>14.0</td>\n",
              "      <td>47.0</td>\n",
              "      <td>51.0</td>\n",
              "      <td>178.0</td>\n",
              "      <td>117.0</td>\n",
              "      <td>62.0</td>\n",
              "      <td>4.0</td>\n",
              "      <td>141.0</td>\n",
              "      <td>70.0</td>\n",
              "      <td>8.0</td>\n",
              "    </tr>\n",
              "    <tr>\n",
              "      <th>2010</th>\n",
              "      <td>72.0</td>\n",
              "      <td>30.0</td>\n",
              "      <td>41.0</td>\n",
              "      <td>47.0</td>\n",
              "      <td>101.0</td>\n",
              "      <td>101.0</td>\n",
              "      <td>66.0</td>\n",
              "      <td>2.0</td>\n",
              "      <td>193.0</td>\n",
              "      <td>49.0</td>\n",
              "      <td>7.0</td>\n",
              "    </tr>\n",
              "    <tr>\n",
              "      <th>2011</th>\n",
              "      <td>57.0</td>\n",
              "      <td>20.0</td>\n",
              "      <td>38.0</td>\n",
              "      <td>59.0</td>\n",
              "      <td>93.0</td>\n",
              "      <td>94.0</td>\n",
              "      <td>47.0</td>\n",
              "      <td>4.0</td>\n",
              "      <td>134.0</td>\n",
              "      <td>50.0</td>\n",
              "      <td>4.0</td>\n",
              "    </tr>\n",
              "    <tr>\n",
              "      <th>2012</th>\n",
              "      <td>50.0</td>\n",
              "      <td>18.0</td>\n",
              "      <td>24.0</td>\n",
              "      <td>44.0</td>\n",
              "      <td>72.0</td>\n",
              "      <td>71.0</td>\n",
              "      <td>26.0</td>\n",
              "      <td>5.0</td>\n",
              "      <td>125.0</td>\n",
              "      <td>23.0</td>\n",
              "      <td>4.0</td>\n",
              "    </tr>\n",
              "    <tr>\n",
              "      <th>2013</th>\n",
              "      <td>11.0</td>\n",
              "      <td>NaN</td>\n",
              "      <td>3.0</td>\n",
              "      <td>4.0</td>\n",
              "      <td>3.0</td>\n",
              "      <td>12.0</td>\n",
              "      <td>1.0</td>\n",
              "      <td>NaN</td>\n",
              "      <td>26.0</td>\n",
              "      <td>4.0</td>\n",
              "      <td>2.0</td>\n",
              "    </tr>\n",
              "    <tr>\n",
              "      <th>2014</th>\n",
              "      <td>1.0</td>\n",
              "      <td>1.0</td>\n",
              "      <td>2.0</td>\n",
              "      <td>3.0</td>\n",
              "      <td>2.0</td>\n",
              "      <td>6.0</td>\n",
              "      <td>NaN</td>\n",
              "      <td>NaN</td>\n",
              "      <td>7.0</td>\n",
              "      <td>2.0</td>\n",
              "      <td>NaN</td>\n",
              "    </tr>\n",
              "    <tr>\n",
              "      <th>2015</th>\n",
              "      <td>NaN</td>\n",
              "      <td>1.0</td>\n",
              "      <td>NaN</td>\n",
              "      <td>NaN</td>\n",
              "      <td>NaN</td>\n",
              "      <td>NaN</td>\n",
              "      <td>NaN</td>\n",
              "      <td>NaN</td>\n",
              "      <td>NaN</td>\n",
              "      <td>NaN</td>\n",
              "      <td>NaN</td>\n",
              "    </tr>\n",
              "  </tbody>\n",
              "</table>\n",
              "</div>"
            ],
            "text/plain": [
              "CONGRESSIONAL_DIST_NUM    1     2     3      4   ...    8      9     10    11\n",
              "FISCAL_YEAR                                      ...                         \n",
              "1981                     1.0   1.0   3.0   12.0  ...   NaN    9.0   NaN   NaN\n",
              "1982                     3.0   2.0   1.0   10.0  ...   NaN    9.0   NaN   NaN\n",
              "1983                     4.0   2.0   7.0   20.0  ...   NaN    8.0   1.0   NaN\n",
              "1984                     1.0   4.0   1.0   14.0  ...   NaN    4.0   1.0   NaN\n",
              "1985                     1.0   4.0   9.0   39.0  ...   NaN   12.0   1.0   NaN\n",
              "1986                     5.0   2.0  10.0   24.0  ...   NaN   15.0   4.0   NaN\n",
              "1987                     5.0   5.0  11.0   36.0  ...   NaN   38.0   2.0   1.0\n",
              "1988                     5.0   7.0  13.0   42.0  ...   NaN   45.0   7.0   NaN\n",
              "1989                    19.0   5.0  31.0   47.0  ...   NaN   34.0  11.0   1.0\n",
              "1990                    22.0  11.0  31.0   52.0  ...   NaN   80.0  10.0   3.0\n",
              "1991                    21.0  23.0  42.0   59.0  ...   NaN   90.0  18.0   6.0\n",
              "1992                    11.0  22.0  37.0   57.0  ...   NaN   86.0  19.0   2.0\n",
              "1993                    34.0  17.0  41.0   63.0  ...   1.0  106.0  21.0   4.0\n",
              "1994                    20.0  16.0  34.0   69.0  ...   2.0  112.0  19.0   3.0\n",
              "1995                    33.0  22.0  29.0   65.0  ...   2.0  117.0  19.0   5.0\n",
              "1996                    19.0  21.0  47.0   69.0  ...   4.0  125.0  15.0   4.0\n",
              "1997                    27.0  23.0  37.0   66.0  ...   3.0  118.0  18.0   6.0\n",
              "1998                    46.0  38.0  63.0   98.0  ...   2.0  233.0  52.0   7.0\n",
              "1999                    51.0  36.0  73.0  108.0  ...   1.0  252.0  57.0   9.0\n",
              "2000                    60.0  40.0  49.0  104.0  ...  11.0  248.0  53.0   5.0\n",
              "2001                    72.0  32.0  40.0   91.0  ...   8.0  232.0  65.0   9.0\n",
              "2002                    62.0  31.0  46.0   96.0  ...   1.0  213.0  39.0  24.0\n",
              "2003                    33.0  33.0  47.0   72.0  ...   2.0  227.0  32.0   6.0\n",
              "2004                    47.0  32.0  37.0   71.0  ...  12.0  304.0  39.0   2.0\n",
              "2005                    33.0  22.0  34.0   76.0  ...   4.0  212.0  39.0   3.0\n",
              "2006                    54.0  18.0  22.0   52.0  ...   1.0  202.0  67.0  14.0\n",
              "2007                    88.0  20.0  33.0   67.0  ...   2.0  220.0  80.0  22.0\n",
              "2008                    86.0  12.0  44.0   62.0  ...   6.0  165.0  93.0  17.0\n",
              "2009                    82.0  14.0  47.0   51.0  ...   4.0  141.0  70.0   8.0\n",
              "2010                    72.0  30.0  41.0   47.0  ...   2.0  193.0  49.0   7.0\n",
              "2011                    57.0  20.0  38.0   59.0  ...   4.0  134.0  50.0   4.0\n",
              "2012                    50.0  18.0  24.0   44.0  ...   5.0  125.0  23.0   4.0\n",
              "2013                    11.0   NaN   3.0    4.0  ...   NaN   26.0   4.0   2.0\n",
              "2014                     1.0   1.0   2.0    3.0  ...   NaN    7.0   2.0   NaN\n",
              "2015                     NaN   1.0   NaN    NaN  ...   NaN    NaN   NaN   NaN\n",
              "\n",
              "[35 rows x 11 columns]"
            ]
          },
          "metadata": {},
          "execution_count": 148
        }
      ]
    },
    {
      "cell_type": "code",
      "metadata": {
        "colab": {
          "base_uri": "https://localhost:8080/",
          "height": 329
        },
        "id": "ScxSshCaRH9r",
        "outputId": "634ba8d3-f1b4-403e-a392-0f1b06981aa2"
      },
      "source": [
        "# this pivot shows the data the way I want it but doesn't have it ID'd the way I need\n",
        "df_con_fy_pivot.info()"
      ],
      "execution_count": 149,
      "outputs": [
        {
          "output_type": "display_data",
          "data": {
            "text/html": [
              "\n",
              "  <style>\n",
              "    pre {\n",
              "        white-space: pre-wrap;\n",
              "    }\n",
              "  </style>\n",
              "  "
            ],
            "text/plain": [
              "<IPython.core.display.HTML object>"
            ]
          },
          "metadata": {}
        },
        {
          "output_type": "display_data",
          "data": {
            "text/html": [
              "\n",
              "  <style>\n",
              "    pre {\n",
              "        white-space: pre-wrap;\n",
              "    }\n",
              "  </style>\n",
              "  "
            ],
            "text/plain": [
              "<IPython.core.display.HTML object>"
            ]
          },
          "metadata": {}
        },
        {
          "output_type": "stream",
          "text": [
            "<class 'pandas.core.frame.DataFrame'>\n",
            "Int64Index: 35 entries, 1981 to 2015\n",
            "Data columns (total 11 columns):\n",
            " #   Column  Non-Null Count  Dtype  \n",
            "---  ------  --------------  -----  \n",
            " 0   1       34 non-null     float64\n",
            " 1   2       34 non-null     float64\n",
            " 2   3       34 non-null     float64\n",
            " 3   4       34 non-null     float64\n",
            " 4   5       34 non-null     float64\n",
            " 5   6       34 non-null     float64\n",
            " 6   7       33 non-null     float64\n",
            " 7   8       20 non-null     float64\n",
            " 8   9       34 non-null     float64\n",
            " 9   10      32 non-null     float64\n",
            " 10  11      26 non-null     float64\n",
            "dtypes: float64(11)\n",
            "memory usage: 3.3 KB\n"
          ],
          "name": "stdout"
        }
      ]
    },
    {
      "cell_type": "code",
      "metadata": {
        "colab": {
          "base_uri": "https://localhost:8080/",
          "height": 445
        },
        "id": "9qlUVrA2o3cp",
        "outputId": "0e25a93f-c00e-4641-e729-1350f61d89e6"
      },
      "source": [
        "# try again with pivot on FY this time\n",
        "\n",
        "df_fy_con_pivot = df_con_fy_counts.pivot(index='CONGRESSIONAL_DIST_NUM', columns='FISCAL_YEAR', values='counts')\n",
        "df_fy_con_pivot"
      ],
      "execution_count": 150,
      "outputs": [
        {
          "output_type": "display_data",
          "data": {
            "text/html": [
              "\n",
              "  <style>\n",
              "    pre {\n",
              "        white-space: pre-wrap;\n",
              "    }\n",
              "  </style>\n",
              "  "
            ],
            "text/plain": [
              "<IPython.core.display.HTML object>"
            ]
          },
          "metadata": {}
        },
        {
          "output_type": "display_data",
          "data": {
            "text/html": [
              "\n",
              "  <style>\n",
              "    pre {\n",
              "        white-space: pre-wrap;\n",
              "    }\n",
              "  </style>\n",
              "  "
            ],
            "text/plain": [
              "<IPython.core.display.HTML object>"
            ]
          },
          "metadata": {}
        },
        {
          "output_type": "execute_result",
          "data": {
            "text/html": [
              "<div>\n",
              "<style scoped>\n",
              "    .dataframe tbody tr th:only-of-type {\n",
              "        vertical-align: middle;\n",
              "    }\n",
              "\n",
              "    .dataframe tbody tr th {\n",
              "        vertical-align: top;\n",
              "    }\n",
              "\n",
              "    .dataframe thead th {\n",
              "        text-align: right;\n",
              "    }\n",
              "</style>\n",
              "<table border=\"1\" class=\"dataframe\">\n",
              "  <thead>\n",
              "    <tr style=\"text-align: right;\">\n",
              "      <th>FISCAL_YEAR</th>\n",
              "      <th>1981</th>\n",
              "      <th>1982</th>\n",
              "      <th>1983</th>\n",
              "      <th>1984</th>\n",
              "      <th>1985</th>\n",
              "      <th>1986</th>\n",
              "      <th>1987</th>\n",
              "      <th>1988</th>\n",
              "      <th>1989</th>\n",
              "      <th>1990</th>\n",
              "      <th>1991</th>\n",
              "      <th>1992</th>\n",
              "      <th>1993</th>\n",
              "      <th>1994</th>\n",
              "      <th>1995</th>\n",
              "      <th>1996</th>\n",
              "      <th>1997</th>\n",
              "      <th>1998</th>\n",
              "      <th>1999</th>\n",
              "      <th>2000</th>\n",
              "      <th>2001</th>\n",
              "      <th>2002</th>\n",
              "      <th>2003</th>\n",
              "      <th>2004</th>\n",
              "      <th>2005</th>\n",
              "      <th>2006</th>\n",
              "      <th>2007</th>\n",
              "      <th>2008</th>\n",
              "      <th>2009</th>\n",
              "      <th>2010</th>\n",
              "      <th>2011</th>\n",
              "      <th>2012</th>\n",
              "      <th>2013</th>\n",
              "      <th>2014</th>\n",
              "      <th>2015</th>\n",
              "    </tr>\n",
              "    <tr>\n",
              "      <th>CONGRESSIONAL_DIST_NUM</th>\n",
              "      <th></th>\n",
              "      <th></th>\n",
              "      <th></th>\n",
              "      <th></th>\n",
              "      <th></th>\n",
              "      <th></th>\n",
              "      <th></th>\n",
              "      <th></th>\n",
              "      <th></th>\n",
              "      <th></th>\n",
              "      <th></th>\n",
              "      <th></th>\n",
              "      <th></th>\n",
              "      <th></th>\n",
              "      <th></th>\n",
              "      <th></th>\n",
              "      <th></th>\n",
              "      <th></th>\n",
              "      <th></th>\n",
              "      <th></th>\n",
              "      <th></th>\n",
              "      <th></th>\n",
              "      <th></th>\n",
              "      <th></th>\n",
              "      <th></th>\n",
              "      <th></th>\n",
              "      <th></th>\n",
              "      <th></th>\n",
              "      <th></th>\n",
              "      <th></th>\n",
              "      <th></th>\n",
              "      <th></th>\n",
              "      <th></th>\n",
              "      <th></th>\n",
              "      <th></th>\n",
              "    </tr>\n",
              "  </thead>\n",
              "  <tbody>\n",
              "    <tr>\n",
              "      <th>1</th>\n",
              "      <td>1.0</td>\n",
              "      <td>3.0</td>\n",
              "      <td>4.0</td>\n",
              "      <td>1.0</td>\n",
              "      <td>1.0</td>\n",
              "      <td>5.0</td>\n",
              "      <td>5.0</td>\n",
              "      <td>5.0</td>\n",
              "      <td>19.0</td>\n",
              "      <td>22.0</td>\n",
              "      <td>21.0</td>\n",
              "      <td>11.0</td>\n",
              "      <td>34.0</td>\n",
              "      <td>20.0</td>\n",
              "      <td>33.0</td>\n",
              "      <td>19.0</td>\n",
              "      <td>27.0</td>\n",
              "      <td>46.0</td>\n",
              "      <td>51.0</td>\n",
              "      <td>60.0</td>\n",
              "      <td>72.0</td>\n",
              "      <td>62.0</td>\n",
              "      <td>33.0</td>\n",
              "      <td>47.0</td>\n",
              "      <td>33.0</td>\n",
              "      <td>54.0</td>\n",
              "      <td>88.0</td>\n",
              "      <td>86.0</td>\n",
              "      <td>82.0</td>\n",
              "      <td>72.0</td>\n",
              "      <td>57.0</td>\n",
              "      <td>50.0</td>\n",
              "      <td>11.0</td>\n",
              "      <td>1.0</td>\n",
              "      <td>NaN</td>\n",
              "    </tr>\n",
              "    <tr>\n",
              "      <th>2</th>\n",
              "      <td>1.0</td>\n",
              "      <td>2.0</td>\n",
              "      <td>2.0</td>\n",
              "      <td>4.0</td>\n",
              "      <td>4.0</td>\n",
              "      <td>2.0</td>\n",
              "      <td>5.0</td>\n",
              "      <td>7.0</td>\n",
              "      <td>5.0</td>\n",
              "      <td>11.0</td>\n",
              "      <td>23.0</td>\n",
              "      <td>22.0</td>\n",
              "      <td>17.0</td>\n",
              "      <td>16.0</td>\n",
              "      <td>22.0</td>\n",
              "      <td>21.0</td>\n",
              "      <td>23.0</td>\n",
              "      <td>38.0</td>\n",
              "      <td>36.0</td>\n",
              "      <td>40.0</td>\n",
              "      <td>32.0</td>\n",
              "      <td>31.0</td>\n",
              "      <td>33.0</td>\n",
              "      <td>32.0</td>\n",
              "      <td>22.0</td>\n",
              "      <td>18.0</td>\n",
              "      <td>20.0</td>\n",
              "      <td>12.0</td>\n",
              "      <td>14.0</td>\n",
              "      <td>30.0</td>\n",
              "      <td>20.0</td>\n",
              "      <td>18.0</td>\n",
              "      <td>NaN</td>\n",
              "      <td>1.0</td>\n",
              "      <td>1.0</td>\n",
              "    </tr>\n",
              "    <tr>\n",
              "      <th>3</th>\n",
              "      <td>3.0</td>\n",
              "      <td>1.0</td>\n",
              "      <td>7.0</td>\n",
              "      <td>1.0</td>\n",
              "      <td>9.0</td>\n",
              "      <td>10.0</td>\n",
              "      <td>11.0</td>\n",
              "      <td>13.0</td>\n",
              "      <td>31.0</td>\n",
              "      <td>31.0</td>\n",
              "      <td>42.0</td>\n",
              "      <td>37.0</td>\n",
              "      <td>41.0</td>\n",
              "      <td>34.0</td>\n",
              "      <td>29.0</td>\n",
              "      <td>47.0</td>\n",
              "      <td>37.0</td>\n",
              "      <td>63.0</td>\n",
              "      <td>73.0</td>\n",
              "      <td>49.0</td>\n",
              "      <td>40.0</td>\n",
              "      <td>46.0</td>\n",
              "      <td>47.0</td>\n",
              "      <td>37.0</td>\n",
              "      <td>34.0</td>\n",
              "      <td>22.0</td>\n",
              "      <td>33.0</td>\n",
              "      <td>44.0</td>\n",
              "      <td>47.0</td>\n",
              "      <td>41.0</td>\n",
              "      <td>38.0</td>\n",
              "      <td>24.0</td>\n",
              "      <td>3.0</td>\n",
              "      <td>2.0</td>\n",
              "      <td>NaN</td>\n",
              "    </tr>\n",
              "    <tr>\n",
              "      <th>4</th>\n",
              "      <td>12.0</td>\n",
              "      <td>10.0</td>\n",
              "      <td>20.0</td>\n",
              "      <td>14.0</td>\n",
              "      <td>39.0</td>\n",
              "      <td>24.0</td>\n",
              "      <td>36.0</td>\n",
              "      <td>42.0</td>\n",
              "      <td>47.0</td>\n",
              "      <td>52.0</td>\n",
              "      <td>59.0</td>\n",
              "      <td>57.0</td>\n",
              "      <td>63.0</td>\n",
              "      <td>69.0</td>\n",
              "      <td>65.0</td>\n",
              "      <td>69.0</td>\n",
              "      <td>66.0</td>\n",
              "      <td>98.0</td>\n",
              "      <td>108.0</td>\n",
              "      <td>104.0</td>\n",
              "      <td>91.0</td>\n",
              "      <td>96.0</td>\n",
              "      <td>72.0</td>\n",
              "      <td>71.0</td>\n",
              "      <td>76.0</td>\n",
              "      <td>52.0</td>\n",
              "      <td>67.0</td>\n",
              "      <td>62.0</td>\n",
              "      <td>51.0</td>\n",
              "      <td>47.0</td>\n",
              "      <td>59.0</td>\n",
              "      <td>44.0</td>\n",
              "      <td>4.0</td>\n",
              "      <td>3.0</td>\n",
              "      <td>NaN</td>\n",
              "    </tr>\n",
              "    <tr>\n",
              "      <th>5</th>\n",
              "      <td>2.0</td>\n",
              "      <td>2.0</td>\n",
              "      <td>5.0</td>\n",
              "      <td>5.0</td>\n",
              "      <td>6.0</td>\n",
              "      <td>11.0</td>\n",
              "      <td>27.0</td>\n",
              "      <td>46.0</td>\n",
              "      <td>50.0</td>\n",
              "      <td>51.0</td>\n",
              "      <td>53.0</td>\n",
              "      <td>62.0</td>\n",
              "      <td>48.0</td>\n",
              "      <td>64.0</td>\n",
              "      <td>61.0</td>\n",
              "      <td>43.0</td>\n",
              "      <td>44.0</td>\n",
              "      <td>147.0</td>\n",
              "      <td>126.0</td>\n",
              "      <td>99.0</td>\n",
              "      <td>112.0</td>\n",
              "      <td>119.0</td>\n",
              "      <td>138.0</td>\n",
              "      <td>147.0</td>\n",
              "      <td>148.0</td>\n",
              "      <td>166.0</td>\n",
              "      <td>133.0</td>\n",
              "      <td>122.0</td>\n",
              "      <td>178.0</td>\n",
              "      <td>101.0</td>\n",
              "      <td>93.0</td>\n",
              "      <td>72.0</td>\n",
              "      <td>3.0</td>\n",
              "      <td>2.0</td>\n",
              "      <td>NaN</td>\n",
              "    </tr>\n",
              "    <tr>\n",
              "      <th>6</th>\n",
              "      <td>8.0</td>\n",
              "      <td>4.0</td>\n",
              "      <td>14.0</td>\n",
              "      <td>11.0</td>\n",
              "      <td>11.0</td>\n",
              "      <td>36.0</td>\n",
              "      <td>47.0</td>\n",
              "      <td>54.0</td>\n",
              "      <td>53.0</td>\n",
              "      <td>58.0</td>\n",
              "      <td>81.0</td>\n",
              "      <td>62.0</td>\n",
              "      <td>85.0</td>\n",
              "      <td>84.0</td>\n",
              "      <td>77.0</td>\n",
              "      <td>88.0</td>\n",
              "      <td>82.0</td>\n",
              "      <td>118.0</td>\n",
              "      <td>139.0</td>\n",
              "      <td>124.0</td>\n",
              "      <td>150.0</td>\n",
              "      <td>112.0</td>\n",
              "      <td>110.0</td>\n",
              "      <td>119.0</td>\n",
              "      <td>139.0</td>\n",
              "      <td>183.0</td>\n",
              "      <td>146.0</td>\n",
              "      <td>111.0</td>\n",
              "      <td>117.0</td>\n",
              "      <td>101.0</td>\n",
              "      <td>94.0</td>\n",
              "      <td>71.0</td>\n",
              "      <td>12.0</td>\n",
              "      <td>6.0</td>\n",
              "      <td>NaN</td>\n",
              "    </tr>\n",
              "    <tr>\n",
              "      <th>7</th>\n",
              "      <td>2.0</td>\n",
              "      <td>2.0</td>\n",
              "      <td>6.0</td>\n",
              "      <td>5.0</td>\n",
              "      <td>5.0</td>\n",
              "      <td>4.0</td>\n",
              "      <td>26.0</td>\n",
              "      <td>20.0</td>\n",
              "      <td>11.0</td>\n",
              "      <td>24.0</td>\n",
              "      <td>27.0</td>\n",
              "      <td>32.0</td>\n",
              "      <td>37.0</td>\n",
              "      <td>38.0</td>\n",
              "      <td>31.0</td>\n",
              "      <td>26.0</td>\n",
              "      <td>41.0</td>\n",
              "      <td>58.0</td>\n",
              "      <td>67.0</td>\n",
              "      <td>73.0</td>\n",
              "      <td>53.0</td>\n",
              "      <td>57.0</td>\n",
              "      <td>58.0</td>\n",
              "      <td>87.0</td>\n",
              "      <td>89.0</td>\n",
              "      <td>78.0</td>\n",
              "      <td>83.0</td>\n",
              "      <td>88.0</td>\n",
              "      <td>62.0</td>\n",
              "      <td>66.0</td>\n",
              "      <td>47.0</td>\n",
              "      <td>26.0</td>\n",
              "      <td>1.0</td>\n",
              "      <td>NaN</td>\n",
              "      <td>NaN</td>\n",
              "    </tr>\n",
              "    <tr>\n",
              "      <th>8</th>\n",
              "      <td>NaN</td>\n",
              "      <td>NaN</td>\n",
              "      <td>NaN</td>\n",
              "      <td>NaN</td>\n",
              "      <td>NaN</td>\n",
              "      <td>NaN</td>\n",
              "      <td>NaN</td>\n",
              "      <td>NaN</td>\n",
              "      <td>NaN</td>\n",
              "      <td>NaN</td>\n",
              "      <td>NaN</td>\n",
              "      <td>NaN</td>\n",
              "      <td>1.0</td>\n",
              "      <td>2.0</td>\n",
              "      <td>2.0</td>\n",
              "      <td>4.0</td>\n",
              "      <td>3.0</td>\n",
              "      <td>2.0</td>\n",
              "      <td>1.0</td>\n",
              "      <td>11.0</td>\n",
              "      <td>8.0</td>\n",
              "      <td>1.0</td>\n",
              "      <td>2.0</td>\n",
              "      <td>12.0</td>\n",
              "      <td>4.0</td>\n",
              "      <td>1.0</td>\n",
              "      <td>2.0</td>\n",
              "      <td>6.0</td>\n",
              "      <td>4.0</td>\n",
              "      <td>2.0</td>\n",
              "      <td>4.0</td>\n",
              "      <td>5.0</td>\n",
              "      <td>NaN</td>\n",
              "      <td>NaN</td>\n",
              "      <td>NaN</td>\n",
              "    </tr>\n",
              "    <tr>\n",
              "      <th>9</th>\n",
              "      <td>9.0</td>\n",
              "      <td>9.0</td>\n",
              "      <td>8.0</td>\n",
              "      <td>4.0</td>\n",
              "      <td>12.0</td>\n",
              "      <td>15.0</td>\n",
              "      <td>38.0</td>\n",
              "      <td>45.0</td>\n",
              "      <td>34.0</td>\n",
              "      <td>80.0</td>\n",
              "      <td>90.0</td>\n",
              "      <td>86.0</td>\n",
              "      <td>106.0</td>\n",
              "      <td>112.0</td>\n",
              "      <td>117.0</td>\n",
              "      <td>125.0</td>\n",
              "      <td>118.0</td>\n",
              "      <td>233.0</td>\n",
              "      <td>252.0</td>\n",
              "      <td>248.0</td>\n",
              "      <td>232.0</td>\n",
              "      <td>213.0</td>\n",
              "      <td>227.0</td>\n",
              "      <td>304.0</td>\n",
              "      <td>212.0</td>\n",
              "      <td>202.0</td>\n",
              "      <td>220.0</td>\n",
              "      <td>165.0</td>\n",
              "      <td>141.0</td>\n",
              "      <td>193.0</td>\n",
              "      <td>134.0</td>\n",
              "      <td>125.0</td>\n",
              "      <td>26.0</td>\n",
              "      <td>7.0</td>\n",
              "      <td>NaN</td>\n",
              "    </tr>\n",
              "    <tr>\n",
              "      <th>10</th>\n",
              "      <td>NaN</td>\n",
              "      <td>NaN</td>\n",
              "      <td>1.0</td>\n",
              "      <td>1.0</td>\n",
              "      <td>1.0</td>\n",
              "      <td>4.0</td>\n",
              "      <td>2.0</td>\n",
              "      <td>7.0</td>\n",
              "      <td>11.0</td>\n",
              "      <td>10.0</td>\n",
              "      <td>18.0</td>\n",
              "      <td>19.0</td>\n",
              "      <td>21.0</td>\n",
              "      <td>19.0</td>\n",
              "      <td>19.0</td>\n",
              "      <td>15.0</td>\n",
              "      <td>18.0</td>\n",
              "      <td>52.0</td>\n",
              "      <td>57.0</td>\n",
              "      <td>53.0</td>\n",
              "      <td>65.0</td>\n",
              "      <td>39.0</td>\n",
              "      <td>32.0</td>\n",
              "      <td>39.0</td>\n",
              "      <td>39.0</td>\n",
              "      <td>67.0</td>\n",
              "      <td>80.0</td>\n",
              "      <td>93.0</td>\n",
              "      <td>70.0</td>\n",
              "      <td>49.0</td>\n",
              "      <td>50.0</td>\n",
              "      <td>23.0</td>\n",
              "      <td>4.0</td>\n",
              "      <td>2.0</td>\n",
              "      <td>NaN</td>\n",
              "    </tr>\n",
              "    <tr>\n",
              "      <th>11</th>\n",
              "      <td>NaN</td>\n",
              "      <td>NaN</td>\n",
              "      <td>NaN</td>\n",
              "      <td>NaN</td>\n",
              "      <td>NaN</td>\n",
              "      <td>NaN</td>\n",
              "      <td>1.0</td>\n",
              "      <td>NaN</td>\n",
              "      <td>1.0</td>\n",
              "      <td>3.0</td>\n",
              "      <td>6.0</td>\n",
              "      <td>2.0</td>\n",
              "      <td>4.0</td>\n",
              "      <td>3.0</td>\n",
              "      <td>5.0</td>\n",
              "      <td>4.0</td>\n",
              "      <td>6.0</td>\n",
              "      <td>7.0</td>\n",
              "      <td>9.0</td>\n",
              "      <td>5.0</td>\n",
              "      <td>9.0</td>\n",
              "      <td>24.0</td>\n",
              "      <td>6.0</td>\n",
              "      <td>2.0</td>\n",
              "      <td>3.0</td>\n",
              "      <td>14.0</td>\n",
              "      <td>22.0</td>\n",
              "      <td>17.0</td>\n",
              "      <td>8.0</td>\n",
              "      <td>7.0</td>\n",
              "      <td>4.0</td>\n",
              "      <td>4.0</td>\n",
              "      <td>2.0</td>\n",
              "      <td>NaN</td>\n",
              "      <td>NaN</td>\n",
              "    </tr>\n",
              "  </tbody>\n",
              "</table>\n",
              "</div>"
            ],
            "text/plain": [
              "FISCAL_YEAR             1981  1982  1983  1984  ...   2012  2013  2014  2015\n",
              "CONGRESSIONAL_DIST_NUM                          ...                         \n",
              "1                        1.0   3.0   4.0   1.0  ...   50.0  11.0   1.0   NaN\n",
              "2                        1.0   2.0   2.0   4.0  ...   18.0   NaN   1.0   1.0\n",
              "3                        3.0   1.0   7.0   1.0  ...   24.0   3.0   2.0   NaN\n",
              "4                       12.0  10.0  20.0  14.0  ...   44.0   4.0   3.0   NaN\n",
              "5                        2.0   2.0   5.0   5.0  ...   72.0   3.0   2.0   NaN\n",
              "6                        8.0   4.0  14.0  11.0  ...   71.0  12.0   6.0   NaN\n",
              "7                        2.0   2.0   6.0   5.0  ...   26.0   1.0   NaN   NaN\n",
              "8                        NaN   NaN   NaN   NaN  ...    5.0   NaN   NaN   NaN\n",
              "9                        9.0   9.0   8.0   4.0  ...  125.0  26.0   7.0   NaN\n",
              "10                       NaN   NaN   1.0   1.0  ...   23.0   4.0   2.0   NaN\n",
              "11                       NaN   NaN   NaN   NaN  ...    4.0   2.0   NaN   NaN\n",
              "\n",
              "[11 rows x 35 columns]"
            ]
          },
          "metadata": {},
          "execution_count": 150
        }
      ]
    },
    {
      "cell_type": "code",
      "metadata": {
        "colab": {
          "base_uri": "https://localhost:8080/",
          "height": 745
        },
        "id": "Y4cyFZRSpJTL",
        "outputId": "6fa3bac4-8436-46b1-b7a5-17379a735d37"
      },
      "source": [
        "df_fy_con_pivot.info()"
      ],
      "execution_count": 151,
      "outputs": [
        {
          "output_type": "display_data",
          "data": {
            "text/html": [
              "\n",
              "  <style>\n",
              "    pre {\n",
              "        white-space: pre-wrap;\n",
              "    }\n",
              "  </style>\n",
              "  "
            ],
            "text/plain": [
              "<IPython.core.display.HTML object>"
            ]
          },
          "metadata": {}
        },
        {
          "output_type": "display_data",
          "data": {
            "text/html": [
              "\n",
              "  <style>\n",
              "    pre {\n",
              "        white-space: pre-wrap;\n",
              "    }\n",
              "  </style>\n",
              "  "
            ],
            "text/plain": [
              "<IPython.core.display.HTML object>"
            ]
          },
          "metadata": {}
        },
        {
          "output_type": "stream",
          "text": [
            "<class 'pandas.core.frame.DataFrame'>\n",
            "Int64Index: 11 entries, 1 to 11\n",
            "Data columns (total 35 columns):\n",
            " #   Column  Non-Null Count  Dtype  \n",
            "---  ------  --------------  -----  \n",
            " 0   1981    8 non-null      float64\n",
            " 1   1982    8 non-null      float64\n",
            " 2   1983    9 non-null      float64\n",
            " 3   1984    9 non-null      float64\n",
            " 4   1985    9 non-null      float64\n",
            " 5   1986    9 non-null      float64\n",
            " 6   1987    10 non-null     float64\n",
            " 7   1988    9 non-null      float64\n",
            " 8   1989    10 non-null     float64\n",
            " 9   1990    10 non-null     float64\n",
            " 10  1991    10 non-null     float64\n",
            " 11  1992    10 non-null     float64\n",
            " 12  1993    11 non-null     float64\n",
            " 13  1994    11 non-null     float64\n",
            " 14  1995    11 non-null     float64\n",
            " 15  1996    11 non-null     float64\n",
            " 16  1997    11 non-null     float64\n",
            " 17  1998    11 non-null     float64\n",
            " 18  1999    11 non-null     float64\n",
            " 19  2000    11 non-null     float64\n",
            " 20  2001    11 non-null     float64\n",
            " 21  2002    11 non-null     float64\n",
            " 22  2003    11 non-null     float64\n",
            " 23  2004    11 non-null     float64\n",
            " 24  2005    11 non-null     float64\n",
            " 25  2006    11 non-null     float64\n",
            " 26  2007    11 non-null     float64\n",
            " 27  2008    11 non-null     float64\n",
            " 28  2009    11 non-null     float64\n",
            " 29  2010    11 non-null     float64\n",
            " 30  2011    11 non-null     float64\n",
            " 31  2012    11 non-null     float64\n",
            " 32  2013    9 non-null      float64\n",
            " 33  2014    8 non-null      float64\n",
            " 34  2015    1 non-null      float64\n",
            "dtypes: float64(35)\n",
            "memory usage: 3.1 KB\n"
          ],
          "name": "stdout"
        }
      ]
    },
    {
      "cell_type": "markdown",
      "metadata": {
        "id": "PC7tBkNVkDny"
      },
      "source": [
        "The pivots helped with viewing but I could not use the column names the way I needed to in this form. I copied those pivots into excel files and loaded them as separate csvs to analyze them more easily."
      ]
    },
    {
      "cell_type": "markdown",
      "metadata": {
        "id": "JCjT0v_anmIp"
      },
      "source": [
        "# df3: df_con_fy_pivot"
      ]
    },
    {
      "cell_type": "code",
      "metadata": {
        "colab": {
          "base_uri": "https://localhost:8080/",
          "height": 226
        },
        "id": "_rZP_D-WTpLk",
        "outputId": "f296a2be-d65a-4e61-b55c-4481782e1296"
      },
      "source": [
        "csv3 = '/content/gdrive/My Drive/Colab Datasets - Thinkful Capstone 3/CONGRESSIONAL_DIST_FY_pivot.csv'\n",
        "df3 = pd.read_csv(csv3) \n",
        "df3.head(5)"
      ],
      "execution_count": 152,
      "outputs": [
        {
          "output_type": "display_data",
          "data": {
            "text/html": [
              "\n",
              "  <style>\n",
              "    pre {\n",
              "        white-space: pre-wrap;\n",
              "    }\n",
              "  </style>\n",
              "  "
            ],
            "text/plain": [
              "<IPython.core.display.HTML object>"
            ]
          },
          "metadata": {}
        },
        {
          "output_type": "display_data",
          "data": {
            "text/html": [
              "\n",
              "  <style>\n",
              "    pre {\n",
              "        white-space: pre-wrap;\n",
              "    }\n",
              "  </style>\n",
              "  "
            ],
            "text/plain": [
              "<IPython.core.display.HTML object>"
            ]
          },
          "metadata": {}
        },
        {
          "output_type": "execute_result",
          "data": {
            "text/html": [
              "<div>\n",
              "<style scoped>\n",
              "    .dataframe tbody tr th:only-of-type {\n",
              "        vertical-align: middle;\n",
              "    }\n",
              "\n",
              "    .dataframe tbody tr th {\n",
              "        vertical-align: top;\n",
              "    }\n",
              "\n",
              "    .dataframe thead th {\n",
              "        text-align: right;\n",
              "    }\n",
              "</style>\n",
              "<table border=\"1\" class=\"dataframe\">\n",
              "  <thead>\n",
              "    <tr style=\"text-align: right;\">\n",
              "      <th></th>\n",
              "      <th>FISCAL_YEAR</th>\n",
              "      <th>CON_DIST_1</th>\n",
              "      <th>CON_DIST_2</th>\n",
              "      <th>CON_DIST_3</th>\n",
              "      <th>CON_DIST_4</th>\n",
              "      <th>CON_DIST_5</th>\n",
              "      <th>CON_DIST_6</th>\n",
              "      <th>CON_DIST_7</th>\n",
              "      <th>CON_DIST_8</th>\n",
              "      <th>CON_DIST_9</th>\n",
              "      <th>CON_DIST_10</th>\n",
              "      <th>CON_DIST_11</th>\n",
              "    </tr>\n",
              "  </thead>\n",
              "  <tbody>\n",
              "    <tr>\n",
              "      <th>0</th>\n",
              "      <td>1981</td>\n",
              "      <td>1.0</td>\n",
              "      <td>1.0</td>\n",
              "      <td>3.0</td>\n",
              "      <td>12.0</td>\n",
              "      <td>2.0</td>\n",
              "      <td>8.0</td>\n",
              "      <td>2.0</td>\n",
              "      <td>NaN</td>\n",
              "      <td>9.0</td>\n",
              "      <td>NaN</td>\n",
              "      <td>NaN</td>\n",
              "    </tr>\n",
              "    <tr>\n",
              "      <th>1</th>\n",
              "      <td>1982</td>\n",
              "      <td>3.0</td>\n",
              "      <td>2.0</td>\n",
              "      <td>1.0</td>\n",
              "      <td>10.0</td>\n",
              "      <td>2.0</td>\n",
              "      <td>4.0</td>\n",
              "      <td>2.0</td>\n",
              "      <td>NaN</td>\n",
              "      <td>9.0</td>\n",
              "      <td>NaN</td>\n",
              "      <td>NaN</td>\n",
              "    </tr>\n",
              "    <tr>\n",
              "      <th>2</th>\n",
              "      <td>1983</td>\n",
              "      <td>4.0</td>\n",
              "      <td>2.0</td>\n",
              "      <td>7.0</td>\n",
              "      <td>20.0</td>\n",
              "      <td>5.0</td>\n",
              "      <td>14.0</td>\n",
              "      <td>6.0</td>\n",
              "      <td>NaN</td>\n",
              "      <td>8.0</td>\n",
              "      <td>1.0</td>\n",
              "      <td>NaN</td>\n",
              "    </tr>\n",
              "    <tr>\n",
              "      <th>3</th>\n",
              "      <td>1984</td>\n",
              "      <td>1.0</td>\n",
              "      <td>4.0</td>\n",
              "      <td>1.0</td>\n",
              "      <td>14.0</td>\n",
              "      <td>5.0</td>\n",
              "      <td>11.0</td>\n",
              "      <td>5.0</td>\n",
              "      <td>NaN</td>\n",
              "      <td>4.0</td>\n",
              "      <td>1.0</td>\n",
              "      <td>NaN</td>\n",
              "    </tr>\n",
              "    <tr>\n",
              "      <th>4</th>\n",
              "      <td>1985</td>\n",
              "      <td>1.0</td>\n",
              "      <td>4.0</td>\n",
              "      <td>9.0</td>\n",
              "      <td>39.0</td>\n",
              "      <td>6.0</td>\n",
              "      <td>11.0</td>\n",
              "      <td>5.0</td>\n",
              "      <td>NaN</td>\n",
              "      <td>12.0</td>\n",
              "      <td>1.0</td>\n",
              "      <td>NaN</td>\n",
              "    </tr>\n",
              "  </tbody>\n",
              "</table>\n",
              "</div>"
            ],
            "text/plain": [
              "   FISCAL_YEAR  CON_DIST_1  CON_DIST_2  ...  CON_DIST_9  CON_DIST_10  CON_DIST_11\n",
              "0         1981         1.0         1.0  ...         9.0          NaN          NaN\n",
              "1         1982         3.0         2.0  ...         9.0          NaN          NaN\n",
              "2         1983         4.0         2.0  ...         8.0          1.0          NaN\n",
              "3         1984         1.0         4.0  ...         4.0          1.0          NaN\n",
              "4         1985         1.0         4.0  ...        12.0          1.0          NaN\n",
              "\n",
              "[5 rows x 12 columns]"
            ]
          },
          "metadata": {},
          "execution_count": 152
        }
      ]
    },
    {
      "cell_type": "code",
      "metadata": {
        "colab": {
          "base_uri": "https://localhost:8080/",
          "height": 347
        },
        "id": "o-gIAYxu17iu",
        "outputId": "fc5fb88a-3832-4782-c6db-459d14c5b8ce"
      },
      "source": [
        "df3.info()"
      ],
      "execution_count": 153,
      "outputs": [
        {
          "output_type": "display_data",
          "data": {
            "text/html": [
              "\n",
              "  <style>\n",
              "    pre {\n",
              "        white-space: pre-wrap;\n",
              "    }\n",
              "  </style>\n",
              "  "
            ],
            "text/plain": [
              "<IPython.core.display.HTML object>"
            ]
          },
          "metadata": {}
        },
        {
          "output_type": "display_data",
          "data": {
            "text/html": [
              "\n",
              "  <style>\n",
              "    pre {\n",
              "        white-space: pre-wrap;\n",
              "    }\n",
              "  </style>\n",
              "  "
            ],
            "text/plain": [
              "<IPython.core.display.HTML object>"
            ]
          },
          "metadata": {}
        },
        {
          "output_type": "stream",
          "text": [
            "<class 'pandas.core.frame.DataFrame'>\n",
            "RangeIndex: 35 entries, 0 to 34\n",
            "Data columns (total 12 columns):\n",
            " #   Column       Non-Null Count  Dtype  \n",
            "---  ------       --------------  -----  \n",
            " 0   FISCAL_YEAR  35 non-null     int64  \n",
            " 1   CON_DIST_1   34 non-null     float64\n",
            " 2   CON_DIST_2   34 non-null     float64\n",
            " 3   CON_DIST_3   34 non-null     float64\n",
            " 4   CON_DIST_4   34 non-null     float64\n",
            " 5   CON_DIST_5   34 non-null     float64\n",
            " 6   CON_DIST_6   34 non-null     float64\n",
            " 7   CON_DIST_7   33 non-null     float64\n",
            " 8   CON_DIST_8   20 non-null     float64\n",
            " 9   CON_DIST_9   34 non-null     float64\n",
            " 10  CON_DIST_10  32 non-null     float64\n",
            " 11  CON_DIST_11  26 non-null     float64\n",
            "dtypes: float64(11), int64(1)\n",
            "memory usage: 3.4 KB\n"
          ],
          "name": "stdout"
        }
      ]
    },
    {
      "cell_type": "code",
      "metadata": {
        "colab": {
          "base_uri": "https://localhost:8080/",
          "height": 17
        },
        "id": "OpPBwe_E2Ed0",
        "outputId": "da79656d-d7d4-43ae-8054-babb4b23bc9d"
      },
      "source": [
        "# Change float counts to integers\n",
        "\n",
        "df3.CON_DIST_1 = df3.CON_DIST_1.astype('Int64')\n",
        "df3.CON_DIST_2 = df3.CON_DIST_2.astype('Int64')\n",
        "df3.CON_DIST_3 = df3.CON_DIST_3.astype('Int64')\n",
        "df3.CON_DIST_4 = df3.CON_DIST_4.astype('Int64')\n",
        "df3.CON_DIST_5 = df3.CON_DIST_5.astype('Int64')\n",
        "df3.CON_DIST_6 = df3.CON_DIST_6.astype('Int64')\n",
        "df3.CON_DIST_7 = df3.CON_DIST_7.astype('Int64')\n",
        "df3.CON_DIST_8 = df3.CON_DIST_8.astype('Int64')\n",
        "df3.CON_DIST_9 = df3.CON_DIST_9.astype('Int64')\n",
        "df3.CON_DIST_10 = df3.CON_DIST_10.astype('Int64')\n",
        "df3.CON_DIST_11 = df3.CON_DIST_11.astype('Int64')"
      ],
      "execution_count": 154,
      "outputs": [
        {
          "output_type": "display_data",
          "data": {
            "text/html": [
              "\n",
              "  <style>\n",
              "    pre {\n",
              "        white-space: pre-wrap;\n",
              "    }\n",
              "  </style>\n",
              "  "
            ],
            "text/plain": [
              "<IPython.core.display.HTML object>"
            ]
          },
          "metadata": {}
        },
        {
          "output_type": "display_data",
          "data": {
            "text/html": [
              "\n",
              "  <style>\n",
              "    pre {\n",
              "        white-space: pre-wrap;\n",
              "    }\n",
              "  </style>\n",
              "  "
            ],
            "text/plain": [
              "<IPython.core.display.HTML object>"
            ]
          },
          "metadata": {}
        }
      ]
    },
    {
      "cell_type": "code",
      "metadata": {
        "colab": {
          "base_uri": "https://localhost:8080/",
          "height": 555
        },
        "id": "A30GAcfB2OxY",
        "outputId": "848bb882-fcee-490e-f692-6e95806c13f7"
      },
      "source": [
        "df3.info()\n",
        "df3.head()"
      ],
      "execution_count": 155,
      "outputs": [
        {
          "output_type": "display_data",
          "data": {
            "text/html": [
              "\n",
              "  <style>\n",
              "    pre {\n",
              "        white-space: pre-wrap;\n",
              "    }\n",
              "  </style>\n",
              "  "
            ],
            "text/plain": [
              "<IPython.core.display.HTML object>"
            ]
          },
          "metadata": {}
        },
        {
          "output_type": "display_data",
          "data": {
            "text/html": [
              "\n",
              "  <style>\n",
              "    pre {\n",
              "        white-space: pre-wrap;\n",
              "    }\n",
              "  </style>\n",
              "  "
            ],
            "text/plain": [
              "<IPython.core.display.HTML object>"
            ]
          },
          "metadata": {}
        },
        {
          "output_type": "stream",
          "text": [
            "<class 'pandas.core.frame.DataFrame'>\n",
            "RangeIndex: 35 entries, 0 to 34\n",
            "Data columns (total 12 columns):\n",
            " #   Column       Non-Null Count  Dtype\n",
            "---  ------       --------------  -----\n",
            " 0   FISCAL_YEAR  35 non-null     int64\n",
            " 1   CON_DIST_1   34 non-null     Int64\n",
            " 2   CON_DIST_2   34 non-null     Int64\n",
            " 3   CON_DIST_3   34 non-null     Int64\n",
            " 4   CON_DIST_4   34 non-null     Int64\n",
            " 5   CON_DIST_5   34 non-null     Int64\n",
            " 6   CON_DIST_6   34 non-null     Int64\n",
            " 7   CON_DIST_7   33 non-null     Int64\n",
            " 8   CON_DIST_8   20 non-null     Int64\n",
            " 9   CON_DIST_9   34 non-null     Int64\n",
            " 10  CON_DIST_10  32 non-null     Int64\n",
            " 11  CON_DIST_11  26 non-null     Int64\n",
            "dtypes: Int64(11), int64(1)\n",
            "memory usage: 3.8 KB\n"
          ],
          "name": "stdout"
        },
        {
          "output_type": "execute_result",
          "data": {
            "text/html": [
              "<div>\n",
              "<style scoped>\n",
              "    .dataframe tbody tr th:only-of-type {\n",
              "        vertical-align: middle;\n",
              "    }\n",
              "\n",
              "    .dataframe tbody tr th {\n",
              "        vertical-align: top;\n",
              "    }\n",
              "\n",
              "    .dataframe thead th {\n",
              "        text-align: right;\n",
              "    }\n",
              "</style>\n",
              "<table border=\"1\" class=\"dataframe\">\n",
              "  <thead>\n",
              "    <tr style=\"text-align: right;\">\n",
              "      <th></th>\n",
              "      <th>FISCAL_YEAR</th>\n",
              "      <th>CON_DIST_1</th>\n",
              "      <th>CON_DIST_2</th>\n",
              "      <th>CON_DIST_3</th>\n",
              "      <th>CON_DIST_4</th>\n",
              "      <th>CON_DIST_5</th>\n",
              "      <th>CON_DIST_6</th>\n",
              "      <th>CON_DIST_7</th>\n",
              "      <th>CON_DIST_8</th>\n",
              "      <th>CON_DIST_9</th>\n",
              "      <th>CON_DIST_10</th>\n",
              "      <th>CON_DIST_11</th>\n",
              "    </tr>\n",
              "  </thead>\n",
              "  <tbody>\n",
              "    <tr>\n",
              "      <th>0</th>\n",
              "      <td>1981</td>\n",
              "      <td>1</td>\n",
              "      <td>1</td>\n",
              "      <td>3</td>\n",
              "      <td>12</td>\n",
              "      <td>2</td>\n",
              "      <td>8</td>\n",
              "      <td>2</td>\n",
              "      <td>&lt;NA&gt;</td>\n",
              "      <td>9</td>\n",
              "      <td>&lt;NA&gt;</td>\n",
              "      <td>&lt;NA&gt;</td>\n",
              "    </tr>\n",
              "    <tr>\n",
              "      <th>1</th>\n",
              "      <td>1982</td>\n",
              "      <td>3</td>\n",
              "      <td>2</td>\n",
              "      <td>1</td>\n",
              "      <td>10</td>\n",
              "      <td>2</td>\n",
              "      <td>4</td>\n",
              "      <td>2</td>\n",
              "      <td>&lt;NA&gt;</td>\n",
              "      <td>9</td>\n",
              "      <td>&lt;NA&gt;</td>\n",
              "      <td>&lt;NA&gt;</td>\n",
              "    </tr>\n",
              "    <tr>\n",
              "      <th>2</th>\n",
              "      <td>1983</td>\n",
              "      <td>4</td>\n",
              "      <td>2</td>\n",
              "      <td>7</td>\n",
              "      <td>20</td>\n",
              "      <td>5</td>\n",
              "      <td>14</td>\n",
              "      <td>6</td>\n",
              "      <td>&lt;NA&gt;</td>\n",
              "      <td>8</td>\n",
              "      <td>1</td>\n",
              "      <td>&lt;NA&gt;</td>\n",
              "    </tr>\n",
              "    <tr>\n",
              "      <th>3</th>\n",
              "      <td>1984</td>\n",
              "      <td>1</td>\n",
              "      <td>4</td>\n",
              "      <td>1</td>\n",
              "      <td>14</td>\n",
              "      <td>5</td>\n",
              "      <td>11</td>\n",
              "      <td>5</td>\n",
              "      <td>&lt;NA&gt;</td>\n",
              "      <td>4</td>\n",
              "      <td>1</td>\n",
              "      <td>&lt;NA&gt;</td>\n",
              "    </tr>\n",
              "    <tr>\n",
              "      <th>4</th>\n",
              "      <td>1985</td>\n",
              "      <td>1</td>\n",
              "      <td>4</td>\n",
              "      <td>9</td>\n",
              "      <td>39</td>\n",
              "      <td>6</td>\n",
              "      <td>11</td>\n",
              "      <td>5</td>\n",
              "      <td>&lt;NA&gt;</td>\n",
              "      <td>12</td>\n",
              "      <td>1</td>\n",
              "      <td>&lt;NA&gt;</td>\n",
              "    </tr>\n",
              "  </tbody>\n",
              "</table>\n",
              "</div>"
            ],
            "text/plain": [
              "   FISCAL_YEAR  CON_DIST_1  CON_DIST_2  ...  CON_DIST_9  CON_DIST_10  CON_DIST_11\n",
              "0         1981           1           1  ...           9         <NA>         <NA>\n",
              "1         1982           3           2  ...           9         <NA>         <NA>\n",
              "2         1983           4           2  ...           8            1         <NA>\n",
              "3         1984           1           4  ...           4            1         <NA>\n",
              "4         1985           1           4  ...          12            1         <NA>\n",
              "\n",
              "[5 rows x 12 columns]"
            ]
          },
          "metadata": {},
          "execution_count": 155
        }
      ]
    },
    {
      "cell_type": "markdown",
      "metadata": {
        "id": "3CDPlGg4q-BT"
      },
      "source": [
        "# df4: df_fy_con_pivot"
      ]
    },
    {
      "cell_type": "code",
      "metadata": {
        "colab": {
          "base_uri": "https://localhost:8080/",
          "height": 226
        },
        "id": "qtJSFW_sq1Lx",
        "outputId": "8fa28204-e95d-4e6f-db3c-d75959be46e9"
      },
      "source": [
        "csv5 = '/content/gdrive/My Drive/Colab Datasets - Thinkful Capstone 3/FY_CONGRESSIONAL_DIST_pivot.csv'\n",
        "df4 = pd.read_csv(csv5) \n",
        "df4.head(5)"
      ],
      "execution_count": 156,
      "outputs": [
        {
          "output_type": "display_data",
          "data": {
            "text/html": [
              "\n",
              "  <style>\n",
              "    pre {\n",
              "        white-space: pre-wrap;\n",
              "    }\n",
              "  </style>\n",
              "  "
            ],
            "text/plain": [
              "<IPython.core.display.HTML object>"
            ]
          },
          "metadata": {}
        },
        {
          "output_type": "display_data",
          "data": {
            "text/html": [
              "\n",
              "  <style>\n",
              "    pre {\n",
              "        white-space: pre-wrap;\n",
              "    }\n",
              "  </style>\n",
              "  "
            ],
            "text/plain": [
              "<IPython.core.display.HTML object>"
            ]
          },
          "metadata": {}
        },
        {
          "output_type": "execute_result",
          "data": {
            "text/html": [
              "<div>\n",
              "<style scoped>\n",
              "    .dataframe tbody tr th:only-of-type {\n",
              "        vertical-align: middle;\n",
              "    }\n",
              "\n",
              "    .dataframe tbody tr th {\n",
              "        vertical-align: top;\n",
              "    }\n",
              "\n",
              "    .dataframe thead th {\n",
              "        text-align: right;\n",
              "    }\n",
              "</style>\n",
              "<table border=\"1\" class=\"dataframe\">\n",
              "  <thead>\n",
              "    <tr style=\"text-align: right;\">\n",
              "      <th></th>\n",
              "      <th>CONGRESSIONAL_DIST_NUM</th>\n",
              "      <th>1981</th>\n",
              "      <th>1982</th>\n",
              "      <th>1983</th>\n",
              "      <th>1984</th>\n",
              "      <th>1985</th>\n",
              "      <th>1986</th>\n",
              "      <th>1987</th>\n",
              "      <th>1988</th>\n",
              "      <th>1989</th>\n",
              "      <th>1990</th>\n",
              "      <th>1991</th>\n",
              "      <th>1992</th>\n",
              "      <th>1993</th>\n",
              "      <th>1994</th>\n",
              "      <th>1995</th>\n",
              "      <th>1996</th>\n",
              "      <th>1997</th>\n",
              "      <th>1998</th>\n",
              "      <th>1999</th>\n",
              "      <th>2000</th>\n",
              "      <th>2001</th>\n",
              "      <th>2002</th>\n",
              "      <th>2003</th>\n",
              "      <th>2004</th>\n",
              "      <th>2005</th>\n",
              "      <th>2006</th>\n",
              "      <th>2007</th>\n",
              "      <th>2008</th>\n",
              "      <th>2009</th>\n",
              "      <th>2010</th>\n",
              "      <th>2011</th>\n",
              "      <th>2012</th>\n",
              "      <th>2013</th>\n",
              "      <th>2014</th>\n",
              "      <th>2015</th>\n",
              "    </tr>\n",
              "  </thead>\n",
              "  <tbody>\n",
              "    <tr>\n",
              "      <th>0</th>\n",
              "      <td>CON_DIST_1</td>\n",
              "      <td>1.0</td>\n",
              "      <td>3.0</td>\n",
              "      <td>4.0</td>\n",
              "      <td>1.0</td>\n",
              "      <td>1.0</td>\n",
              "      <td>5.0</td>\n",
              "      <td>5.0</td>\n",
              "      <td>5.0</td>\n",
              "      <td>19.0</td>\n",
              "      <td>22.0</td>\n",
              "      <td>21.0</td>\n",
              "      <td>11.0</td>\n",
              "      <td>34</td>\n",
              "      <td>20</td>\n",
              "      <td>33</td>\n",
              "      <td>19</td>\n",
              "      <td>27</td>\n",
              "      <td>46</td>\n",
              "      <td>51</td>\n",
              "      <td>60</td>\n",
              "      <td>72</td>\n",
              "      <td>62</td>\n",
              "      <td>33</td>\n",
              "      <td>47</td>\n",
              "      <td>33</td>\n",
              "      <td>54</td>\n",
              "      <td>88</td>\n",
              "      <td>86</td>\n",
              "      <td>82</td>\n",
              "      <td>72</td>\n",
              "      <td>57</td>\n",
              "      <td>50</td>\n",
              "      <td>11.0</td>\n",
              "      <td>1.0</td>\n",
              "      <td>NaN</td>\n",
              "    </tr>\n",
              "    <tr>\n",
              "      <th>1</th>\n",
              "      <td>CON_DIST_2</td>\n",
              "      <td>1.0</td>\n",
              "      <td>2.0</td>\n",
              "      <td>2.0</td>\n",
              "      <td>4.0</td>\n",
              "      <td>4.0</td>\n",
              "      <td>2.0</td>\n",
              "      <td>5.0</td>\n",
              "      <td>7.0</td>\n",
              "      <td>5.0</td>\n",
              "      <td>11.0</td>\n",
              "      <td>23.0</td>\n",
              "      <td>22.0</td>\n",
              "      <td>17</td>\n",
              "      <td>16</td>\n",
              "      <td>22</td>\n",
              "      <td>21</td>\n",
              "      <td>23</td>\n",
              "      <td>38</td>\n",
              "      <td>36</td>\n",
              "      <td>40</td>\n",
              "      <td>32</td>\n",
              "      <td>31</td>\n",
              "      <td>33</td>\n",
              "      <td>32</td>\n",
              "      <td>22</td>\n",
              "      <td>18</td>\n",
              "      <td>20</td>\n",
              "      <td>12</td>\n",
              "      <td>14</td>\n",
              "      <td>30</td>\n",
              "      <td>20</td>\n",
              "      <td>18</td>\n",
              "      <td>NaN</td>\n",
              "      <td>1.0</td>\n",
              "      <td>1.0</td>\n",
              "    </tr>\n",
              "    <tr>\n",
              "      <th>2</th>\n",
              "      <td>CON_DIST_3</td>\n",
              "      <td>3.0</td>\n",
              "      <td>1.0</td>\n",
              "      <td>7.0</td>\n",
              "      <td>1.0</td>\n",
              "      <td>9.0</td>\n",
              "      <td>10.0</td>\n",
              "      <td>11.0</td>\n",
              "      <td>13.0</td>\n",
              "      <td>31.0</td>\n",
              "      <td>31.0</td>\n",
              "      <td>42.0</td>\n",
              "      <td>37.0</td>\n",
              "      <td>41</td>\n",
              "      <td>34</td>\n",
              "      <td>29</td>\n",
              "      <td>47</td>\n",
              "      <td>37</td>\n",
              "      <td>63</td>\n",
              "      <td>73</td>\n",
              "      <td>49</td>\n",
              "      <td>40</td>\n",
              "      <td>46</td>\n",
              "      <td>47</td>\n",
              "      <td>37</td>\n",
              "      <td>34</td>\n",
              "      <td>22</td>\n",
              "      <td>33</td>\n",
              "      <td>44</td>\n",
              "      <td>47</td>\n",
              "      <td>41</td>\n",
              "      <td>38</td>\n",
              "      <td>24</td>\n",
              "      <td>3.0</td>\n",
              "      <td>2.0</td>\n",
              "      <td>NaN</td>\n",
              "    </tr>\n",
              "    <tr>\n",
              "      <th>3</th>\n",
              "      <td>CON_DIST_4</td>\n",
              "      <td>12.0</td>\n",
              "      <td>10.0</td>\n",
              "      <td>20.0</td>\n",
              "      <td>14.0</td>\n",
              "      <td>39.0</td>\n",
              "      <td>24.0</td>\n",
              "      <td>36.0</td>\n",
              "      <td>42.0</td>\n",
              "      <td>47.0</td>\n",
              "      <td>52.0</td>\n",
              "      <td>59.0</td>\n",
              "      <td>57.0</td>\n",
              "      <td>63</td>\n",
              "      <td>69</td>\n",
              "      <td>65</td>\n",
              "      <td>69</td>\n",
              "      <td>66</td>\n",
              "      <td>98</td>\n",
              "      <td>108</td>\n",
              "      <td>104</td>\n",
              "      <td>91</td>\n",
              "      <td>96</td>\n",
              "      <td>72</td>\n",
              "      <td>71</td>\n",
              "      <td>76</td>\n",
              "      <td>52</td>\n",
              "      <td>67</td>\n",
              "      <td>62</td>\n",
              "      <td>51</td>\n",
              "      <td>47</td>\n",
              "      <td>59</td>\n",
              "      <td>44</td>\n",
              "      <td>4.0</td>\n",
              "      <td>3.0</td>\n",
              "      <td>NaN</td>\n",
              "    </tr>\n",
              "    <tr>\n",
              "      <th>4</th>\n",
              "      <td>CON_DIST_5</td>\n",
              "      <td>2.0</td>\n",
              "      <td>2.0</td>\n",
              "      <td>5.0</td>\n",
              "      <td>5.0</td>\n",
              "      <td>6.0</td>\n",
              "      <td>11.0</td>\n",
              "      <td>27.0</td>\n",
              "      <td>46.0</td>\n",
              "      <td>50.0</td>\n",
              "      <td>51.0</td>\n",
              "      <td>53.0</td>\n",
              "      <td>62.0</td>\n",
              "      <td>48</td>\n",
              "      <td>64</td>\n",
              "      <td>61</td>\n",
              "      <td>43</td>\n",
              "      <td>44</td>\n",
              "      <td>147</td>\n",
              "      <td>126</td>\n",
              "      <td>99</td>\n",
              "      <td>112</td>\n",
              "      <td>119</td>\n",
              "      <td>138</td>\n",
              "      <td>147</td>\n",
              "      <td>148</td>\n",
              "      <td>166</td>\n",
              "      <td>133</td>\n",
              "      <td>122</td>\n",
              "      <td>178</td>\n",
              "      <td>101</td>\n",
              "      <td>93</td>\n",
              "      <td>72</td>\n",
              "      <td>3.0</td>\n",
              "      <td>2.0</td>\n",
              "      <td>NaN</td>\n",
              "    </tr>\n",
              "  </tbody>\n",
              "</table>\n",
              "</div>"
            ],
            "text/plain": [
              "  CONGRESSIONAL_DIST_NUM  1981  1982  1983  1984  ...  2011  2012  2013  2014  2015\n",
              "0             CON_DIST_1   1.0   3.0   4.0   1.0  ...    57    50  11.0   1.0   NaN\n",
              "1             CON_DIST_2   1.0   2.0   2.0   4.0  ...    20    18   NaN   1.0   1.0\n",
              "2             CON_DIST_3   3.0   1.0   7.0   1.0  ...    38    24   3.0   2.0   NaN\n",
              "3             CON_DIST_4  12.0  10.0  20.0  14.0  ...    59    44   4.0   3.0   NaN\n",
              "4             CON_DIST_5   2.0   2.0   5.0   5.0  ...    93    72   3.0   2.0   NaN\n",
              "\n",
              "[5 rows x 36 columns]"
            ]
          },
          "metadata": {},
          "execution_count": 156
        }
      ]
    },
    {
      "cell_type": "markdown",
      "metadata": {
        "id": "ZyRoTtXkmyFG"
      },
      "source": [
        "# Counts\n",
        "This is how I defined the range of Fiscal Years and distinct Congressional Districts with their total counts for my statistics analysis further down."
      ]
    },
    {
      "cell_type": "markdown",
      "metadata": {
        "id": "lsCCPXW758WM"
      },
      "source": [
        "## FY Counts"
      ]
    },
    {
      "cell_type": "code",
      "metadata": {
        "colab": {
          "base_uri": "https://localhost:8080/",
          "height": 300
        },
        "id": "v0NQGKq5QnJU",
        "outputId": "bbdf3f34-b081-4f1e-cc60-047b12da70b4"
      },
      "source": [
        "df_FY_counts[['counts']].describe()"
      ],
      "execution_count": 157,
      "outputs": [
        {
          "output_type": "display_data",
          "data": {
            "text/html": [
              "\n",
              "  <style>\n",
              "    pre {\n",
              "        white-space: pre-wrap;\n",
              "    }\n",
              "  </style>\n",
              "  "
            ],
            "text/plain": [
              "<IPython.core.display.HTML object>"
            ]
          },
          "metadata": {}
        },
        {
          "output_type": "display_data",
          "data": {
            "text/html": [
              "\n",
              "  <style>\n",
              "    pre {\n",
              "        white-space: pre-wrap;\n",
              "    }\n",
              "  </style>\n",
              "  "
            ],
            "text/plain": [
              "<IPython.core.display.HTML object>"
            ]
          },
          "metadata": {}
        },
        {
          "output_type": "execute_result",
          "data": {
            "text/html": [
              "<div>\n",
              "<style scoped>\n",
              "    .dataframe tbody tr th:only-of-type {\n",
              "        vertical-align: middle;\n",
              "    }\n",
              "\n",
              "    .dataframe tbody tr th {\n",
              "        vertical-align: top;\n",
              "    }\n",
              "\n",
              "    .dataframe thead th {\n",
              "        text-align: right;\n",
              "    }\n",
              "</style>\n",
              "<table border=\"1\" class=\"dataframe\">\n",
              "  <thead>\n",
              "    <tr style=\"text-align: right;\">\n",
              "      <th></th>\n",
              "      <th>counts</th>\n",
              "    </tr>\n",
              "  </thead>\n",
              "  <tbody>\n",
              "    <tr>\n",
              "      <th>count</th>\n",
              "      <td>36.000000</td>\n",
              "    </tr>\n",
              "    <tr>\n",
              "      <th>mean</th>\n",
              "      <td>473.888889</td>\n",
              "    </tr>\n",
              "    <tr>\n",
              "      <th>std</th>\n",
              "      <td>339.442802</td>\n",
              "    </tr>\n",
              "    <tr>\n",
              "      <th>min</th>\n",
              "      <td>1.000000</td>\n",
              "    </tr>\n",
              "    <tr>\n",
              "      <th>25%</th>\n",
              "      <td>107.000000</td>\n",
              "    </tr>\n",
              "    <tr>\n",
              "      <th>50%</th>\n",
              "      <td>475.000000</td>\n",
              "    </tr>\n",
              "    <tr>\n",
              "      <th>75%</th>\n",
              "      <td>826.500000</td>\n",
              "    </tr>\n",
              "    <tr>\n",
              "      <th>max</th>\n",
              "      <td>956.000000</td>\n",
              "    </tr>\n",
              "  </tbody>\n",
              "</table>\n",
              "</div>"
            ],
            "text/plain": [
              "           counts\n",
              "count   36.000000\n",
              "mean   473.888889\n",
              "std    339.442802\n",
              "min      1.000000\n",
              "25%    107.000000\n",
              "50%    475.000000\n",
              "75%    826.500000\n",
              "max    956.000000"
            ]
          },
          "metadata": {},
          "execution_count": 157
        }
      ]
    },
    {
      "cell_type": "code",
      "metadata": {
        "colab": {
          "base_uri": "https://localhost:8080/",
          "height": 285
        },
        "id": "sIothHfOW4Cy",
        "outputId": "2cd9c1e7-c693-4099-8439-bb5dc7331a78"
      },
      "source": [
        "# Histogram of counts within FY\n",
        "ax = sns.histplot(df_FY_counts['counts'], bins=10)"
      ],
      "execution_count": 158,
      "outputs": [
        {
          "output_type": "display_data",
          "data": {
            "text/html": [
              "\n",
              "  <style>\n",
              "    pre {\n",
              "        white-space: pre-wrap;\n",
              "    }\n",
              "  </style>\n",
              "  "
            ],
            "text/plain": [
              "<IPython.core.display.HTML object>"
            ]
          },
          "metadata": {}
        },
        {
          "output_type": "display_data",
          "data": {
            "text/html": [
              "\n",
              "  <style>\n",
              "    pre {\n",
              "        white-space: pre-wrap;\n",
              "    }\n",
              "  </style>\n",
              "  "
            ],
            "text/plain": [
              "<IPython.core.display.HTML object>"
            ]
          },
          "metadata": {}
        },
        {
          "output_type": "display_data",
          "data": {
            "image/png": "[encoded data removed]",
            "text/plain": [
              "<Figure size 432x288 with 1 Axes>"
            ]
          },
          "metadata": {}
        }
      ]
    },
    {
      "cell_type": "code",
      "metadata": {
        "colab": {
          "base_uri": "https://localhost:8080/",
          "height": 468
        },
        "id": "ozPnm9_qXPx4",
        "outputId": "fc63602f-9755-4d00-c487-9a53ac0d4775"
      },
      "source": [
        "# that's not a normal distribution at ALL\n",
        "# taking out FY 1981-1987 and 2013-2015\n",
        "\n",
        "to_drop = [1981, 1982, 1983, 1984, 1985, 1986, 1987, 2013, 2014, 2015]\n",
        "df_FY_counts_range = df_FY_counts.drop(df_FY_counts[df_FY_counts['FY'] < 1988].index)\n",
        "df_FY_counts_range = df_FY_counts_range.drop(df_FY_counts_range[df_FY_counts_range['FY'] > 2012].index)\n",
        "print(df_FY_counts_range.sort_values('FY'))"
      ],
      "execution_count": 159,
      "outputs": [
        {
          "output_type": "display_data",
          "data": {
            "text/html": [
              "\n",
              "  <style>\n",
              "    pre {\n",
              "        white-space: pre-wrap;\n",
              "    }\n",
              "  </style>\n",
              "  "
            ],
            "text/plain": [
              "<IPython.core.display.HTML object>"
            ]
          },
          "metadata": {}
        },
        {
          "output_type": "display_data",
          "data": {
            "text/html": [
              "\n",
              "  <style>\n",
              "    pre {\n",
              "        white-space: pre-wrap;\n",
              "    }\n",
              "  </style>\n",
              "  "
            ],
            "text/plain": [
              "<IPython.core.display.HTML object>"
            ]
          },
          "metadata": {}
        },
        {
          "output_type": "stream",
          "text": [
            "      FY  counts\n",
            "24  1988     247\n",
            "23  1989     269\n",
            "22  1990     358\n",
            "20  1991     437\n",
            "21  1992     403\n",
            "19  1993     469\n",
            "15  1994     479\n",
            "18  1995     474\n",
            "14  1996     483\n",
            "16  1997     476\n",
            "4   1998     902\n",
            "0   1999     956\n",
            "3   2000     911\n",
            "5   2001     893\n",
            "9   2002     824\n",
            "11  2003     780\n",
            "1   2004     930\n",
            "8   2005     834\n",
            "6   2006     887\n",
            "2   2007     919\n",
            "7   2008     837\n",
            "10  2009     797\n",
            "12  2010     722\n",
            "13  2011     611\n",
            "17  2012     476\n"
          ],
          "name": "stdout"
        }
      ]
    },
    {
      "cell_type": "code",
      "metadata": {
        "colab": {
          "base_uri": "https://localhost:8080/",
          "height": 285
        },
        "id": "Ov8uD7uAcF67",
        "outputId": "64d8f3f8-d8ce-41bc-b47d-ea786aaf6922"
      },
      "source": [
        "# Histogram of counts by FY within new-ly established range\n",
        "ax = sns.histplot(df_FY_counts_range['counts'], bins = 10, kde=True)"
      ],
      "execution_count": 160,
      "outputs": [
        {
          "output_type": "display_data",
          "data": {
            "text/html": [
              "\n",
              "  <style>\n",
              "    pre {\n",
              "        white-space: pre-wrap;\n",
              "    }\n",
              "  </style>\n",
              "  "
            ],
            "text/plain": [
              "<IPython.core.display.HTML object>"
            ]
          },
          "metadata": {}
        },
        {
          "output_type": "display_data",
          "data": {
            "text/html": [
              "\n",
              "  <style>\n",
              "    pre {\n",
              "        white-space: pre-wrap;\n",
              "    }\n",
              "  </style>\n",
              "  "
            ],
            "text/plain": [
              "<IPython.core.display.HTML object>"
            ]
          },
          "metadata": {}
        },
        {
          "output_type": "display_data",
          "data": {
            "image/png": "[encoded data removed]",
            "text/plain": [
              "<Figure size 432x288 with 1 Axes>"
            ]
          },
          "metadata": {}
        }
      ]
    },
    {
      "cell_type": "markdown",
      "metadata": {
        "id": "w7-6uUd2cXCi"
      },
      "source": [
        "I removed the lowest and highest number years from the data due to their abnormally low numbers. The first few years are probably low because the EPA was still establishing its regulation and data-collecting processes, and the last few years are probably lagging in data that will show up for them later.\n",
        "\n",
        "By removing the data the graph shows more distinct spikes, but still does not seem to show a normal distribution."
      ]
    },
    {
      "cell_type": "markdown",
      "metadata": {
        "id": "teadNqpc53h6"
      },
      "source": [
        "## Congressional District Counts"
      ]
    },
    {
      "cell_type": "code",
      "metadata": {
        "colab": {
          "base_uri": "https://localhost:8080/",
          "height": 300
        },
        "id": "VtelGca72_jO",
        "outputId": "4e89fb9d-fda6-4ad0-9d91-05d79ceabe1c"
      },
      "source": [
        "df_con_dist_counts[['counts']].describe()"
      ],
      "execution_count": 161,
      "outputs": [
        {
          "output_type": "display_data",
          "data": {
            "text/html": [
              "\n",
              "  <style>\n",
              "    pre {\n",
              "        white-space: pre-wrap;\n",
              "    }\n",
              "  </style>\n",
              "  "
            ],
            "text/plain": [
              "<IPython.core.display.HTML object>"
            ]
          },
          "metadata": {}
        },
        {
          "output_type": "display_data",
          "data": {
            "text/html": [
              "\n",
              "  <style>\n",
              "    pre {\n",
              "        white-space: pre-wrap;\n",
              "    }\n",
              "  </style>\n",
              "  "
            ],
            "text/plain": [
              "<IPython.core.display.HTML object>"
            ]
          },
          "metadata": {}
        },
        {
          "output_type": "execute_result",
          "data": {
            "text/html": [
              "<div>\n",
              "<style scoped>\n",
              "    .dataframe tbody tr th:only-of-type {\n",
              "        vertical-align: middle;\n",
              "    }\n",
              "\n",
              "    .dataframe tbody tr th {\n",
              "        vertical-align: top;\n",
              "    }\n",
              "\n",
              "    .dataframe thead th {\n",
              "        text-align: right;\n",
              "    }\n",
              "</style>\n",
              "<table border=\"1\" class=\"dataframe\">\n",
              "  <thead>\n",
              "    <tr style=\"text-align: right;\">\n",
              "      <th></th>\n",
              "      <th>counts</th>\n",
              "    </tr>\n",
              "  </thead>\n",
              "  <tbody>\n",
              "    <tr>\n",
              "      <th>count</th>\n",
              "      <td>11.000000</td>\n",
              "    </tr>\n",
              "    <tr>\n",
              "      <th>mean</th>\n",
              "      <td>1499.727273</td>\n",
              "    </tr>\n",
              "    <tr>\n",
              "      <th>std</th>\n",
              "      <td>1216.403395</td>\n",
              "    </tr>\n",
              "    <tr>\n",
              "      <th>min</th>\n",
              "      <td>77.000000</td>\n",
              "    </tr>\n",
              "    <tr>\n",
              "      <th>25%</th>\n",
              "      <td>782.500000</td>\n",
              "    </tr>\n",
              "    <tr>\n",
              "      <th>50%</th>\n",
              "      <td>1136.000000</td>\n",
              "    </tr>\n",
              "    <tr>\n",
              "      <th>75%</th>\n",
              "      <td>2167.500000</td>\n",
              "    </tr>\n",
              "    <tr>\n",
              "      <th>max</th>\n",
              "      <td>4142.000000</td>\n",
              "    </tr>\n",
              "  </tbody>\n",
              "</table>\n",
              "</div>"
            ],
            "text/plain": [
              "            counts\n",
              "count    11.000000\n",
              "mean   1499.727273\n",
              "std    1216.403395\n",
              "min      77.000000\n",
              "25%     782.500000\n",
              "50%    1136.000000\n",
              "75%    2167.500000\n",
              "max    4142.000000"
            ]
          },
          "metadata": {},
          "execution_count": 161
        }
      ]
    },
    {
      "cell_type": "code",
      "metadata": {
        "colab": {
          "base_uri": "https://localhost:8080/",
          "height": 285
        },
        "id": "PuXHBbUL3E8K",
        "outputId": "01498db2-3fe6-4461-aac0-b95847a8129b"
      },
      "source": [
        "ax = sns.histplot(df_con_dist_counts['counts'])\n",
        "\n",
        "# a little more normal distribution, we'll see how it works out with the FY variable"
      ],
      "execution_count": 162,
      "outputs": [
        {
          "output_type": "display_data",
          "data": {
            "text/html": [
              "\n",
              "  <style>\n",
              "    pre {\n",
              "        white-space: pre-wrap;\n",
              "    }\n",
              "  </style>\n",
              "  "
            ],
            "text/plain": [
              "<IPython.core.display.HTML object>"
            ]
          },
          "metadata": {}
        },
        {
          "output_type": "display_data",
          "data": {
            "text/html": [
              "\n",
              "  <style>\n",
              "    pre {\n",
              "        white-space: pre-wrap;\n",
              "    }\n",
              "  </style>\n",
              "  "
            ],
            "text/plain": [
              "<IPython.core.display.HTML object>"
            ]
          },
          "metadata": {}
        },
        {
          "output_type": "display_data",
          "data": {
            "image/png": "[encoded data removed]",
            "text/plain": [
              "<Figure size 432x288 with 1 Axes>"
            ]
          },
          "metadata": {}
        }
      ]
    },
    {
      "cell_type": "markdown",
      "metadata": {
        "id": "qfsHyGwhtP4Y"
      },
      "source": [
        "# Statistical Significance\n",
        "My data is about how many Activities happened in a FY and in a particular congressional district.\n",
        "\n",
        "Counts of Activities by Fiscal Year are not normally distributed. I think there are significant differences in this distribution that I'd like to find out about. I also want to know more about the Congressional District with the highest number of Activities and how those counts are distributed over time."
      ]
    },
    {
      "cell_type": "markdown",
      "metadata": {
        "id": "F4ILyXRDkxdK"
      },
      "source": [
        "## Fiscal Year: Initial Observations"
      ]
    },
    {
      "cell_type": "code",
      "metadata": {
        "colab": {
          "base_uri": "https://localhost:8080/",
          "height": 173
        },
        "id": "GUgDTv5SkmHL",
        "outputId": "784a494c-7977-42f2-dfd3-3a6a87d25199"
      },
      "source": [
        "df_FY_counts_range.info()"
      ],
      "execution_count": 163,
      "outputs": [
        {
          "output_type": "display_data",
          "data": {
            "text/html": [
              "\n",
              "  <style>\n",
              "    pre {\n",
              "        white-space: pre-wrap;\n",
              "    }\n",
              "  </style>\n",
              "  "
            ],
            "text/plain": [
              "<IPython.core.display.HTML object>"
            ]
          },
          "metadata": {}
        },
        {
          "output_type": "display_data",
          "data": {
            "text/html": [
              "\n",
              "  <style>\n",
              "    pre {\n",
              "        white-space: pre-wrap;\n",
              "    }\n",
              "  </style>\n",
              "  "
            ],
            "text/plain": [
              "<IPython.core.display.HTML object>"
            ]
          },
          "metadata": {}
        },
        {
          "output_type": "stream",
          "text": [
            "<class 'pandas.core.frame.DataFrame'>\n",
            "Int64Index: 25 entries, 0 to 24\n",
            "Data columns (total 2 columns):\n",
            " #   Column  Non-Null Count  Dtype\n",
            "---  ------  --------------  -----\n",
            " 0   FY      25 non-null     int64\n",
            " 1   counts  25 non-null     int64\n",
            "dtypes: int64(2)\n",
            "memory usage: 600.0 bytes\n"
          ],
          "name": "stdout"
        }
      ]
    },
    {
      "cell_type": "code",
      "metadata": {
        "colab": {
          "base_uri": "https://localhost:8080/",
          "height": 285
        },
        "id": "UCyYALTEkrke",
        "outputId": "cec8c80a-7528-431f-fb94-0ae78874605d"
      },
      "source": [
        "ax = sns.histplot(df_FY_counts_range['counts'], bins = 10, kde=True)"
      ],
      "execution_count": 164,
      "outputs": [
        {
          "output_type": "display_data",
          "data": {
            "text/html": [
              "\n",
              "  <style>\n",
              "    pre {\n",
              "        white-space: pre-wrap;\n",
              "    }\n",
              "  </style>\n",
              "  "
            ],
            "text/plain": [
              "<IPython.core.display.HTML object>"
            ]
          },
          "metadata": {}
        },
        {
          "output_type": "display_data",
          "data": {
            "text/html": [
              "\n",
              "  <style>\n",
              "    pre {\n",
              "        white-space: pre-wrap;\n",
              "    }\n",
              "  </style>\n",
              "  "
            ],
            "text/plain": [
              "<IPython.core.display.HTML object>"
            ]
          },
          "metadata": {}
        },
        {
          "output_type": "display_data",
          "data": {
            "image/png": "[encoded data removed]",
            "text/plain": [
              "<Figure size 432x288 with 1 Axes>"
            ]
          },
          "metadata": {}
        }
      ]
    },
    {
      "cell_type": "code",
      "metadata": {
        "colab": {
          "base_uri": "https://localhost:8080/",
          "height": 173
        },
        "id": "VXhQ2mwQmC1Z",
        "outputId": "b12262ee-8248-4d33-9cf0-cef9a5b7ced4"
      },
      "source": [
        "df_FY_counts_range['counts'].describe()"
      ],
      "execution_count": 165,
      "outputs": [
        {
          "output_type": "display_data",
          "data": {
            "text/html": [
              "\n",
              "  <style>\n",
              "    pre {\n",
              "        white-space: pre-wrap;\n",
              "    }\n",
              "  </style>\n",
              "  "
            ],
            "text/plain": [
              "<IPython.core.display.HTML object>"
            ]
          },
          "metadata": {}
        },
        {
          "output_type": "display_data",
          "data": {
            "text/html": [
              "\n",
              "  <style>\n",
              "    pre {\n",
              "        white-space: pre-wrap;\n",
              "    }\n",
              "  </style>\n",
              "  "
            ],
            "text/plain": [
              "<IPython.core.display.HTML object>"
            ]
          },
          "metadata": {}
        },
        {
          "output_type": "execute_result",
          "data": {
            "text/plain": [
              "count     25.00000\n",
              "mean     654.96000\n",
              "std      234.12701\n",
              "min      247.00000\n",
              "25%      474.00000\n",
              "50%      722.00000\n",
              "75%      887.00000\n",
              "max      956.00000\n",
              "Name: counts, dtype: float64"
            ]
          },
          "metadata": {},
          "execution_count": 165
        }
      ]
    },
    {
      "cell_type": "code",
      "metadata": {
        "colab": {
          "base_uri": "https://localhost:8080/",
          "height": 87
        },
        "id": "n3d6DVuVsZPH",
        "outputId": "2ea02185-df91-433b-c228-f7d445706a69"
      },
      "source": [
        "FY_max_value = (df_FY_counts_range['counts'] == 956)\n",
        "FY_counts_max = df_FY_counts_range.iloc[FY_max_value.values]\n",
        "print(FY_counts_max)\n",
        "\n",
        "FY_min_value = (df_FY_counts_range['counts'] == 247)\n",
        "FY_counts_min = df_FY_counts_range.iloc[FY_min_value.values]\n",
        "print(FY_counts_min)"
      ],
      "execution_count": 166,
      "outputs": [
        {
          "output_type": "display_data",
          "data": {
            "text/html": [
              "\n",
              "  <style>\n",
              "    pre {\n",
              "        white-space: pre-wrap;\n",
              "    }\n",
              "  </style>\n",
              "  "
            ],
            "text/plain": [
              "<IPython.core.display.HTML object>"
            ]
          },
          "metadata": {}
        },
        {
          "output_type": "display_data",
          "data": {
            "text/html": [
              "\n",
              "  <style>\n",
              "    pre {\n",
              "        white-space: pre-wrap;\n",
              "    }\n",
              "  </style>\n",
              "  "
            ],
            "text/plain": [
              "<IPython.core.display.HTML object>"
            ]
          },
          "metadata": {}
        },
        {
          "output_type": "stream",
          "text": [
            "     FY  counts\n",
            "0  1999     956\n",
            "      FY  counts\n",
            "24  1988     247\n"
          ],
          "name": "stdout"
        }
      ]
    },
    {
      "cell_type": "markdown",
      "metadata": {
        "id": "ikUnHk55uRBc"
      },
      "source": [
        "The counts for all fiscal years showed no normal distribution, which indicated some significant differences in the data. I decided to take the years of the max number of Activities and the min number of Activities. I'll use those in the stats tests distributed by Congressional Districts below."
      ]
    },
    {
      "cell_type": "markdown",
      "metadata": {
        "id": "8oKik2HFkz90"
      },
      "source": [
        "## Congressional Districts: Initial Observations"
      ]
    },
    {
      "cell_type": "code",
      "metadata": {
        "colab": {
          "base_uri": "https://localhost:8080/",
          "height": 173
        },
        "id": "xJoVpIo7k8yI",
        "outputId": "70981760-346c-4fd6-d720-e9f2724cc188"
      },
      "source": [
        "df_con_dist_counts.info()"
      ],
      "execution_count": 167,
      "outputs": [
        {
          "output_type": "display_data",
          "data": {
            "text/html": [
              "\n",
              "  <style>\n",
              "    pre {\n",
              "        white-space: pre-wrap;\n",
              "    }\n",
              "  </style>\n",
              "  "
            ],
            "text/plain": [
              "<IPython.core.display.HTML object>"
            ]
          },
          "metadata": {}
        },
        {
          "output_type": "display_data",
          "data": {
            "text/html": [
              "\n",
              "  <style>\n",
              "    pre {\n",
              "        white-space: pre-wrap;\n",
              "    }\n",
              "  </style>\n",
              "  "
            ],
            "text/plain": [
              "<IPython.core.display.HTML object>"
            ]
          },
          "metadata": {}
        },
        {
          "output_type": "stream",
          "text": [
            "<class 'pandas.core.frame.DataFrame'>\n",
            "RangeIndex: 11 entries, 0 to 10\n",
            "Data columns (total 2 columns):\n",
            " #   Column                  Non-Null Count  Dtype\n",
            "---  ------                  --------------  -----\n",
            " 0   CONGRESSIONAL_DIST_NUM  11 non-null     int64\n",
            " 1   counts                  11 non-null     int64\n",
            "dtypes: int64(2)\n",
            "memory usage: 304.0 bytes\n"
          ],
          "name": "stdout"
        }
      ]
    },
    {
      "cell_type": "code",
      "metadata": {
        "colab": {
          "base_uri": "https://localhost:8080/",
          "height": 285
        },
        "id": "Bbza6rYclKVe",
        "outputId": "27a42c95-ad25-490a-e7a8-24a4efad2c8e"
      },
      "source": [
        "# Histogram of counts by Congressional District\n",
        "ax = sns.histplot(df_con_dist_counts['counts'])"
      ],
      "execution_count": 168,
      "outputs": [
        {
          "output_type": "display_data",
          "data": {
            "text/html": [
              "\n",
              "  <style>\n",
              "    pre {\n",
              "        white-space: pre-wrap;\n",
              "    }\n",
              "  </style>\n",
              "  "
            ],
            "text/plain": [
              "<IPython.core.display.HTML object>"
            ]
          },
          "metadata": {}
        },
        {
          "output_type": "display_data",
          "data": {
            "text/html": [
              "\n",
              "  <style>\n",
              "    pre {\n",
              "        white-space: pre-wrap;\n",
              "    }\n",
              "  </style>\n",
              "  "
            ],
            "text/plain": [
              "<IPython.core.display.HTML object>"
            ]
          },
          "metadata": {}
        },
        {
          "output_type": "display_data",
          "data": {
            "image/png": "[encoded data removed]",
            "text/plain": [
              "<Figure size 432x288 with 1 Axes>"
            ]
          },
          "metadata": {}
        }
      ]
    },
    {
      "cell_type": "code",
      "metadata": {
        "colab": {
          "base_uri": "https://localhost:8080/",
          "height": 173
        },
        "id": "gcsBOWxglAS1",
        "outputId": "b779bd93-e1c3-46fe-be97-08d643075b5a"
      },
      "source": [
        "df_con_dist_counts['counts'].describe()"
      ],
      "execution_count": 169,
      "outputs": [
        {
          "output_type": "display_data",
          "data": {
            "text/html": [
              "\n",
              "  <style>\n",
              "    pre {\n",
              "        white-space: pre-wrap;\n",
              "    }\n",
              "  </style>\n",
              "  "
            ],
            "text/plain": [
              "<IPython.core.display.HTML object>"
            ]
          },
          "metadata": {}
        },
        {
          "output_type": "display_data",
          "data": {
            "text/html": [
              "\n",
              "  <style>\n",
              "    pre {\n",
              "        white-space: pre-wrap;\n",
              "    }\n",
              "  </style>\n",
              "  "
            ],
            "text/plain": [
              "<IPython.core.display.HTML object>"
            ]
          },
          "metadata": {}
        },
        {
          "output_type": "execute_result",
          "data": {
            "text/plain": [
              "count      11.000000\n",
              "mean     1499.727273\n",
              "std      1216.403395\n",
              "min        77.000000\n",
              "25%       782.500000\n",
              "50%      1136.000000\n",
              "75%      2167.500000\n",
              "max      4142.000000\n",
              "Name: counts, dtype: float64"
            ]
          },
          "metadata": {},
          "execution_count": 169
        }
      ]
    },
    {
      "cell_type": "code",
      "metadata": {
        "colab": {
          "base_uri": "https://localhost:8080/",
          "height": 87
        },
        "id": "bO9N6wCf3h0b",
        "outputId": "23363f39-e397-4b56-fe2e-cde661a0846b"
      },
      "source": [
        "CD_max_value = (df_con_dist_counts['counts'] == 4142)\n",
        "CD_counts_max = df_con_dist_counts.iloc[CD_max_value.values]\n",
        "print(CD_counts_max)\n",
        "\n",
        "CD_min_value = (df_con_dist_counts['counts'] == 77)\n",
        "CD_counts_min = df_con_dist_counts.iloc[CD_min_value.values]\n",
        "print(CD_counts_min)"
      ],
      "execution_count": 170,
      "outputs": [
        {
          "output_type": "display_data",
          "data": {
            "text/html": [
              "\n",
              "  <style>\n",
              "    pre {\n",
              "        white-space: pre-wrap;\n",
              "    }\n",
              "  </style>\n",
              "  "
            ],
            "text/plain": [
              "<IPython.core.display.HTML object>"
            ]
          },
          "metadata": {}
        },
        {
          "output_type": "display_data",
          "data": {
            "text/html": [
              "\n",
              "  <style>\n",
              "    pre {\n",
              "        white-space: pre-wrap;\n",
              "    }\n",
              "  </style>\n",
              "  "
            ],
            "text/plain": [
              "<IPython.core.display.HTML object>"
            ]
          },
          "metadata": {}
        },
        {
          "output_type": "stream",
          "text": [
            "   CONGRESSIONAL_DIST_NUM  counts\n",
            "0                       9    4142\n",
            "    CONGRESSIONAL_DIST_NUM  counts\n",
            "10                       8      77\n"
          ],
          "name": "stdout"
        }
      ]
    },
    {
      "cell_type": "markdown",
      "metadata": {
        "id": "c9SSNocIutK1"
      },
      "source": [
        "This histograms shows a normal distribution. I can test that with the kurtosis calculation. I took down the Congressional Districts with max and min total numbers of Activities for statistical testing against FY distribution below."
      ]
    },
    {
      "cell_type": "markdown",
      "metadata": {
        "id": "6kJNvWZGyszk"
      },
      "source": [
        "## Comparing FY and CD Distributions\n",
        "**Null Hypothesis**: The distribution of counts by Fiscal Year is the same as the distribution of counts by Congressional District."
      ]
    },
    {
      "cell_type": "code",
      "metadata": {
        "colab": {
          "base_uri": "https://localhost:8080/",
          "height": 52
        },
        "id": "flYIqmd2vd_x",
        "outputId": "7440151b-5472-4dfb-b240-f622fd845746"
      },
      "source": [
        "# Compare kurtosis of distribution over FY vs CD\n",
        "\n",
        "print('The kurtosis of the FY distributions is: ', stats.kurtosis(df_FY_counts_range['counts']))\n",
        "print('The kurtosis of the Congressional District distribution is: ',stats.kurtosis(df_con_dist_counts['counts']))"
      ],
      "execution_count": 171,
      "outputs": [
        {
          "output_type": "display_data",
          "data": {
            "text/html": [
              "\n",
              "  <style>\n",
              "    pre {\n",
              "        white-space: pre-wrap;\n",
              "    }\n",
              "  </style>\n",
              "  "
            ],
            "text/plain": [
              "<IPython.core.display.HTML object>"
            ]
          },
          "metadata": {}
        },
        {
          "output_type": "display_data",
          "data": {
            "text/html": [
              "\n",
              "  <style>\n",
              "    pre {\n",
              "        white-space: pre-wrap;\n",
              "    }\n",
              "  </style>\n",
              "  "
            ],
            "text/plain": [
              "<IPython.core.display.HTML object>"
            ]
          },
          "metadata": {}
        },
        {
          "output_type": "stream",
          "text": [
            "The kurtosis of the FY distributions is:  -1.459437268429435\n",
            "The kurtosis of the Congressional District distribution is:  0.005514374589800308\n"
          ],
          "name": "stdout"
        }
      ]
    },
    {
      "cell_type": "code",
      "metadata": {
        "colab": {
          "base_uri": "https://localhost:8080/",
          "height": 35
        },
        "id": "LwX9l8hgzQQC",
        "outputId": "5e65ee73-4aa7-4861-ab15-af29f4e3ceda"
      },
      "source": [
        "stats.ttest_ind(df_FY_counts_range['counts'], df_con_dist_counts['counts'])"
      ],
      "execution_count": 172,
      "outputs": [
        {
          "output_type": "display_data",
          "data": {
            "text/html": [
              "\n",
              "  <style>\n",
              "    pre {\n",
              "        white-space: pre-wrap;\n",
              "    }\n",
              "  </style>\n",
              "  "
            ],
            "text/plain": [
              "<IPython.core.display.HTML object>"
            ]
          },
          "metadata": {}
        },
        {
          "output_type": "display_data",
          "data": {
            "text/html": [
              "\n",
              "  <style>\n",
              "    pre {\n",
              "        white-space: pre-wrap;\n",
              "    }\n",
              "  </style>\n",
              "  "
            ],
            "text/plain": [
              "<IPython.core.display.HTML object>"
            ]
          },
          "metadata": {}
        },
        {
          "output_type": "execute_result",
          "data": {
            "text/plain": [
              "Ttest_indResult(statistic=-3.3917019038403997, pvalue=0.001776154468731675)"
            ]
          },
          "metadata": {},
          "execution_count": 172
        }
      ]
    },
    {
      "cell_type": "markdown",
      "metadata": {
        "id": "l2Kea_0VyzbF"
      },
      "source": [
        "**Findings**:  \n",
        "The distribution of Activity counts across Congressional Districts is nearly normal, with a kurtosis close to zero. The distribution across FYs, however, has a very low kurtosis and therefore a very thin tail. This implies a significant spike in the data.\n",
        "\n",
        "With a t stat greater than the t critical value of a 2-sample t test (1.96), we can reject the null that these distributions are the same. This test is significant with p < 0.05."
      ]
    },
    {
      "cell_type": "markdown",
      "metadata": {
        "id": "ETqP1z0rlM9B"
      },
      "source": [
        "## Congressional Districts: T Test\n",
        "**Null Hypothesis**:  \n",
        "The Congressional District with the maximum total number of Activities in the data has the same distribution of cases by FY as the district with the minimum total number of Activities."
      ]
    },
    {
      "cell_type": "code",
      "metadata": {
        "colab": {
          "base_uri": "https://localhost:8080/",
          "height": 381
        },
        "id": "FJZPJYCicCOz",
        "outputId": "608ff029-7768-419f-f2d4-46434b126b8c"
      },
      "source": [
        "print(df3.shape)\n",
        "print(df3.info())"
      ],
      "execution_count": 173,
      "outputs": [
        {
          "output_type": "display_data",
          "data": {
            "text/html": [
              "\n",
              "  <style>\n",
              "    pre {\n",
              "        white-space: pre-wrap;\n",
              "    }\n",
              "  </style>\n",
              "  "
            ],
            "text/plain": [
              "<IPython.core.display.HTML object>"
            ]
          },
          "metadata": {}
        },
        {
          "output_type": "display_data",
          "data": {
            "text/html": [
              "\n",
              "  <style>\n",
              "    pre {\n",
              "        white-space: pre-wrap;\n",
              "    }\n",
              "  </style>\n",
              "  "
            ],
            "text/plain": [
              "<IPython.core.display.HTML object>"
            ]
          },
          "metadata": {}
        },
        {
          "output_type": "stream",
          "text": [
            "(35, 12)\n",
            "<class 'pandas.core.frame.DataFrame'>\n",
            "RangeIndex: 35 entries, 0 to 34\n",
            "Data columns (total 12 columns):\n",
            " #   Column       Non-Null Count  Dtype\n",
            "---  ------       --------------  -----\n",
            " 0   FISCAL_YEAR  35 non-null     int64\n",
            " 1   CON_DIST_1   34 non-null     Int64\n",
            " 2   CON_DIST_2   34 non-null     Int64\n",
            " 3   CON_DIST_3   34 non-null     Int64\n",
            " 4   CON_DIST_4   34 non-null     Int64\n",
            " 5   CON_DIST_5   34 non-null     Int64\n",
            " 6   CON_DIST_6   34 non-null     Int64\n",
            " 7   CON_DIST_7   33 non-null     Int64\n",
            " 8   CON_DIST_8   20 non-null     Int64\n",
            " 9   CON_DIST_9   34 non-null     Int64\n",
            " 10  CON_DIST_10  32 non-null     Int64\n",
            " 11  CON_DIST_11  26 non-null     Int64\n",
            "dtypes: Int64(11), int64(1)\n",
            "memory usage: 3.8 KB\n",
            "None\n"
          ],
          "name": "stdout"
        }
      ]
    },
    {
      "cell_type": "code",
      "metadata": {
        "colab": {
          "base_uri": "https://localhost:8080/",
          "height": 320
        },
        "id": "sNsNOOmUdt6u",
        "outputId": "3defe731-6275-410c-b08b-c34fdf45e5cd"
      },
      "source": [
        "df3.describe()"
      ],
      "execution_count": 174,
      "outputs": [
        {
          "output_type": "display_data",
          "data": {
            "text/html": [
              "\n",
              "  <style>\n",
              "    pre {\n",
              "        white-space: pre-wrap;\n",
              "    }\n",
              "  </style>\n",
              "  "
            ],
            "text/plain": [
              "<IPython.core.display.HTML object>"
            ]
          },
          "metadata": {}
        },
        {
          "output_type": "display_data",
          "data": {
            "text/html": [
              "\n",
              "  <style>\n",
              "    pre {\n",
              "        white-space: pre-wrap;\n",
              "    }\n",
              "  </style>\n",
              "  "
            ],
            "text/plain": [
              "<IPython.core.display.HTML object>"
            ]
          },
          "metadata": {}
        },
        {
          "output_type": "execute_result",
          "data": {
            "text/html": [
              "<div>\n",
              "<style scoped>\n",
              "    .dataframe tbody tr th:only-of-type {\n",
              "        vertical-align: middle;\n",
              "    }\n",
              "\n",
              "    .dataframe tbody tr th {\n",
              "        vertical-align: top;\n",
              "    }\n",
              "\n",
              "    .dataframe thead th {\n",
              "        text-align: right;\n",
              "    }\n",
              "</style>\n",
              "<table border=\"1\" class=\"dataframe\">\n",
              "  <thead>\n",
              "    <tr style=\"text-align: right;\">\n",
              "      <th></th>\n",
              "      <th>FISCAL_YEAR</th>\n",
              "      <th>CON_DIST_1</th>\n",
              "      <th>CON_DIST_2</th>\n",
              "      <th>CON_DIST_3</th>\n",
              "      <th>CON_DIST_4</th>\n",
              "      <th>CON_DIST_5</th>\n",
              "      <th>CON_DIST_6</th>\n",
              "      <th>CON_DIST_7</th>\n",
              "      <th>CON_DIST_8</th>\n",
              "      <th>CON_DIST_9</th>\n",
              "      <th>CON_DIST_10</th>\n",
              "      <th>CON_DIST_11</th>\n",
              "    </tr>\n",
              "  </thead>\n",
              "  <tbody>\n",
              "    <tr>\n",
              "      <th>count</th>\n",
              "      <td>35.000000</td>\n",
              "      <td>34.000000</td>\n",
              "      <td>34.000000</td>\n",
              "      <td>34.000000</td>\n",
              "      <td>34.000000</td>\n",
              "      <td>34.000000</td>\n",
              "      <td>34.000000</td>\n",
              "      <td>33.000000</td>\n",
              "      <td>20.000000</td>\n",
              "      <td>34.000000</td>\n",
              "      <td>32.000000</td>\n",
              "      <td>26.000000</td>\n",
              "    </tr>\n",
              "    <tr>\n",
              "      <th>mean</th>\n",
              "      <td>1998.000000</td>\n",
              "      <td>33.411765</td>\n",
              "      <td>17.205882</td>\n",
              "      <td>30.205882</td>\n",
              "      <td>54.382353</td>\n",
              "      <td>73.117647</td>\n",
              "      <td>79.617647</td>\n",
              "      <td>40.303030</td>\n",
              "      <td>3.850000</td>\n",
              "      <td>121.823529</td>\n",
              "      <td>30.625000</td>\n",
              "      <td>6.846154</td>\n",
              "    </tr>\n",
              "    <tr>\n",
              "      <th>std</th>\n",
              "      <td>10.246951</td>\n",
              "      <td>27.444840</td>\n",
              "      <td>12.090014</td>\n",
              "      <td>18.587678</td>\n",
              "      <td>28.085384</td>\n",
              "      <td>54.871069</td>\n",
              "      <td>48.301462</td>\n",
              "      <td>28.537787</td>\n",
              "      <td>3.199918</td>\n",
              "      <td>89.578295</td>\n",
              "      <td>26.113586</td>\n",
              "      <td>6.044451</td>\n",
              "    </tr>\n",
              "    <tr>\n",
              "      <th>min</th>\n",
              "      <td>1981.000000</td>\n",
              "      <td>1.000000</td>\n",
              "      <td>1.000000</td>\n",
              "      <td>1.000000</td>\n",
              "      <td>3.000000</td>\n",
              "      <td>2.000000</td>\n",
              "      <td>4.000000</td>\n",
              "      <td>1.000000</td>\n",
              "      <td>1.000000</td>\n",
              "      <td>4.000000</td>\n",
              "      <td>1.000000</td>\n",
              "      <td>1.000000</td>\n",
              "    </tr>\n",
              "    <tr>\n",
              "      <th>25%</th>\n",
              "      <td>1989.500000</td>\n",
              "      <td>6.500000</td>\n",
              "      <td>5.000000</td>\n",
              "      <td>11.500000</td>\n",
              "      <td>39.750000</td>\n",
              "      <td>31.000000</td>\n",
              "      <td>48.500000</td>\n",
              "      <td>20.000000</td>\n",
              "      <td>2.000000</td>\n",
              "      <td>35.000000</td>\n",
              "      <td>9.250000</td>\n",
              "      <td>3.000000</td>\n",
              "    </tr>\n",
              "    <tr>\n",
              "      <th>50%</th>\n",
              "      <td>1998.000000</td>\n",
              "      <td>30.000000</td>\n",
              "      <td>18.000000</td>\n",
              "      <td>34.000000</td>\n",
              "      <td>58.000000</td>\n",
              "      <td>61.500000</td>\n",
              "      <td>83.000000</td>\n",
              "      <td>37.000000</td>\n",
              "      <td>2.500000</td>\n",
              "      <td>117.500000</td>\n",
              "      <td>20.000000</td>\n",
              "      <td>5.000000</td>\n",
              "    </tr>\n",
              "    <tr>\n",
              "      <th>75%</th>\n",
              "      <td>2006.500000</td>\n",
              "      <td>53.250000</td>\n",
              "      <td>23.000000</td>\n",
              "      <td>41.750000</td>\n",
              "      <td>69.000000</td>\n",
              "      <td>121.250000</td>\n",
              "      <td>115.750000</td>\n",
              "      <td>62.000000</td>\n",
              "      <td>4.250000</td>\n",
              "      <td>209.500000</td>\n",
              "      <td>50.500000</td>\n",
              "      <td>7.750000</td>\n",
              "    </tr>\n",
              "    <tr>\n",
              "      <th>max</th>\n",
              "      <td>2015.000000</td>\n",
              "      <td>88.000000</td>\n",
              "      <td>40.000000</td>\n",
              "      <td>73.000000</td>\n",
              "      <td>108.000000</td>\n",
              "      <td>178.000000</td>\n",
              "      <td>183.000000</td>\n",
              "      <td>89.000000</td>\n",
              "      <td>12.000000</td>\n",
              "      <td>304.000000</td>\n",
              "      <td>93.000000</td>\n",
              "      <td>24.000000</td>\n",
              "    </tr>\n",
              "  </tbody>\n",
              "</table>\n",
              "</div>"
            ],
            "text/plain": [
              "       FISCAL_YEAR  CON_DIST_1  ...  CON_DIST_10  CON_DIST_11\n",
              "count    35.000000   34.000000  ...    32.000000    26.000000\n",
              "mean   1998.000000   33.411765  ...    30.625000     6.846154\n",
              "std      10.246951   27.444840  ...    26.113586     6.044451\n",
              "min    1981.000000    1.000000  ...     1.000000     1.000000\n",
              "25%    1989.500000    6.500000  ...     9.250000     3.000000\n",
              "50%    1998.000000   30.000000  ...    20.000000     5.000000\n",
              "75%    2006.500000   53.250000  ...    50.500000     7.750000\n",
              "max    2015.000000   88.000000  ...    93.000000    24.000000\n",
              "\n",
              "[8 rows x 12 columns]"
            ]
          },
          "metadata": {},
          "execution_count": 174
        }
      ]
    },
    {
      "cell_type": "code",
      "metadata": {
        "colab": {
          "base_uri": "https://localhost:8080/",
          "height": 173
        },
        "id": "gGCkr11Odmiv",
        "outputId": "793bd4e8-a354-4f8b-d12c-19400a6b52f8"
      },
      "source": [
        "df3['CON_DIST_8'].describe()"
      ],
      "execution_count": 175,
      "outputs": [
        {
          "output_type": "display_data",
          "data": {
            "text/html": [
              "\n",
              "  <style>\n",
              "    pre {\n",
              "        white-space: pre-wrap;\n",
              "    }\n",
              "  </style>\n",
              "  "
            ],
            "text/plain": [
              "<IPython.core.display.HTML object>"
            ]
          },
          "metadata": {}
        },
        {
          "output_type": "display_data",
          "data": {
            "text/html": [
              "\n",
              "  <style>\n",
              "    pre {\n",
              "        white-space: pre-wrap;\n",
              "    }\n",
              "  </style>\n",
              "  "
            ],
            "text/plain": [
              "<IPython.core.display.HTML object>"
            ]
          },
          "metadata": {}
        },
        {
          "output_type": "execute_result",
          "data": {
            "text/plain": [
              "count    20.000000\n",
              "mean      3.850000\n",
              "std       3.199918\n",
              "min       1.000000\n",
              "25%       2.000000\n",
              "50%       2.500000\n",
              "75%       4.250000\n",
              "max      12.000000\n",
              "Name: CON_DIST_8, dtype: float64"
            ]
          },
          "metadata": {},
          "execution_count": 175
        }
      ]
    },
    {
      "cell_type": "code",
      "metadata": {
        "colab": {
          "base_uri": "https://localhost:8080/",
          "height": 303
        },
        "id": "3sRtSopl9_cm",
        "outputId": "28554d86-1635-4049-df41-7b6898f0b90d"
      },
      "source": [
        "sns.scatterplot(x='FISCAL_YEAR', y='CON_DIST_8', data=df3)"
      ],
      "execution_count": 176,
      "outputs": [
        {
          "output_type": "display_data",
          "data": {
            "text/html": [
              "\n",
              "  <style>\n",
              "    pre {\n",
              "        white-space: pre-wrap;\n",
              "    }\n",
              "  </style>\n",
              "  "
            ],
            "text/plain": [
              "<IPython.core.display.HTML object>"
            ]
          },
          "metadata": {}
        },
        {
          "output_type": "display_data",
          "data": {
            "text/html": [
              "\n",
              "  <style>\n",
              "    pre {\n",
              "        white-space: pre-wrap;\n",
              "    }\n",
              "  </style>\n",
              "  "
            ],
            "text/plain": [
              "<IPython.core.display.HTML object>"
            ]
          },
          "metadata": {}
        },
        {
          "output_type": "execute_result",
          "data": {
            "text/plain": [
              "<matplotlib.axes._subplots.AxesSubplot at 0x7fb5de7749d0>"
            ]
          },
          "metadata": {},
          "execution_count": 176
        },
        {
          "output_type": "display_data",
          "data": {
            "image/png": "[encoded data removed]",
            "text/plain": [
              "<Figure size 432x288 with 1 Axes>"
            ]
          },
          "metadata": {}
        }
      ]
    },
    {
      "cell_type": "code",
      "metadata": {
        "colab": {
          "base_uri": "https://localhost:8080/",
          "height": 173
        },
        "id": "OOqH_KKv5Swj",
        "outputId": "64367355-6470-4997-83bf-a8b1abd8f5be"
      },
      "source": [
        "df3['CON_DIST_9'].describe()"
      ],
      "execution_count": 177,
      "outputs": [
        {
          "output_type": "display_data",
          "data": {
            "text/html": [
              "\n",
              "  <style>\n",
              "    pre {\n",
              "        white-space: pre-wrap;\n",
              "    }\n",
              "  </style>\n",
              "  "
            ],
            "text/plain": [
              "<IPython.core.display.HTML object>"
            ]
          },
          "metadata": {}
        },
        {
          "output_type": "display_data",
          "data": {
            "text/html": [
              "\n",
              "  <style>\n",
              "    pre {\n",
              "        white-space: pre-wrap;\n",
              "    }\n",
              "  </style>\n",
              "  "
            ],
            "text/plain": [
              "<IPython.core.display.HTML object>"
            ]
          },
          "metadata": {}
        },
        {
          "output_type": "execute_result",
          "data": {
            "text/plain": [
              "count     34.000000\n",
              "mean     121.823529\n",
              "std       89.578295\n",
              "min        4.000000\n",
              "25%       35.000000\n",
              "50%      117.500000\n",
              "75%      209.500000\n",
              "max      304.000000\n",
              "Name: CON_DIST_9, dtype: float64"
            ]
          },
          "metadata": {},
          "execution_count": 177
        }
      ]
    },
    {
      "cell_type": "code",
      "metadata": {
        "colab": {
          "base_uri": "https://localhost:8080/",
          "height": 303
        },
        "id": "46Vp6G9I-E_a",
        "outputId": "dbcedf83-8faa-4815-f3fe-8b6aa2f93115"
      },
      "source": [
        "sns.scatterplot(x='FISCAL_YEAR', y='CON_DIST_9', data=df3)"
      ],
      "execution_count": 178,
      "outputs": [
        {
          "output_type": "display_data",
          "data": {
            "text/html": [
              "\n",
              "  <style>\n",
              "    pre {\n",
              "        white-space: pre-wrap;\n",
              "    }\n",
              "  </style>\n",
              "  "
            ],
            "text/plain": [
              "<IPython.core.display.HTML object>"
            ]
          },
          "metadata": {}
        },
        {
          "output_type": "display_data",
          "data": {
            "text/html": [
              "\n",
              "  <style>\n",
              "    pre {\n",
              "        white-space: pre-wrap;\n",
              "    }\n",
              "  </style>\n",
              "  "
            ],
            "text/plain": [
              "<IPython.core.display.HTML object>"
            ]
          },
          "metadata": {}
        },
        {
          "output_type": "execute_result",
          "data": {
            "text/plain": [
              "<matplotlib.axes._subplots.AxesSubplot at 0x7fb5de6ed150>"
            ]
          },
          "metadata": {},
          "execution_count": 178
        },
        {
          "output_type": "display_data",
          "data": {
            "image/png": "[encoded data removed]",
            "text/plain": [
              "<Figure size 432x288 with 1 Axes>"
            ]
          },
          "metadata": {}
        }
      ]
    },
    {
      "cell_type": "code",
      "metadata": {
        "colab": {
          "base_uri": "https://localhost:8080/",
          "height": 35
        },
        "id": "Kb8lB46bn23A",
        "outputId": "ca0bf294-edfc-4f8a-a291-20a01ec26ee2"
      },
      "source": [
        "# shows db with dropped nulls from fiscal year\n",
        "df3_con_8_nonulls = df3[df3['CON_DIST_8'].notnull()]\n",
        "df3_con_9_nonulls = df3[df3['CON_DIST_9'].notnull()]\n",
        "\n",
        "stats.ttest_ind(df3_con_8_nonulls['CON_DIST_8'], df3_con_9_nonulls['CON_DIST_9'])"
      ],
      "execution_count": 179,
      "outputs": [
        {
          "output_type": "display_data",
          "data": {
            "text/html": [
              "\n",
              "  <style>\n",
              "    pre {\n",
              "        white-space: pre-wrap;\n",
              "    }\n",
              "  </style>\n",
              "  "
            ],
            "text/plain": [
              "<IPython.core.display.HTML object>"
            ]
          },
          "metadata": {}
        },
        {
          "output_type": "display_data",
          "data": {
            "text/html": [
              "\n",
              "  <style>\n",
              "    pre {\n",
              "        white-space: pre-wrap;\n",
              "    }\n",
              "  </style>\n",
              "  "
            ],
            "text/plain": [
              "<IPython.core.display.HTML object>"
            ]
          },
          "metadata": {}
        },
        {
          "output_type": "execute_result",
          "data": {
            "text/plain": [
              "Ttest_indResult(statistic=-5.864413412459555, pvalue=3.1498343584858434e-07)"
            ]
          },
          "metadata": {},
          "execution_count": 179
        }
      ]
    },
    {
      "cell_type": "markdown",
      "metadata": {
        "id": "aPbsIN_m7fsw"
      },
      "source": [
        "**Findings**:  \n",
        "With a t statistic greater than 1.96, we reject the null hypothesis that the distributions of counts by Fiscal Year between Congressional Districts 8 and 9 are the same. This test is significant at p value < 0.05."
      ]
    },
    {
      "cell_type": "markdown",
      "metadata": {
        "id": "ppABgJG672PQ"
      },
      "source": [
        "## Fiscal Year: T Test\n",
        "**Null Hypothesis**: The distribution of counts by Congressional District between Fiscal Years 1988 and 1999 are the same."
      ]
    },
    {
      "cell_type": "code",
      "metadata": {
        "colab": {
          "base_uri": "https://localhost:8080/",
          "height": 763
        },
        "id": "36zn9l6SpeQ4",
        "outputId": "f3a724ff-b677-4afd-9b04-991b21922479"
      },
      "source": [
        "df4.info()"
      ],
      "execution_count": 180,
      "outputs": [
        {
          "output_type": "display_data",
          "data": {
            "text/html": [
              "\n",
              "  <style>\n",
              "    pre {\n",
              "        white-space: pre-wrap;\n",
              "    }\n",
              "  </style>\n",
              "  "
            ],
            "text/plain": [
              "<IPython.core.display.HTML object>"
            ]
          },
          "metadata": {}
        },
        {
          "output_type": "display_data",
          "data": {
            "text/html": [
              "\n",
              "  <style>\n",
              "    pre {\n",
              "        white-space: pre-wrap;\n",
              "    }\n",
              "  </style>\n",
              "  "
            ],
            "text/plain": [
              "<IPython.core.display.HTML object>"
            ]
          },
          "metadata": {}
        },
        {
          "output_type": "stream",
          "text": [
            "<class 'pandas.core.frame.DataFrame'>\n",
            "RangeIndex: 11 entries, 0 to 10\n",
            "Data columns (total 36 columns):\n",
            " #   Column                  Non-Null Count  Dtype  \n",
            "---  ------                  --------------  -----  \n",
            " 0   CONGRESSIONAL_DIST_NUM  11 non-null     object \n",
            " 1   1981                    8 non-null      float64\n",
            " 2   1982                    8 non-null      float64\n",
            " 3   1983                    9 non-null      float64\n",
            " 4   1984                    9 non-null      float64\n",
            " 5   1985                    9 non-null      float64\n",
            " 6   1986                    9 non-null      float64\n",
            " 7   1987                    10 non-null     float64\n",
            " 8   1988                    9 non-null      float64\n",
            " 9   1989                    10 non-null     float64\n",
            " 10  1990                    10 non-null     float64\n",
            " 11  1991                    10 non-null     float64\n",
            " 12  1992                    10 non-null     float64\n",
            " 13  1993                    11 non-null     int64  \n",
            " 14  1994                    11 non-null     int64  \n",
            " 15  1995                    11 non-null     int64  \n",
            " 16  1996                    11 non-null     int64  \n",
            " 17  1997                    11 non-null     int64  \n",
            " 18  1998                    11 non-null     int64  \n",
            " 19  1999                    11 non-null     int64  \n",
            " 20  2000                    11 non-null     int64  \n",
            " 21  2001                    11 non-null     int64  \n",
            " 22  2002                    11 non-null     int64  \n",
            " 23  2003                    11 non-null     int64  \n",
            " 24  2004                    11 non-null     int64  \n",
            " 25  2005                    11 non-null     int64  \n",
            " 26  2006                    11 non-null     int64  \n",
            " 27  2007                    11 non-null     int64  \n",
            " 28  2008                    11 non-null     int64  \n",
            " 29  2009                    11 non-null     int64  \n",
            " 30  2010                    11 non-null     int64  \n",
            " 31  2011                    11 non-null     int64  \n",
            " 32  2012                    11 non-null     int64  \n",
            " 33  2013                    9 non-null      float64\n",
            " 34  2014                    8 non-null      float64\n",
            " 35  2015                    1 non-null      float64\n",
            "dtypes: float64(15), int64(20), object(1)\n",
            "memory usage: 3.2+ KB\n"
          ],
          "name": "stdout"
        }
      ]
    },
    {
      "cell_type": "code",
      "metadata": {
        "colab": {
          "base_uri": "https://localhost:8080/",
          "height": 173
        },
        "id": "mfaONidbpmag",
        "outputId": "febdf557-8bee-4709-fd59-e9422a66589a"
      },
      "source": [
        "df4['1988'].describe()"
      ],
      "execution_count": 181,
      "outputs": [
        {
          "output_type": "display_data",
          "data": {
            "text/html": [
              "\n",
              "  <style>\n",
              "    pre {\n",
              "        white-space: pre-wrap;\n",
              "    }\n",
              "  </style>\n",
              "  "
            ],
            "text/plain": [
              "<IPython.core.display.HTML object>"
            ]
          },
          "metadata": {}
        },
        {
          "output_type": "display_data",
          "data": {
            "text/html": [
              "\n",
              "  <style>\n",
              "    pre {\n",
              "        white-space: pre-wrap;\n",
              "    }\n",
              "  </style>\n",
              "  "
            ],
            "text/plain": [
              "<IPython.core.display.HTML object>"
            ]
          },
          "metadata": {}
        },
        {
          "output_type": "execute_result",
          "data": {
            "text/plain": [
              "count     9.000000\n",
              "mean     26.555556\n",
              "std      19.894164\n",
              "min       5.000000\n",
              "25%       7.000000\n",
              "50%      20.000000\n",
              "75%      45.000000\n",
              "max      54.000000\n",
              "Name: 1988, dtype: float64"
            ]
          },
          "metadata": {},
          "execution_count": 181
        }
      ]
    },
    {
      "cell_type": "code",
      "metadata": {
        "colab": {
          "base_uri": "https://localhost:8080/",
          "height": 173
        },
        "id": "Gelti9VZrgQN",
        "outputId": "ff8d5521-954d-432f-e3bf-5e245567a594"
      },
      "source": [
        "df4['1999'].describe()"
      ],
      "execution_count": 182,
      "outputs": [
        {
          "output_type": "display_data",
          "data": {
            "text/html": [
              "\n",
              "  <style>\n",
              "    pre {\n",
              "        white-space: pre-wrap;\n",
              "    }\n",
              "  </style>\n",
              "  "
            ],
            "text/plain": [
              "<IPython.core.display.HTML object>"
            ]
          },
          "metadata": {}
        },
        {
          "output_type": "display_data",
          "data": {
            "text/html": [
              "\n",
              "  <style>\n",
              "    pre {\n",
              "        white-space: pre-wrap;\n",
              "    }\n",
              "  </style>\n",
              "  "
            ],
            "text/plain": [
              "<IPython.core.display.HTML object>"
            ]
          },
          "metadata": {}
        },
        {
          "output_type": "execute_result",
          "data": {
            "text/plain": [
              "count     11.000000\n",
              "mean      83.545455\n",
              "std       71.156677\n",
              "min        1.000000\n",
              "25%       43.500000\n",
              "50%       67.000000\n",
              "75%      117.000000\n",
              "max      252.000000\n",
              "Name: 1999, dtype: float64"
            ]
          },
          "metadata": {},
          "execution_count": 182
        }
      ]
    },
    {
      "cell_type": "code",
      "metadata": {
        "colab": {
          "base_uri": "https://localhost:8080/",
          "height": 35
        },
        "id": "Xdo1WkgkrpnS",
        "outputId": "d3ecac85-8eb2-4d20-8331-8e6e290ac54f"
      },
      "source": [
        "df4_1988_nonulls = df4[df4['1988'].notnull()]\n",
        "df4_1999_nonulls = df4[df4['1999'].notnull()]\n",
        "\n",
        "stats.ttest_ind(df4_1988_nonulls['1988'], df4_1999_nonulls['1999'])"
      ],
      "execution_count": 183,
      "outputs": [
        {
          "output_type": "display_data",
          "data": {
            "text/html": [
              "\n",
              "  <style>\n",
              "    pre {\n",
              "        white-space: pre-wrap;\n",
              "    }\n",
              "  </style>\n",
              "  "
            ],
            "text/plain": [
              "<IPython.core.display.HTML object>"
            ]
          },
          "metadata": {}
        },
        {
          "output_type": "display_data",
          "data": {
            "text/html": [
              "\n",
              "  <style>\n",
              "    pre {\n",
              "        white-space: pre-wrap;\n",
              "    }\n",
              "  </style>\n",
              "  "
            ],
            "text/plain": [
              "<IPython.core.display.HTML object>"
            ]
          },
          "metadata": {}
        },
        {
          "output_type": "execute_result",
          "data": {
            "text/plain": [
              "Ttest_indResult(statistic=-2.3192621556686293, pvalue=0.0323406122151648)"
            ]
          },
          "metadata": {},
          "execution_count": 183
        }
      ]
    },
    {
      "cell_type": "markdown",
      "metadata": {
        "id": "ukN4xkPs8TDK"
      },
      "source": [
        "**Findings**:  \n",
        "With a t statistic greater than 1.96 we have evidence to reject the null hypothesis that the distributions over Congressional Districts are the same. This test is significant at p value < 0.05."
      ]
    },
    {
      "cell_type": "markdown",
      "metadata": {
        "id": "IVIOWwItDHTA"
      },
      "source": [
        "# Conclusions\n",
        "These tests are for government workers who want to analyze the way the EPA's compliance-related resources are allocated and understand trends in cases over time and across the state of Virginia.\n",
        "\n",
        "Based in the results of this analysis, the EPA or other environmental regulation organization would know that the distribution of compliance issues over time has significant spikes that could warrant further study, but across the region the distribution is comparatively normal.\n",
        "\n",
        "The data provides evidence that increased significantly between FY 1988 and 1999, with FY 1999 as the highest peak out of all the years. They would also see that Congressional District 9 has a significantly greater distribution of data than the district with the lowest number, District 8. This could suggest its data spikes alongside the Fiscal Year distribution.\n",
        "\n",
        "### Results and Further Study\n",
        "Congressional District 9 could require more resources in environmental regulation. That region and others like it require further study, including a trends analysis during the decade between 1988 and 1999. Adding context is essential: Future studies should include information on administration changes, new environmental compliance requirements, and significant changes in industrial and data-collecting technologies that could all account for anomalies."
      ]
    }
  ]
}